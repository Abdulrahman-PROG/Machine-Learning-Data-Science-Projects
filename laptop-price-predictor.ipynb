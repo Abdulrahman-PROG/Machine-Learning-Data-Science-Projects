{
 "cells": [
  {
   "cell_type": "markdown",
   "id": "3525bb41",
   "metadata": {
    "papermill": {
     "duration": 0.015673,
     "end_time": "2023-12-29T18:55:39.286582",
     "exception": false,
     "start_time": "2023-12-29T18:55:39.270909",
     "status": "completed"
    },
    "tags": []
   },
   "source": []
  },
  {
   "cell_type": "markdown",
   "id": "7ce04573",
   "metadata": {
    "papermill": {
     "duration": 0.014691,
     "end_time": "2023-12-29T18:55:39.316242",
     "exception": false,
     "start_time": "2023-12-29T18:55:39.301551",
     "status": "completed"
    },
    "tags": []
   },
   "source": [
    "# Description of Laptop Prices:\n",
    "\n",
    "**Laptop prices are subject to a multitude of factors, making them dynamic in the consumer electronics market. These factors include the specifications of the laptop (such as processor speed, RAM capacity, storage size, and display quality), brand reputation, technological advancements, market demand, and economic conditions. The range of laptop prices is vast, from budget-friendly options to high-end models catering to specific professional or gaming needs.**\n",
    "\n",
    "**Consumers often face the challenge of navigating through various options to find a laptop that meets their requirements and budget constraints. Additionally, market fluctuations and the rapid pace of technological advancements contribute to the complexity of understanding and predicting laptop prices.**"
   ]
  },
  {
   "cell_type": "markdown",
   "id": "7f354816",
   "metadata": {
    "papermill": {
     "duration": 0.014703,
     "end_time": "2023-12-29T18:55:39.346169",
     "exception": false,
     "start_time": "2023-12-29T18:55:39.331466",
     "status": "completed"
    },
    "tags": []
   },
   "source": []
  },
  {
   "cell_type": "markdown",
   "id": "c2ddbd19",
   "metadata": {
    "papermill": {
     "duration": 0.01466,
     "end_time": "2023-12-29T18:55:39.375764",
     "exception": false,
     "start_time": "2023-12-29T18:55:39.361104",
     "status": "completed"
    },
    "tags": []
   },
   "source": [
    "# Machine Learning Solutions for Laptop Price Prediction:"
   ]
  },
  {
   "cell_type": "markdown",
   "id": "50633549",
   "metadata": {
    "papermill": {
     "duration": 0.014522,
     "end_time": "2023-12-29T18:55:39.405240",
     "exception": false,
     "start_time": "2023-12-29T18:55:39.390718",
     "status": "completed"
    },
    "tags": []
   },
   "source": [
    "**Machine learning (ML) can play a crucial role in addressing the challenges associated with predicting laptop prices. Here are several ways in which machine learning can be applied to provide insights and assistance in understanding and forecasting laptop prices:**"
   ]
  },
  {
   "cell_type": "markdown",
   "id": "90fcc5ef",
   "metadata": {
    "papermill": {
     "duration": 0.05412,
     "end_time": "2023-12-29T18:55:39.474016",
     "exception": false,
     "start_time": "2023-12-29T18:55:39.419896",
     "status": "completed"
    },
    "tags": []
   },
   "source": [
    "    Feature Analysis and Price Correlation:\n",
    "        ML algorithms can analyze historical laptop price data along with the specifications and features of various models. By identifying correlations between specific features and price points, machine learning models can help consumers understand which features contribute the most to a laptop's cost.\n",
    "\n",
    "    Market Trend Analysis:\n",
    "        ML models can process large datasets containing information about market trends, consumer preferences, and economic conditions. This analysis can help predict how external factors might influence the overall demand for laptops and subsequently impact prices.\n",
    "\n",
    "    Competitor Price Monitoring:\n",
    "        Machine learning can automate the process of monitoring competitor prices in real-time. By analyzing this data, retailers and manufacturers can adjust their pricing strategies to stay competitive in the market.\n",
    "\n",
    "    Sentiment Analysis:\n",
    "        ML algorithms can perform sentiment analysis on customer reviews, social media mentions, and other textual data to gauge public perception of different laptop models and brands. This information can be valuable in predicting the popularity and, consequently, the pricing trends of specific laptops.\n",
    "\n",
    "    Supply Chain Optimization:\n",
    "        ML can assist in optimizing the supply chain by predicting demand for specific laptop configurations. This can help manufacturers manage inventory more efficiently, reducing the likelihood of overstock or shortages that could impact pricing.\n",
    "\n",
    "    Dynamic Pricing Strategies:\n",
    "        Retailers can use machine learning to implement dynamic pricing strategies that take into account real-time market conditions, competitor prices, and consumer demand. This approach allows for more agile and responsive pricing adjustments.\n",
    "\n",
    "    Personalized Recommendations:\n",
    "        Machine learning models can analyze user preferences, behaviors, and historical purchase data to provide personalized recommendations. This can help consumers find laptops that align with their specific needs and budget constraints."
   ]
  },
  {
   "cell_type": "markdown",
   "id": "3922c044",
   "metadata": {
    "papermill": {
     "duration": 0.014426,
     "end_time": "2023-12-29T18:55:39.503180",
     "exception": false,
     "start_time": "2023-12-29T18:55:39.488754",
     "status": "completed"
    },
    "tags": []
   },
   "source": []
  },
  {
   "cell_type": "markdown",
   "id": "74b1a3c1",
   "metadata": {
    "papermill": {
     "duration": 0.014446,
     "end_time": "2023-12-29T18:55:39.532176",
     "exception": false,
     "start_time": "2023-12-29T18:55:39.517730",
     "status": "completed"
    },
    "tags": []
   },
   "source": [
    "**While machine learning offers promising solutions for understanding and predicting laptop prices, it's important to consider the ethical implications and potential biases in the data used to train these models. Moreover, transparency and accountability in pricing practices are crucial to ensure fair and responsible use of machine learning in the consumer electronics market. Collaboration between data scientists, retailers, and regulatory bodies can contribute to the development of ethical and effective machine learning solutions in this domain.**"
   ]
  },
  {
   "cell_type": "markdown",
   "id": "160e231f",
   "metadata": {
    "papermill": {
     "duration": 0.014404,
     "end_time": "2023-12-29T18:55:39.561085",
     "exception": false,
     "start_time": "2023-12-29T18:55:39.546681",
     "status": "completed"
    },
    "tags": []
   },
   "source": [
    "# Data Cleaning"
   ]
  },
  {
   "cell_type": "code",
   "execution_count": 1,
   "id": "801b3f3a",
   "metadata": {
    "execution": {
     "iopub.execute_input": "2023-12-29T18:55:39.592345Z",
     "iopub.status.busy": "2023-12-29T18:55:39.591839Z",
     "iopub.status.idle": "2023-12-29T18:55:40.237769Z",
     "shell.execute_reply": "2023-12-29T18:55:40.236786Z"
    },
    "papermill": {
     "duration": 0.664451,
     "end_time": "2023-12-29T18:55:40.240115",
     "exception": false,
     "start_time": "2023-12-29T18:55:39.575664",
     "status": "completed"
    },
    "tags": []
   },
   "outputs": [],
   "source": [
    "import numpy as np # linear algebra\n",
    "import pandas as pd # data processing, CSV file I/O (e.g. pd.read_csv)"
   ]
  },
  {
   "cell_type": "code",
   "execution_count": 2,
   "id": "6667c7af",
   "metadata": {
    "execution": {
     "iopub.execute_input": "2023-12-29T18:55:40.272705Z",
     "iopub.status.busy": "2023-12-29T18:55:40.272048Z",
     "iopub.status.idle": "2023-12-29T18:55:40.298793Z",
     "shell.execute_reply": "2023-12-29T18:55:40.297378Z"
    },
    "papermill": {
     "duration": 0.045478,
     "end_time": "2023-12-29T18:55:40.301283",
     "exception": false,
     "start_time": "2023-12-29T18:55:40.255805",
     "status": "completed"
    },
    "tags": []
   },
   "outputs": [],
   "source": [
    "df = pd.read_csv('/kaggle/input/laptop-price-dataset/laptop_data.csv')"
   ]
  },
  {
   "cell_type": "code",
   "execution_count": 3,
   "id": "431d1f03",
   "metadata": {
    "execution": {
     "iopub.execute_input": "2023-12-29T18:55:40.335618Z",
     "iopub.status.busy": "2023-12-29T18:55:40.334991Z",
     "iopub.status.idle": "2023-12-29T18:55:40.357439Z",
     "shell.execute_reply": "2023-12-29T18:55:40.356608Z"
    },
    "papermill": {
     "duration": 0.041806,
     "end_time": "2023-12-29T18:55:40.359252",
     "exception": false,
     "start_time": "2023-12-29T18:55:40.317446",
     "status": "completed"
    },
    "tags": []
   },
   "outputs": [
    {
     "data": {
      "text/html": [
       "<div>\n",
       "<style scoped>\n",
       "    .dataframe tbody tr th:only-of-type {\n",
       "        vertical-align: middle;\n",
       "    }\n",
       "\n",
       "    .dataframe tbody tr th {\n",
       "        vertical-align: top;\n",
       "    }\n",
       "\n",
       "    .dataframe thead th {\n",
       "        text-align: right;\n",
       "    }\n",
       "</style>\n",
       "<table border=\"1\" class=\"dataframe\">\n",
       "  <thead>\n",
       "    <tr style=\"text-align: right;\">\n",
       "      <th></th>\n",
       "      <th>Unnamed: 0</th>\n",
       "      <th>Company</th>\n",
       "      <th>TypeName</th>\n",
       "      <th>Inches</th>\n",
       "      <th>ScreenResolution</th>\n",
       "      <th>Cpu</th>\n",
       "      <th>Ram</th>\n",
       "      <th>Memory</th>\n",
       "      <th>Gpu</th>\n",
       "      <th>OpSys</th>\n",
       "      <th>Weight</th>\n",
       "      <th>Price</th>\n",
       "    </tr>\n",
       "  </thead>\n",
       "  <tbody>\n",
       "    <tr>\n",
       "      <th>0</th>\n",
       "      <td>0</td>\n",
       "      <td>Apple</td>\n",
       "      <td>Ultrabook</td>\n",
       "      <td>13.3</td>\n",
       "      <td>IPS Panel Retina Display 2560x1600</td>\n",
       "      <td>Intel Core i5 2.3GHz</td>\n",
       "      <td>8GB</td>\n",
       "      <td>128GB SSD</td>\n",
       "      <td>Intel Iris Plus Graphics 640</td>\n",
       "      <td>macOS</td>\n",
       "      <td>1.37kg</td>\n",
       "      <td>71378.6832</td>\n",
       "    </tr>\n",
       "    <tr>\n",
       "      <th>1</th>\n",
       "      <td>1</td>\n",
       "      <td>Apple</td>\n",
       "      <td>Ultrabook</td>\n",
       "      <td>13.3</td>\n",
       "      <td>1440x900</td>\n",
       "      <td>Intel Core i5 1.8GHz</td>\n",
       "      <td>8GB</td>\n",
       "      <td>128GB Flash Storage</td>\n",
       "      <td>Intel HD Graphics 6000</td>\n",
       "      <td>macOS</td>\n",
       "      <td>1.34kg</td>\n",
       "      <td>47895.5232</td>\n",
       "    </tr>\n",
       "    <tr>\n",
       "      <th>2</th>\n",
       "      <td>2</td>\n",
       "      <td>HP</td>\n",
       "      <td>Notebook</td>\n",
       "      <td>15.6</td>\n",
       "      <td>Full HD 1920x1080</td>\n",
       "      <td>Intel Core i5 7200U 2.5GHz</td>\n",
       "      <td>8GB</td>\n",
       "      <td>256GB SSD</td>\n",
       "      <td>Intel HD Graphics 620</td>\n",
       "      <td>No OS</td>\n",
       "      <td>1.86kg</td>\n",
       "      <td>30636.0000</td>\n",
       "    </tr>\n",
       "    <tr>\n",
       "      <th>3</th>\n",
       "      <td>3</td>\n",
       "      <td>Apple</td>\n",
       "      <td>Ultrabook</td>\n",
       "      <td>15.4</td>\n",
       "      <td>IPS Panel Retina Display 2880x1800</td>\n",
       "      <td>Intel Core i7 2.7GHz</td>\n",
       "      <td>16GB</td>\n",
       "      <td>512GB SSD</td>\n",
       "      <td>AMD Radeon Pro 455</td>\n",
       "      <td>macOS</td>\n",
       "      <td>1.83kg</td>\n",
       "      <td>135195.3360</td>\n",
       "    </tr>\n",
       "    <tr>\n",
       "      <th>4</th>\n",
       "      <td>4</td>\n",
       "      <td>Apple</td>\n",
       "      <td>Ultrabook</td>\n",
       "      <td>13.3</td>\n",
       "      <td>IPS Panel Retina Display 2560x1600</td>\n",
       "      <td>Intel Core i5 3.1GHz</td>\n",
       "      <td>8GB</td>\n",
       "      <td>256GB SSD</td>\n",
       "      <td>Intel Iris Plus Graphics 650</td>\n",
       "      <td>macOS</td>\n",
       "      <td>1.37kg</td>\n",
       "      <td>96095.8080</td>\n",
       "    </tr>\n",
       "  </tbody>\n",
       "</table>\n",
       "</div>"
      ],
      "text/plain": [
       "   Unnamed: 0 Company   TypeName  Inches                    ScreenResolution  \\\n",
       "0           0   Apple  Ultrabook    13.3  IPS Panel Retina Display 2560x1600   \n",
       "1           1   Apple  Ultrabook    13.3                            1440x900   \n",
       "2           2      HP   Notebook    15.6                   Full HD 1920x1080   \n",
       "3           3   Apple  Ultrabook    15.4  IPS Panel Retina Display 2880x1800   \n",
       "4           4   Apple  Ultrabook    13.3  IPS Panel Retina Display 2560x1600   \n",
       "\n",
       "                          Cpu   Ram               Memory  \\\n",
       "0        Intel Core i5 2.3GHz   8GB            128GB SSD   \n",
       "1        Intel Core i5 1.8GHz   8GB  128GB Flash Storage   \n",
       "2  Intel Core i5 7200U 2.5GHz   8GB            256GB SSD   \n",
       "3        Intel Core i7 2.7GHz  16GB            512GB SSD   \n",
       "4        Intel Core i5 3.1GHz   8GB            256GB SSD   \n",
       "\n",
       "                            Gpu  OpSys  Weight        Price  \n",
       "0  Intel Iris Plus Graphics 640  macOS  1.37kg   71378.6832  \n",
       "1        Intel HD Graphics 6000  macOS  1.34kg   47895.5232  \n",
       "2         Intel HD Graphics 620  No OS  1.86kg   30636.0000  \n",
       "3            AMD Radeon Pro 455  macOS  1.83kg  135195.3360  \n",
       "4  Intel Iris Plus Graphics 650  macOS  1.37kg   96095.8080  "
      ]
     },
     "execution_count": 3,
     "metadata": {},
     "output_type": "execute_result"
    }
   ],
   "source": [
    "df.head()"
   ]
  },
  {
   "cell_type": "code",
   "execution_count": 4,
   "id": "da50d75a",
   "metadata": {
    "execution": {
     "iopub.execute_input": "2023-12-29T18:55:40.392492Z",
     "iopub.status.busy": "2023-12-29T18:55:40.391993Z",
     "iopub.status.idle": "2023-12-29T18:55:40.416627Z",
     "shell.execute_reply": "2023-12-29T18:55:40.415004Z"
    },
    "papermill": {
     "duration": 0.043335,
     "end_time": "2023-12-29T18:55:40.418344",
     "exception": false,
     "start_time": "2023-12-29T18:55:40.375009",
     "status": "completed"
    },
    "tags": []
   },
   "outputs": [
    {
     "name": "stdout",
     "output_type": "stream",
     "text": [
      "<class 'pandas.core.frame.DataFrame'>\n",
      "RangeIndex: 1303 entries, 0 to 1302\n",
      "Data columns (total 12 columns):\n",
      " #   Column            Non-Null Count  Dtype  \n",
      "---  ------            --------------  -----  \n",
      " 0   Unnamed: 0        1303 non-null   int64  \n",
      " 1   Company           1303 non-null   object \n",
      " 2   TypeName          1303 non-null   object \n",
      " 3   Inches            1303 non-null   float64\n",
      " 4   ScreenResolution  1303 non-null   object \n",
      " 5   Cpu               1303 non-null   object \n",
      " 6   Ram               1303 non-null   object \n",
      " 7   Memory            1303 non-null   object \n",
      " 8   Gpu               1303 non-null   object \n",
      " 9   OpSys             1303 non-null   object \n",
      " 10  Weight            1303 non-null   object \n",
      " 11  Price             1303 non-null   float64\n",
      "dtypes: float64(2), int64(1), object(9)\n",
      "memory usage: 122.3+ KB\n"
     ]
    }
   ],
   "source": [
    "df.info()"
   ]
  },
  {
   "cell_type": "code",
   "execution_count": 5,
   "id": "ee5865dc",
   "metadata": {
    "execution": {
     "iopub.execute_input": "2023-12-29T18:55:40.451261Z",
     "iopub.status.busy": "2023-12-29T18:55:40.450628Z",
     "iopub.status.idle": "2023-12-29T18:55:40.455857Z",
     "shell.execute_reply": "2023-12-29T18:55:40.455010Z"
    },
    "papermill": {
     "duration": 0.023436,
     "end_time": "2023-12-29T18:55:40.457513",
     "exception": false,
     "start_time": "2023-12-29T18:55:40.434077",
     "status": "completed"
    },
    "tags": []
   },
   "outputs": [
    {
     "data": {
      "text/plain": [
       "(1303, 12)"
      ]
     },
     "execution_count": 5,
     "metadata": {},
     "output_type": "execute_result"
    }
   ],
   "source": [
    "df.shape"
   ]
  },
  {
   "cell_type": "code",
   "execution_count": 6,
   "id": "41d6da7e",
   "metadata": {
    "execution": {
     "iopub.execute_input": "2023-12-29T18:55:40.489577Z",
     "iopub.status.busy": "2023-12-29T18:55:40.489241Z",
     "iopub.status.idle": "2023-12-29T18:55:40.501445Z",
     "shell.execute_reply": "2023-12-29T18:55:40.500455Z"
    },
    "papermill": {
     "duration": 0.030153,
     "end_time": "2023-12-29T18:55:40.503053",
     "exception": false,
     "start_time": "2023-12-29T18:55:40.472900",
     "status": "completed"
    },
    "tags": []
   },
   "outputs": [
    {
     "data": {
      "text/plain": [
       "0"
      ]
     },
     "execution_count": 6,
     "metadata": {},
     "output_type": "execute_result"
    }
   ],
   "source": [
    "df.duplicated().sum()"
   ]
  },
  {
   "cell_type": "code",
   "execution_count": 7,
   "id": "d6f985a0",
   "metadata": {
    "execution": {
     "iopub.execute_input": "2023-12-29T18:55:40.535840Z",
     "iopub.status.busy": "2023-12-29T18:55:40.535233Z",
     "iopub.status.idle": "2023-12-29T18:55:40.542639Z",
     "shell.execute_reply": "2023-12-29T18:55:40.541609Z"
    },
    "papermill": {
     "duration": 0.025613,
     "end_time": "2023-12-29T18:55:40.544206",
     "exception": false,
     "start_time": "2023-12-29T18:55:40.518593",
     "status": "completed"
    },
    "tags": []
   },
   "outputs": [
    {
     "data": {
      "text/plain": [
       "Unnamed: 0          0\n",
       "Company             0\n",
       "TypeName            0\n",
       "Inches              0\n",
       "ScreenResolution    0\n",
       "Cpu                 0\n",
       "Ram                 0\n",
       "Memory              0\n",
       "Gpu                 0\n",
       "OpSys               0\n",
       "Weight              0\n",
       "Price               0\n",
       "dtype: int64"
      ]
     },
     "execution_count": 7,
     "metadata": {},
     "output_type": "execute_result"
    }
   ],
   "source": [
    "df.isna().sum()"
   ]
  },
  {
   "cell_type": "code",
   "execution_count": 8,
   "id": "822ebf37",
   "metadata": {
    "execution": {
     "iopub.execute_input": "2023-12-29T18:55:40.577162Z",
     "iopub.status.busy": "2023-12-29T18:55:40.576546Z",
     "iopub.status.idle": "2023-12-29T18:55:40.582878Z",
     "shell.execute_reply": "2023-12-29T18:55:40.582281Z"
    },
    "papermill": {
     "duration": 0.024846,
     "end_time": "2023-12-29T18:55:40.584585",
     "exception": false,
     "start_time": "2023-12-29T18:55:40.559739",
     "status": "completed"
    },
    "tags": []
   },
   "outputs": [],
   "source": [
    "df = df.drop('Unnamed: 0',axis=1)"
   ]
  },
  {
   "cell_type": "code",
   "execution_count": 9,
   "id": "45392b57",
   "metadata": {
    "execution": {
     "iopub.execute_input": "2023-12-29T18:55:40.617536Z",
     "iopub.status.busy": "2023-12-29T18:55:40.616896Z",
     "iopub.status.idle": "2023-12-29T18:55:40.624096Z",
     "shell.execute_reply": "2023-12-29T18:55:40.622493Z"
    },
    "papermill": {
     "duration": 0.026535,
     "end_time": "2023-12-29T18:55:40.626652",
     "exception": false,
     "start_time": "2023-12-29T18:55:40.600117",
     "status": "completed"
    },
    "tags": []
   },
   "outputs": [],
   "source": [
    "df['Ram'] = df['Ram'].str.replace('GB','')\n",
    "df['Weight'] = df['Weight'].str.replace('kg','')"
   ]
  },
  {
   "cell_type": "code",
   "execution_count": 10,
   "id": "aa43f8c6",
   "metadata": {
    "execution": {
     "iopub.execute_input": "2023-12-29T18:55:40.660349Z",
     "iopub.status.busy": "2023-12-29T18:55:40.659898Z",
     "iopub.status.idle": "2023-12-29T18:55:40.676530Z",
     "shell.execute_reply": "2023-12-29T18:55:40.675045Z"
    },
    "papermill": {
     "duration": 0.035443,
     "end_time": "2023-12-29T18:55:40.678811",
     "exception": false,
     "start_time": "2023-12-29T18:55:40.643368",
     "status": "completed"
    },
    "tags": []
   },
   "outputs": [
    {
     "data": {
      "text/html": [
       "<div>\n",
       "<style scoped>\n",
       "    .dataframe tbody tr th:only-of-type {\n",
       "        vertical-align: middle;\n",
       "    }\n",
       "\n",
       "    .dataframe tbody tr th {\n",
       "        vertical-align: top;\n",
       "    }\n",
       "\n",
       "    .dataframe thead th {\n",
       "        text-align: right;\n",
       "    }\n",
       "</style>\n",
       "<table border=\"1\" class=\"dataframe\">\n",
       "  <thead>\n",
       "    <tr style=\"text-align: right;\">\n",
       "      <th></th>\n",
       "      <th>Company</th>\n",
       "      <th>TypeName</th>\n",
       "      <th>Inches</th>\n",
       "      <th>ScreenResolution</th>\n",
       "      <th>Cpu</th>\n",
       "      <th>Ram</th>\n",
       "      <th>Memory</th>\n",
       "      <th>Gpu</th>\n",
       "      <th>OpSys</th>\n",
       "      <th>Weight</th>\n",
       "      <th>Price</th>\n",
       "    </tr>\n",
       "  </thead>\n",
       "  <tbody>\n",
       "    <tr>\n",
       "      <th>0</th>\n",
       "      <td>Apple</td>\n",
       "      <td>Ultrabook</td>\n",
       "      <td>13.3</td>\n",
       "      <td>IPS Panel Retina Display 2560x1600</td>\n",
       "      <td>Intel Core i5 2.3GHz</td>\n",
       "      <td>8</td>\n",
       "      <td>128GB SSD</td>\n",
       "      <td>Intel Iris Plus Graphics 640</td>\n",
       "      <td>macOS</td>\n",
       "      <td>1.37</td>\n",
       "      <td>71378.6832</td>\n",
       "    </tr>\n",
       "    <tr>\n",
       "      <th>1</th>\n",
       "      <td>Apple</td>\n",
       "      <td>Ultrabook</td>\n",
       "      <td>13.3</td>\n",
       "      <td>1440x900</td>\n",
       "      <td>Intel Core i5 1.8GHz</td>\n",
       "      <td>8</td>\n",
       "      <td>128GB Flash Storage</td>\n",
       "      <td>Intel HD Graphics 6000</td>\n",
       "      <td>macOS</td>\n",
       "      <td>1.34</td>\n",
       "      <td>47895.5232</td>\n",
       "    </tr>\n",
       "    <tr>\n",
       "      <th>2</th>\n",
       "      <td>HP</td>\n",
       "      <td>Notebook</td>\n",
       "      <td>15.6</td>\n",
       "      <td>Full HD 1920x1080</td>\n",
       "      <td>Intel Core i5 7200U 2.5GHz</td>\n",
       "      <td>8</td>\n",
       "      <td>256GB SSD</td>\n",
       "      <td>Intel HD Graphics 620</td>\n",
       "      <td>No OS</td>\n",
       "      <td>1.86</td>\n",
       "      <td>30636.0000</td>\n",
       "    </tr>\n",
       "    <tr>\n",
       "      <th>3</th>\n",
       "      <td>Apple</td>\n",
       "      <td>Ultrabook</td>\n",
       "      <td>15.4</td>\n",
       "      <td>IPS Panel Retina Display 2880x1800</td>\n",
       "      <td>Intel Core i7 2.7GHz</td>\n",
       "      <td>16</td>\n",
       "      <td>512GB SSD</td>\n",
       "      <td>AMD Radeon Pro 455</td>\n",
       "      <td>macOS</td>\n",
       "      <td>1.83</td>\n",
       "      <td>135195.3360</td>\n",
       "    </tr>\n",
       "    <tr>\n",
       "      <th>4</th>\n",
       "      <td>Apple</td>\n",
       "      <td>Ultrabook</td>\n",
       "      <td>13.3</td>\n",
       "      <td>IPS Panel Retina Display 2560x1600</td>\n",
       "      <td>Intel Core i5 3.1GHz</td>\n",
       "      <td>8</td>\n",
       "      <td>256GB SSD</td>\n",
       "      <td>Intel Iris Plus Graphics 650</td>\n",
       "      <td>macOS</td>\n",
       "      <td>1.37</td>\n",
       "      <td>96095.8080</td>\n",
       "    </tr>\n",
       "  </tbody>\n",
       "</table>\n",
       "</div>"
      ],
      "text/plain": [
       "  Company   TypeName  Inches                    ScreenResolution  \\\n",
       "0   Apple  Ultrabook    13.3  IPS Panel Retina Display 2560x1600   \n",
       "1   Apple  Ultrabook    13.3                            1440x900   \n",
       "2      HP   Notebook    15.6                   Full HD 1920x1080   \n",
       "3   Apple  Ultrabook    15.4  IPS Panel Retina Display 2880x1800   \n",
       "4   Apple  Ultrabook    13.3  IPS Panel Retina Display 2560x1600   \n",
       "\n",
       "                          Cpu Ram               Memory  \\\n",
       "0        Intel Core i5 2.3GHz   8            128GB SSD   \n",
       "1        Intel Core i5 1.8GHz   8  128GB Flash Storage   \n",
       "2  Intel Core i5 7200U 2.5GHz   8            256GB SSD   \n",
       "3        Intel Core i7 2.7GHz  16            512GB SSD   \n",
       "4        Intel Core i5 3.1GHz   8            256GB SSD   \n",
       "\n",
       "                            Gpu  OpSys Weight        Price  \n",
       "0  Intel Iris Plus Graphics 640  macOS   1.37   71378.6832  \n",
       "1        Intel HD Graphics 6000  macOS   1.34   47895.5232  \n",
       "2         Intel HD Graphics 620  No OS   1.86   30636.0000  \n",
       "3            AMD Radeon Pro 455  macOS   1.83  135195.3360  \n",
       "4  Intel Iris Plus Graphics 650  macOS   1.37   96095.8080  "
      ]
     },
     "execution_count": 10,
     "metadata": {},
     "output_type": "execute_result"
    }
   ],
   "source": [
    "df.head()"
   ]
  },
  {
   "cell_type": "code",
   "execution_count": 11,
   "id": "04a365b7",
   "metadata": {
    "execution": {
     "iopub.execute_input": "2023-12-29T18:55:40.717253Z",
     "iopub.status.busy": "2023-12-29T18:55:40.716750Z",
     "iopub.status.idle": "2023-12-29T18:55:40.721531Z",
     "shell.execute_reply": "2023-12-29T18:55:40.720911Z"
    },
    "papermill": {
     "duration": 0.025656,
     "end_time": "2023-12-29T18:55:40.723067",
     "exception": false,
     "start_time": "2023-12-29T18:55:40.697411",
     "status": "completed"
    },
    "tags": []
   },
   "outputs": [],
   "source": [
    "df['Ram'] = df['Ram'].astype('int32')\n",
    "df['Weight'] = df['Weight'].astype('float32')"
   ]
  },
  {
   "cell_type": "code",
   "execution_count": 12,
   "id": "01713182",
   "metadata": {
    "execution": {
     "iopub.execute_input": "2023-12-29T18:55:40.757608Z",
     "iopub.status.busy": "2023-12-29T18:55:40.756806Z",
     "iopub.status.idle": "2023-12-29T18:55:40.769224Z",
     "shell.execute_reply": "2023-12-29T18:55:40.767926Z"
    },
    "papermill": {
     "duration": 0.031383,
     "end_time": "2023-12-29T18:55:40.771105",
     "exception": false,
     "start_time": "2023-12-29T18:55:40.739722",
     "status": "completed"
    },
    "tags": []
   },
   "outputs": [
    {
     "name": "stdout",
     "output_type": "stream",
     "text": [
      "<class 'pandas.core.frame.DataFrame'>\n",
      "RangeIndex: 1303 entries, 0 to 1302\n",
      "Data columns (total 11 columns):\n",
      " #   Column            Non-Null Count  Dtype  \n",
      "---  ------            --------------  -----  \n",
      " 0   Company           1303 non-null   object \n",
      " 1   TypeName          1303 non-null   object \n",
      " 2   Inches            1303 non-null   float64\n",
      " 3   ScreenResolution  1303 non-null   object \n",
      " 4   Cpu               1303 non-null   object \n",
      " 5   Ram               1303 non-null   int32  \n",
      " 6   Memory            1303 non-null   object \n",
      " 7   Gpu               1303 non-null   object \n",
      " 8   OpSys             1303 non-null   object \n",
      " 9   Weight            1303 non-null   float32\n",
      " 10  Price             1303 non-null   float64\n",
      "dtypes: float32(1), float64(2), int32(1), object(7)\n",
      "memory usage: 101.9+ KB\n"
     ]
    }
   ],
   "source": [
    "df.info()"
   ]
  },
  {
   "cell_type": "markdown",
   "id": "456d0d04",
   "metadata": {
    "papermill": {
     "duration": 0.015728,
     "end_time": "2023-12-29T18:55:40.803482",
     "exception": false,
     "start_time": "2023-12-29T18:55:40.787754",
     "status": "completed"
    },
    "tags": []
   },
   "source": [
    "# EDA & Feature Engineering"
   ]
  },
  {
   "cell_type": "code",
   "execution_count": 13,
   "id": "8b836969",
   "metadata": {
    "execution": {
     "iopub.execute_input": "2023-12-29T18:55:40.836805Z",
     "iopub.status.busy": "2023-12-29T18:55:40.836523Z",
     "iopub.status.idle": "2023-12-29T18:55:42.049249Z",
     "shell.execute_reply": "2023-12-29T18:55:42.048303Z"
    },
    "papermill": {
     "duration": 1.232399,
     "end_time": "2023-12-29T18:55:42.051469",
     "exception": false,
     "start_time": "2023-12-29T18:55:40.819070",
     "status": "completed"
    },
    "tags": []
   },
   "outputs": [],
   "source": [
    "import seaborn as sns\n",
    "import matplotlib.pyplot as plt"
   ]
  },
  {
   "cell_type": "code",
   "execution_count": 14,
   "id": "feece9ac",
   "metadata": {
    "execution": {
     "iopub.execute_input": "2023-12-29T18:55:42.086184Z",
     "iopub.status.busy": "2023-12-29T18:55:42.085870Z",
     "iopub.status.idle": "2023-12-29T18:55:42.419831Z",
     "shell.execute_reply": "2023-12-29T18:55:42.418690Z"
    },
    "papermill": {
     "duration": 0.354022,
     "end_time": "2023-12-29T18:55:42.422047",
     "exception": false,
     "start_time": "2023-12-29T18:55:42.068025",
     "status": "completed"
    },
    "tags": []
   },
   "outputs": [
    {
     "name": "stderr",
     "output_type": "stream",
     "text": [
      "/tmp/ipykernel_20/834922981.py:1: UserWarning: \n",
      "\n",
      "`distplot` is a deprecated function and will be removed in seaborn v0.14.0.\n",
      "\n",
      "Please adapt your code to use either `displot` (a figure-level function with\n",
      "similar flexibility) or `histplot` (an axes-level function for histograms).\n",
      "\n",
      "For a guide to updating your code to use the new functions, please see\n",
      "https://gist.github.com/mwaskom/de44147ed2974457ad6372750bbe5751\n",
      "\n",
      "  sns.distplot(df['Price'])\n"
     ]
    },
    {
     "data": {
      "text/plain": [
       "<Axes: xlabel='Price', ylabel='Density'>"
      ]
     },
     "execution_count": 14,
     "metadata": {},
     "output_type": "execute_result"
    },
    {
     "data": {
      "image/png": "[encoded data removed]",
      "text/plain": [
       "<Figure size 640x480 with 1 Axes>"
      ]
     },
     "metadata": {},
     "output_type": "display_data"
    }
   ],
   "source": [
    "sns.distplot(df['Price'])"
   ]
  },
  {
   "cell_type": "code",
   "execution_count": 15,
   "id": "96debaab",
   "metadata": {
    "execution": {
     "iopub.execute_input": "2023-12-29T18:55:42.459631Z",
     "iopub.status.busy": "2023-12-29T18:55:42.458963Z",
     "iopub.status.idle": "2023-12-29T18:55:42.727934Z",
     "shell.execute_reply": "2023-12-29T18:55:42.726886Z"
    },
    "papermill": {
     "duration": 0.290326,
     "end_time": "2023-12-29T18:55:42.730333",
     "exception": false,
     "start_time": "2023-12-29T18:55:42.440007",
     "status": "completed"
    },
    "tags": []
   },
   "outputs": [
    {
     "data": {
      "text/plain": [
       "<Axes: xlabel='Company'>"
      ]
     },
     "execution_count": 15,
     "metadata": {},
     "output_type": "execute_result"
    },
    {
     "data": {
      "image/png": "[encoded data removed]",
      "text/plain": [
       "<Figure size 640x480 with 1 Axes>"
      ]
     },
     "metadata": {},
     "output_type": "display_data"
    }
   ],
   "source": [
    "df['Company'].value_counts().plot(kind='bar')"
   ]
  },
  {
   "cell_type": "code",
   "execution_count": 16,
   "id": "8790c344",
   "metadata": {
    "execution": {
     "iopub.execute_input": "2023-12-29T18:55:42.766233Z",
     "iopub.status.busy": "2023-12-29T18:55:42.765857Z",
     "iopub.status.idle": "2023-12-29T18:55:43.346051Z",
     "shell.execute_reply": "2023-12-29T18:55:43.344822Z"
    },
    "papermill": {
     "duration": 0.600728,
     "end_time": "2023-12-29T18:55:43.348506",
     "exception": false,
     "start_time": "2023-12-29T18:55:42.747778",
     "status": "completed"
    },
    "tags": []
   },
   "outputs": [
    {
     "data": {
      "image/png": "[encoded data removed]",
      "text/plain": [
       "<Figure size 640x480 with 1 Axes>"
      ]
     },
     "metadata": {},
     "output_type": "display_data"
    }
   ],
   "source": [
    "sns.barplot(x=df['Company'],y=df['Price'])\n",
    "plt.xticks(rotation='vertical')\n",
    "plt.show()"
   ]
  },
  {
   "cell_type": "code",
   "execution_count": 17,
   "id": "db76094b",
   "metadata": {
    "execution": {
     "iopub.execute_input": "2023-12-29T18:55:43.384713Z",
     "iopub.status.busy": "2023-12-29T18:55:43.384389Z",
     "iopub.status.idle": "2023-12-29T18:55:43.578913Z",
     "shell.execute_reply": "2023-12-29T18:55:43.577190Z"
    },
    "papermill": {
     "duration": 0.214714,
     "end_time": "2023-12-29T18:55:43.580780",
     "exception": false,
     "start_time": "2023-12-29T18:55:43.366066",
     "status": "completed"
    },
    "tags": []
   },
   "outputs": [
    {
     "data": {
      "text/plain": [
       "<Axes: xlabel='TypeName'>"
      ]
     },
     "execution_count": 17,
     "metadata": {},
     "output_type": "execute_result"
    },
    {
     "data": {
      "image/png": "[encoded data removed]",
      "text/plain": [
       "<Figure size 640x480 with 1 Axes>"
      ]
     },
     "metadata": {},
     "output_type": "display_data"
    }
   ],
   "source": [
    "df['TypeName'].value_counts().plot(kind='bar')"
   ]
  },
  {
   "cell_type": "code",
   "execution_count": 18,
   "id": "bf7ec26c",
   "metadata": {
    "execution": {
     "iopub.execute_input": "2023-12-29T18:55:43.624624Z",
     "iopub.status.busy": "2023-12-29T18:55:43.623982Z",
     "iopub.status.idle": "2023-12-29T18:55:43.942489Z",
     "shell.execute_reply": "2023-12-29T18:55:43.941611Z"
    },
    "papermill": {
     "duration": 0.342639,
     "end_time": "2023-12-29T18:55:43.944333",
     "exception": false,
     "start_time": "2023-12-29T18:55:43.601694",
     "status": "completed"
    },
    "tags": []
   },
   "outputs": [
    {
     "data": {
      "image/png": "[encoded data removed]",
      "text/plain": [
       "<Figure size 640x480 with 1 Axes>"
      ]
     },
     "metadata": {},
     "output_type": "display_data"
    }
   ],
   "source": [
    "sns.barplot(x=df['TypeName'],y=df['Price'])\n",
    "plt.xticks(rotation='vertical')\n",
    "plt.show()"
   ]
  },
  {
   "cell_type": "code",
   "execution_count": 19,
   "id": "529d6d37",
   "metadata": {
    "execution": {
     "iopub.execute_input": "2023-12-29T18:55:43.993394Z",
     "iopub.status.busy": "2023-12-29T18:55:43.992629Z",
     "iopub.status.idle": "2023-12-29T18:55:44.271783Z",
     "shell.execute_reply": "2023-12-29T18:55:44.270870Z"
    },
    "papermill": {
     "duration": 0.307791,
     "end_time": "2023-12-29T18:55:44.273531",
     "exception": false,
     "start_time": "2023-12-29T18:55:43.965740",
     "status": "completed"
    },
    "tags": []
   },
   "outputs": [
    {
     "name": "stderr",
     "output_type": "stream",
     "text": [
      "/tmp/ipykernel_20/1439577752.py:1: UserWarning: \n",
      "\n",
      "`distplot` is a deprecated function and will be removed in seaborn v0.14.0.\n",
      "\n",
      "Please adapt your code to use either `displot` (a figure-level function with\n",
      "similar flexibility) or `histplot` (an axes-level function for histograms).\n",
      "\n",
      "For a guide to updating your code to use the new functions, please see\n",
      "https://gist.github.com/mwaskom/de44147ed2974457ad6372750bbe5751\n",
      "\n",
      "  sns.distplot(df['Inches'])\n"
     ]
    },
    {
     "data": {
      "text/plain": [
       "<Axes: xlabel='Inches', ylabel='Density'>"
      ]
     },
     "execution_count": 19,
     "metadata": {},
     "output_type": "execute_result"
    },
    {
     "data": {
      "image/png": "[encoded data removed]",
      "text/plain": [
       "<Figure size 640x480 with 1 Axes>"
      ]
     },
     "metadata": {},
     "output_type": "display_data"
    }
   ],
   "source": [
    "sns.distplot(df['Inches'])"
   ]
  },
  {
   "cell_type": "code",
   "execution_count": 20,
   "id": "209c9da2",
   "metadata": {
    "execution": {
     "iopub.execute_input": "2023-12-29T18:55:44.311487Z",
     "iopub.status.busy": "2023-12-29T18:55:44.311215Z",
     "iopub.status.idle": "2023-12-29T18:55:44.501905Z",
     "shell.execute_reply": "2023-12-29T18:55:44.500896Z"
    },
    "papermill": {
     "duration": 0.211696,
     "end_time": "2023-12-29T18:55:44.504201",
     "exception": false,
     "start_time": "2023-12-29T18:55:44.292505",
     "status": "completed"
    },
    "tags": []
   },
   "outputs": [
    {
     "data": {
      "text/plain": [
       "<Axes: xlabel='Inches', ylabel='Price'>"
      ]
     },
     "execution_count": 20,
     "metadata": {},
     "output_type": "execute_result"
    },
    {
     "data": {
      "image/png": "[encoded data removed]",
      "text/plain": [
       "<Figure size 640x480 with 1 Axes>"
      ]
     },
     "metadata": {},
     "output_type": "display_data"
    }
   ],
   "source": [
    "sns.scatterplot(x=df['Inches'], y = df['Price'])"
   ]
  },
  {
   "cell_type": "code",
   "execution_count": 21,
   "id": "c1cabd23",
   "metadata": {
    "execution": {
     "iopub.execute_input": "2023-12-29T18:55:44.544562Z",
     "iopub.status.busy": "2023-12-29T18:55:44.543577Z",
     "iopub.status.idle": "2023-12-29T18:55:44.994271Z",
     "shell.execute_reply": "2023-12-29T18:55:44.993338Z"
    },
    "papermill": {
     "duration": 0.472657,
     "end_time": "2023-12-29T18:55:44.996116",
     "exception": false,
     "start_time": "2023-12-29T18:55:44.523459",
     "status": "completed"
    },
    "tags": []
   },
   "outputs": [
    {
     "data": {
      "text/plain": [
       "<Axes: xlabel='ScreenResolution'>"
      ]
     },
     "execution_count": 21,
     "metadata": {},
     "output_type": "execute_result"
    },
    {
     "data": {
      "image/png": "[encoded data removed]",
      "text/plain": [
       "<Figure size 640x480 with 1 Axes>"
      ]
     },
     "metadata": {},
     "output_type": "display_data"
    }
   ],
   "source": [
    "df['ScreenResolution'].value_counts().plot(kind='bar')"
   ]
  },
  {
   "cell_type": "code",
   "execution_count": 22,
   "id": "ede6d176",
   "metadata": {
    "execution": {
     "iopub.execute_input": "2023-12-29T18:55:45.039401Z",
     "iopub.status.busy": "2023-12-29T18:55:45.038024Z",
     "iopub.status.idle": "2023-12-29T18:55:45.046196Z",
     "shell.execute_reply": "2023-12-29T18:55:45.045526Z"
    },
    "papermill": {
     "duration": 0.031138,
     "end_time": "2023-12-29T18:55:45.047827",
     "exception": false,
     "start_time": "2023-12-29T18:55:45.016689",
     "status": "completed"
    },
    "tags": []
   },
   "outputs": [
    {
     "data": {
      "text/plain": [
       "ScreenResolution\n",
       "Full HD 1920x1080                                507\n",
       "1366x768                                         281\n",
       "IPS Panel Full HD 1920x1080                      230\n",
       "IPS Panel Full HD / Touchscreen 1920x1080         53\n",
       "Full HD / Touchscreen 1920x1080                   47\n",
       "1600x900                                          23\n",
       "Touchscreen 1366x768                              16\n",
       "Quad HD+ / Touchscreen 3200x1800                  15\n",
       "IPS Panel 4K Ultra HD 3840x2160                   12\n",
       "IPS Panel 4K Ultra HD / Touchscreen 3840x2160     11\n",
       "4K Ultra HD / Touchscreen 3840x2160               10\n",
       "4K Ultra HD 3840x2160                              7\n",
       "Touchscreen 2560x1440                              7\n",
       "IPS Panel 1366x768                                 7\n",
       "IPS Panel Quad HD+ / Touchscreen 3200x1800         6\n",
       "IPS Panel Retina Display 2560x1600                 6\n",
       "IPS Panel Retina Display 2304x1440                 6\n",
       "Touchscreen 2256x1504                              6\n",
       "IPS Panel Touchscreen 2560x1440                    5\n",
       "IPS Panel Retina Display 2880x1800                 4\n",
       "IPS Panel Touchscreen 1920x1200                    4\n",
       "1440x900                                           4\n",
       "IPS Panel 2560x1440                                4\n",
       "IPS Panel Quad HD+ 2560x1440                       3\n",
       "Quad HD+ 3200x1800                                 3\n",
       "1920x1080                                          3\n",
       "Touchscreen 2400x1600                              3\n",
       "2560x1440                                          3\n",
       "IPS Panel Touchscreen 1366x768                     3\n",
       "IPS Panel Touchscreen / 4K Ultra HD 3840x2160      2\n",
       "IPS Panel Full HD 2160x1440                        2\n",
       "IPS Panel Quad HD+ 3200x1800                       2\n",
       "IPS Panel Retina Display 2736x1824                 1\n",
       "IPS Panel Full HD 1920x1200                        1\n",
       "IPS Panel Full HD 2560x1440                        1\n",
       "IPS Panel Full HD 1366x768                         1\n",
       "Touchscreen / Full HD 1920x1080                    1\n",
       "Touchscreen / Quad HD+ 3200x1800                   1\n",
       "Touchscreen / 4K Ultra HD 3840x2160                1\n",
       "IPS Panel Touchscreen 2400x1600                    1\n",
       "Name: count, dtype: int64"
      ]
     },
     "execution_count": 22,
     "metadata": {},
     "output_type": "execute_result"
    }
   ],
   "source": [
    "df['ScreenResolution'].value_counts()"
   ]
  },
  {
   "cell_type": "code",
   "execution_count": 23,
   "id": "4d8cfd67",
   "metadata": {
    "execution": {
     "iopub.execute_input": "2023-12-29T18:55:45.089463Z",
     "iopub.status.busy": "2023-12-29T18:55:45.088403Z",
     "iopub.status.idle": "2023-12-29T18:55:45.094671Z",
     "shell.execute_reply": "2023-12-29T18:55:45.093820Z"
    },
    "papermill": {
     "duration": 0.028486,
     "end_time": "2023-12-29T18:55:45.096494",
     "exception": false,
     "start_time": "2023-12-29T18:55:45.068008",
     "status": "completed"
    },
    "tags": []
   },
   "outputs": [],
   "source": [
    "df['Touchscreen'] = df['ScreenResolution'].apply(lambda x: 1 if 'Touchscreen' in x else 0)"
   ]
  },
  {
   "cell_type": "code",
   "execution_count": 24,
   "id": "9d40e037",
   "metadata": {
    "execution": {
     "iopub.execute_input": "2023-12-29T18:55:45.139856Z",
     "iopub.status.busy": "2023-12-29T18:55:45.139026Z",
     "iopub.status.idle": "2023-12-29T18:55:45.155145Z",
     "shell.execute_reply": "2023-12-29T18:55:45.154205Z"
    },
    "papermill": {
     "duration": 0.039065,
     "end_time": "2023-12-29T18:55:45.156949",
     "exception": false,
     "start_time": "2023-12-29T18:55:45.117884",
     "status": "completed"
    },
    "tags": []
   },
   "outputs": [
    {
     "data": {
      "text/html": [
       "<div>\n",
       "<style scoped>\n",
       "    .dataframe tbody tr th:only-of-type {\n",
       "        vertical-align: middle;\n",
       "    }\n",
       "\n",
       "    .dataframe tbody tr th {\n",
       "        vertical-align: top;\n",
       "    }\n",
       "\n",
       "    .dataframe thead th {\n",
       "        text-align: right;\n",
       "    }\n",
       "</style>\n",
       "<table border=\"1\" class=\"dataframe\">\n",
       "  <thead>\n",
       "    <tr style=\"text-align: right;\">\n",
       "      <th></th>\n",
       "      <th>Company</th>\n",
       "      <th>TypeName</th>\n",
       "      <th>Inches</th>\n",
       "      <th>ScreenResolution</th>\n",
       "      <th>Cpu</th>\n",
       "      <th>Ram</th>\n",
       "      <th>Memory</th>\n",
       "      <th>Gpu</th>\n",
       "      <th>OpSys</th>\n",
       "      <th>Weight</th>\n",
       "      <th>Price</th>\n",
       "      <th>Touchscreen</th>\n",
       "    </tr>\n",
       "  </thead>\n",
       "  <tbody>\n",
       "    <tr>\n",
       "      <th>1298</th>\n",
       "      <td>Lenovo</td>\n",
       "      <td>2 in 1 Convertible</td>\n",
       "      <td>14.0</td>\n",
       "      <td>IPS Panel Full HD / Touchscreen 1920x1080</td>\n",
       "      <td>Intel Core i7 6500U 2.5GHz</td>\n",
       "      <td>4</td>\n",
       "      <td>128GB SSD</td>\n",
       "      <td>Intel HD Graphics 520</td>\n",
       "      <td>Windows 10</td>\n",
       "      <td>1.80</td>\n",
       "      <td>33992.6400</td>\n",
       "      <td>1</td>\n",
       "    </tr>\n",
       "    <tr>\n",
       "      <th>356</th>\n",
       "      <td>Lenovo</td>\n",
       "      <td>Notebook</td>\n",
       "      <td>15.6</td>\n",
       "      <td>1366x768</td>\n",
       "      <td>Intel Celeron Dual Core N3350 1.1GHz</td>\n",
       "      <td>4</td>\n",
       "      <td>1TB HDD</td>\n",
       "      <td>Intel HD Graphics 500</td>\n",
       "      <td>No OS</td>\n",
       "      <td>2.20</td>\n",
       "      <td>17155.6272</td>\n",
       "      <td>0</td>\n",
       "    </tr>\n",
       "    <tr>\n",
       "      <th>760</th>\n",
       "      <td>Lenovo</td>\n",
       "      <td>Gaming</td>\n",
       "      <td>15.6</td>\n",
       "      <td>IPS Panel Full HD 1920x1080</td>\n",
       "      <td>Intel Core i7 7700HQ 2.8GHz</td>\n",
       "      <td>8</td>\n",
       "      <td>128GB SSD +  1TB HDD</td>\n",
       "      <td>Nvidia GeForce GTX 1050</td>\n",
       "      <td>Windows 10</td>\n",
       "      <td>2.50</td>\n",
       "      <td>55837.4400</td>\n",
       "      <td>0</td>\n",
       "    </tr>\n",
       "    <tr>\n",
       "      <th>1300</th>\n",
       "      <td>Lenovo</td>\n",
       "      <td>Notebook</td>\n",
       "      <td>14.0</td>\n",
       "      <td>1366x768</td>\n",
       "      <td>Intel Celeron Dual Core N3050 1.6GHz</td>\n",
       "      <td>2</td>\n",
       "      <td>64GB Flash Storage</td>\n",
       "      <td>Intel HD Graphics</td>\n",
       "      <td>Windows 10</td>\n",
       "      <td>1.50</td>\n",
       "      <td>12201.1200</td>\n",
       "      <td>0</td>\n",
       "    </tr>\n",
       "    <tr>\n",
       "      <th>273</th>\n",
       "      <td>Lenovo</td>\n",
       "      <td>2 in 1 Convertible</td>\n",
       "      <td>14.0</td>\n",
       "      <td>Touchscreen 2560x1440</td>\n",
       "      <td>Intel Core i7 6600U 2.6GHz</td>\n",
       "      <td>16</td>\n",
       "      <td>512GB SSD</td>\n",
       "      <td>Intel HD Graphics 520</td>\n",
       "      <td>Windows 10</td>\n",
       "      <td>1.36</td>\n",
       "      <td>133146.7200</td>\n",
       "      <td>1</td>\n",
       "    </tr>\n",
       "    <tr>\n",
       "      <th>700</th>\n",
       "      <td>Dell</td>\n",
       "      <td>Gaming</td>\n",
       "      <td>15.6</td>\n",
       "      <td>Full HD 1920x1080</td>\n",
       "      <td>Intel Core i5 7300HQ 2.5GHz</td>\n",
       "      <td>8</td>\n",
       "      <td>1TB HDD</td>\n",
       "      <td>Nvidia GeForce GTX 1050</td>\n",
       "      <td>Windows 10</td>\n",
       "      <td>2.56</td>\n",
       "      <td>43636.3200</td>\n",
       "      <td>0</td>\n",
       "    </tr>\n",
       "    <tr>\n",
       "      <th>553</th>\n",
       "      <td>HP</td>\n",
       "      <td>Notebook</td>\n",
       "      <td>17.3</td>\n",
       "      <td>1600x900</td>\n",
       "      <td>Intel Core i3 6006U 2GHz</td>\n",
       "      <td>8</td>\n",
       "      <td>1TB HDD</td>\n",
       "      <td>Intel HD Graphics 520</td>\n",
       "      <td>Windows 10</td>\n",
       "      <td>2.65</td>\n",
       "      <td>28992.3120</td>\n",
       "      <td>0</td>\n",
       "    </tr>\n",
       "    <tr>\n",
       "      <th>683</th>\n",
       "      <td>HP</td>\n",
       "      <td>Notebook</td>\n",
       "      <td>17.3</td>\n",
       "      <td>IPS Panel Full HD 1920x1080</td>\n",
       "      <td>Intel Core i3 6006U 2GHz</td>\n",
       "      <td>4</td>\n",
       "      <td>256GB SSD</td>\n",
       "      <td>AMD Radeon R5 520</td>\n",
       "      <td>Windows 10</td>\n",
       "      <td>2.50</td>\n",
       "      <td>37242.7200</td>\n",
       "      <td>0</td>\n",
       "    </tr>\n",
       "    <tr>\n",
       "      <th>558</th>\n",
       "      <td>HP</td>\n",
       "      <td>Notebook</td>\n",
       "      <td>15.6</td>\n",
       "      <td>IPS Panel Full HD 1920x1080</td>\n",
       "      <td>AMD A10-Series A10-9620P 2.5GHz</td>\n",
       "      <td>6</td>\n",
       "      <td>128GB SSD</td>\n",
       "      <td>AMD Radeon 530</td>\n",
       "      <td>Windows 10</td>\n",
       "      <td>1.91</td>\n",
       "      <td>30310.9920</td>\n",
       "      <td>0</td>\n",
       "    </tr>\n",
       "    <tr>\n",
       "      <th>807</th>\n",
       "      <td>HP</td>\n",
       "      <td>Notebook</td>\n",
       "      <td>15.6</td>\n",
       "      <td>1366x768</td>\n",
       "      <td>AMD A12-Series 9700P 2.5GHz</td>\n",
       "      <td>8</td>\n",
       "      <td>2TB HDD</td>\n",
       "      <td>AMD Radeon R7 Graphics</td>\n",
       "      <td>Windows 10</td>\n",
       "      <td>2.04</td>\n",
       "      <td>33513.1200</td>\n",
       "      <td>0</td>\n",
       "    </tr>\n",
       "  </tbody>\n",
       "</table>\n",
       "</div>"
      ],
      "text/plain": [
       "     Company            TypeName  Inches  \\\n",
       "1298  Lenovo  2 in 1 Convertible    14.0   \n",
       "356   Lenovo            Notebook    15.6   \n",
       "760   Lenovo              Gaming    15.6   \n",
       "1300  Lenovo            Notebook    14.0   \n",
       "273   Lenovo  2 in 1 Convertible    14.0   \n",
       "700     Dell              Gaming    15.6   \n",
       "553       HP            Notebook    17.3   \n",
       "683       HP            Notebook    17.3   \n",
       "558       HP            Notebook    15.6   \n",
       "807       HP            Notebook    15.6   \n",
       "\n",
       "                               ScreenResolution  \\\n",
       "1298  IPS Panel Full HD / Touchscreen 1920x1080   \n",
       "356                                    1366x768   \n",
       "760                 IPS Panel Full HD 1920x1080   \n",
       "1300                                   1366x768   \n",
       "273                       Touchscreen 2560x1440   \n",
       "700                           Full HD 1920x1080   \n",
       "553                                    1600x900   \n",
       "683                 IPS Panel Full HD 1920x1080   \n",
       "558                 IPS Panel Full HD 1920x1080   \n",
       "807                                    1366x768   \n",
       "\n",
       "                                       Cpu  Ram                Memory  \\\n",
       "1298            Intel Core i7 6500U 2.5GHz    4             128GB SSD   \n",
       "356   Intel Celeron Dual Core N3350 1.1GHz    4               1TB HDD   \n",
       "760            Intel Core i7 7700HQ 2.8GHz    8  128GB SSD +  1TB HDD   \n",
       "1300  Intel Celeron Dual Core N3050 1.6GHz    2    64GB Flash Storage   \n",
       "273             Intel Core i7 6600U 2.6GHz   16             512GB SSD   \n",
       "700            Intel Core i5 7300HQ 2.5GHz    8               1TB HDD   \n",
       "553               Intel Core i3 6006U 2GHz    8               1TB HDD   \n",
       "683               Intel Core i3 6006U 2GHz    4             256GB SSD   \n",
       "558        AMD A10-Series A10-9620P 2.5GHz    6             128GB SSD   \n",
       "807            AMD A12-Series 9700P 2.5GHz    8               2TB HDD   \n",
       "\n",
       "                          Gpu       OpSys  Weight        Price  Touchscreen  \n",
       "1298    Intel HD Graphics 520  Windows 10    1.80   33992.6400            1  \n",
       "356     Intel HD Graphics 500       No OS    2.20   17155.6272            0  \n",
       "760   Nvidia GeForce GTX 1050  Windows 10    2.50   55837.4400            0  \n",
       "1300        Intel HD Graphics  Windows 10    1.50   12201.1200            0  \n",
       "273     Intel HD Graphics 520  Windows 10    1.36  133146.7200            1  \n",
       "700   Nvidia GeForce GTX 1050  Windows 10    2.56   43636.3200            0  \n",
       "553     Intel HD Graphics 520  Windows 10    2.65   28992.3120            0  \n",
       "683         AMD Radeon R5 520  Windows 10    2.50   37242.7200            0  \n",
       "558            AMD Radeon 530  Windows 10    1.91   30310.9920            0  \n",
       "807    AMD Radeon R7 Graphics  Windows 10    2.04   33513.1200            0  "
      ]
     },
     "execution_count": 24,
     "metadata": {},
     "output_type": "execute_result"
    }
   ],
   "source": [
    "df.sample(10)"
   ]
  },
  {
   "cell_type": "code",
   "execution_count": 25,
   "id": "e55cc10d",
   "metadata": {
    "execution": {
     "iopub.execute_input": "2023-12-29T18:55:45.199697Z",
     "iopub.status.busy": "2023-12-29T18:55:45.199157Z",
     "iopub.status.idle": "2023-12-29T18:55:45.342579Z",
     "shell.execute_reply": "2023-12-29T18:55:45.341984Z"
    },
    "papermill": {
     "duration": 0.166648,
     "end_time": "2023-12-29T18:55:45.344159",
     "exception": false,
     "start_time": "2023-12-29T18:55:45.177511",
     "status": "completed"
    },
    "tags": []
   },
   "outputs": [
    {
     "data": {
      "text/plain": [
       "<Axes: xlabel='Touchscreen'>"
      ]
     },
     "execution_count": 25,
     "metadata": {},
     "output_type": "execute_result"
    },
    {
     "data": {
      "image/png": "[encoded data removed]",
      "text/plain": [
       "<Figure size 640x480 with 1 Axes>"
      ]
     },
     "metadata": {},
     "output_type": "display_data"
    }
   ],
   "source": [
    "df['Touchscreen'].value_counts().plot(kind='bar')"
   ]
  },
  {
   "cell_type": "code",
   "execution_count": 26,
   "id": "290a23b1",
   "metadata": {
    "execution": {
     "iopub.execute_input": "2023-12-29T18:55:45.386031Z",
     "iopub.status.busy": "2023-12-29T18:55:45.385591Z",
     "iopub.status.idle": "2023-12-29T18:55:45.581810Z",
     "shell.execute_reply": "2023-12-29T18:55:45.581146Z"
    },
    "papermill": {
     "duration": 0.219079,
     "end_time": "2023-12-29T18:55:45.583768",
     "exception": false,
     "start_time": "2023-12-29T18:55:45.364689",
     "status": "completed"
    },
    "tags": []
   },
   "outputs": [
    {
     "data": {
      "text/plain": [
       "<Axes: xlabel='Touchscreen', ylabel='Price'>"
      ]
     },
     "execution_count": 26,
     "metadata": {},
     "output_type": "execute_result"
    },
    {
     "data": {
      "image/png": "[encoded data removed]",
      "text/plain": [
       "<Figure size 640x480 with 1 Axes>"
      ]
     },
     "metadata": {},
     "output_type": "display_data"
    }
   ],
   "source": [
    "sns.barplot(x=df['Touchscreen'],y=df['Price'])\n"
   ]
  },
  {
   "cell_type": "code",
   "execution_count": 27,
   "id": "eaf57993",
   "metadata": {
    "execution": {
     "iopub.execute_input": "2023-12-29T18:55:45.631109Z",
     "iopub.status.busy": "2023-12-29T18:55:45.630762Z",
     "iopub.status.idle": "2023-12-29T18:55:45.636356Z",
     "shell.execute_reply": "2023-12-29T18:55:45.635578Z"
    },
    "papermill": {
     "duration": 0.031282,
     "end_time": "2023-12-29T18:55:45.637921",
     "exception": false,
     "start_time": "2023-12-29T18:55:45.606639",
     "status": "completed"
    },
    "tags": []
   },
   "outputs": [],
   "source": [
    "df['IPS'] = df['ScreenResolution'].apply(lambda x: 1 if 'IPS' in x else 0)"
   ]
  },
  {
   "cell_type": "code",
   "execution_count": 28,
   "id": "44d2b8cd",
   "metadata": {
    "execution": {
     "iopub.execute_input": "2023-12-29T18:55:45.683301Z",
     "iopub.status.busy": "2023-12-29T18:55:45.682760Z",
     "iopub.status.idle": "2023-12-29T18:55:45.696511Z",
     "shell.execute_reply": "2023-12-29T18:55:45.695592Z"
    },
    "papermill": {
     "duration": 0.037579,
     "end_time": "2023-12-29T18:55:45.698102",
     "exception": false,
     "start_time": "2023-12-29T18:55:45.660523",
     "status": "completed"
    },
    "tags": []
   },
   "outputs": [
    {
     "data": {
      "text/html": [
       "<div>\n",
       "<style scoped>\n",
       "    .dataframe tbody tr th:only-of-type {\n",
       "        vertical-align: middle;\n",
       "    }\n",
       "\n",
       "    .dataframe tbody tr th {\n",
       "        vertical-align: top;\n",
       "    }\n",
       "\n",
       "    .dataframe thead th {\n",
       "        text-align: right;\n",
       "    }\n",
       "</style>\n",
       "<table border=\"1\" class=\"dataframe\">\n",
       "  <thead>\n",
       "    <tr style=\"text-align: right;\">\n",
       "      <th></th>\n",
       "      <th>Company</th>\n",
       "      <th>TypeName</th>\n",
       "      <th>Inches</th>\n",
       "      <th>ScreenResolution</th>\n",
       "      <th>Cpu</th>\n",
       "      <th>Ram</th>\n",
       "      <th>Memory</th>\n",
       "      <th>Gpu</th>\n",
       "      <th>OpSys</th>\n",
       "      <th>Weight</th>\n",
       "      <th>Price</th>\n",
       "      <th>Touchscreen</th>\n",
       "      <th>IPS</th>\n",
       "    </tr>\n",
       "  </thead>\n",
       "  <tbody>\n",
       "    <tr>\n",
       "      <th>358</th>\n",
       "      <td>Dell</td>\n",
       "      <td>Notebook</td>\n",
       "      <td>15.6</td>\n",
       "      <td>Touchscreen 1366x768</td>\n",
       "      <td>Intel Core i5 7200U 2.5GHz</td>\n",
       "      <td>8</td>\n",
       "      <td>2TB HDD</td>\n",
       "      <td>Intel HD Graphics 620</td>\n",
       "      <td>Windows 10</td>\n",
       "      <td>2.36</td>\n",
       "      <td>29696.6736</td>\n",
       "      <td>1</td>\n",
       "      <td>0</td>\n",
       "    </tr>\n",
       "    <tr>\n",
       "      <th>968</th>\n",
       "      <td>Dell</td>\n",
       "      <td>Gaming</td>\n",
       "      <td>17.3</td>\n",
       "      <td>IPS Panel Full HD 1920x1080</td>\n",
       "      <td>Intel Core i7 7700HQ 2.8GHz</td>\n",
       "      <td>32</td>\n",
       "      <td>256GB SSD +  1TB HDD</td>\n",
       "      <td>Nvidia GeForce GTX 1070</td>\n",
       "      <td>Windows 10</td>\n",
       "      <td>4.42</td>\n",
       "      <td>167778.7200</td>\n",
       "      <td>0</td>\n",
       "      <td>1</td>\n",
       "    </tr>\n",
       "    <tr>\n",
       "      <th>1161</th>\n",
       "      <td>MSI</td>\n",
       "      <td>Gaming</td>\n",
       "      <td>14.0</td>\n",
       "      <td>Full HD 1920x1080</td>\n",
       "      <td>Intel Core i7 6700HQ 2.6GHz</td>\n",
       "      <td>16</td>\n",
       "      <td>256GB SSD +  1TB HDD</td>\n",
       "      <td>Nvidia GeForce GTX 970M</td>\n",
       "      <td>Windows 10</td>\n",
       "      <td>1.70</td>\n",
       "      <td>94252.3200</td>\n",
       "      <td>0</td>\n",
       "      <td>0</td>\n",
       "    </tr>\n",
       "    <tr>\n",
       "      <th>237</th>\n",
       "      <td>Asus</td>\n",
       "      <td>Notebook</td>\n",
       "      <td>15.6</td>\n",
       "      <td>Full HD 1920x1080</td>\n",
       "      <td>AMD A10-Series A10-9620P 2.5GHz</td>\n",
       "      <td>4</td>\n",
       "      <td>128GB SSD +  1TB HDD</td>\n",
       "      <td>AMD Radeon R5 M430</td>\n",
       "      <td>Windows 10</td>\n",
       "      <td>2.20</td>\n",
       "      <td>30636.0000</td>\n",
       "      <td>0</td>\n",
       "      <td>0</td>\n",
       "    </tr>\n",
       "    <tr>\n",
       "      <th>359</th>\n",
       "      <td>Dell</td>\n",
       "      <td>Notebook</td>\n",
       "      <td>14.0</td>\n",
       "      <td>Full HD 1920x1080</td>\n",
       "      <td>Intel Core i5 7300U 2.6GHz</td>\n",
       "      <td>8</td>\n",
       "      <td>256GB SSD</td>\n",
       "      <td>Intel HD Graphics 620</td>\n",
       "      <td>Windows 10</td>\n",
       "      <td>1.36</td>\n",
       "      <td>76030.5600</td>\n",
       "      <td>0</td>\n",
       "      <td>0</td>\n",
       "    </tr>\n",
       "  </tbody>\n",
       "</table>\n",
       "</div>"
      ],
      "text/plain": [
       "     Company  TypeName  Inches             ScreenResolution  \\\n",
       "358     Dell  Notebook    15.6         Touchscreen 1366x768   \n",
       "968     Dell    Gaming    17.3  IPS Panel Full HD 1920x1080   \n",
       "1161     MSI    Gaming    14.0            Full HD 1920x1080   \n",
       "237     Asus  Notebook    15.6            Full HD 1920x1080   \n",
       "359     Dell  Notebook    14.0            Full HD 1920x1080   \n",
       "\n",
       "                                  Cpu  Ram                Memory  \\\n",
       "358        Intel Core i5 7200U 2.5GHz    8               2TB HDD   \n",
       "968       Intel Core i7 7700HQ 2.8GHz   32  256GB SSD +  1TB HDD   \n",
       "1161      Intel Core i7 6700HQ 2.6GHz   16  256GB SSD +  1TB HDD   \n",
       "237   AMD A10-Series A10-9620P 2.5GHz    4  128GB SSD +  1TB HDD   \n",
       "359        Intel Core i5 7300U 2.6GHz    8             256GB SSD   \n",
       "\n",
       "                          Gpu       OpSys  Weight        Price  Touchscreen  \\\n",
       "358     Intel HD Graphics 620  Windows 10    2.36   29696.6736            1   \n",
       "968   Nvidia GeForce GTX 1070  Windows 10    4.42  167778.7200            0   \n",
       "1161  Nvidia GeForce GTX 970M  Windows 10    1.70   94252.3200            0   \n",
       "237        AMD Radeon R5 M430  Windows 10    2.20   30636.0000            0   \n",
       "359     Intel HD Graphics 620  Windows 10    1.36   76030.5600            0   \n",
       "\n",
       "      IPS  \n",
       "358     0  \n",
       "968     1  \n",
       "1161    0  \n",
       "237     0  \n",
       "359     0  "
      ]
     },
     "execution_count": 28,
     "metadata": {},
     "output_type": "execute_result"
    }
   ],
   "source": [
    "df.sample(5)"
   ]
  },
  {
   "cell_type": "code",
   "execution_count": 29,
   "id": "6ff51b22",
   "metadata": {
    "execution": {
     "iopub.execute_input": "2023-12-29T18:55:45.742671Z",
     "iopub.status.busy": "2023-12-29T18:55:45.742064Z",
     "iopub.status.idle": "2023-12-29T18:55:45.978188Z",
     "shell.execute_reply": "2023-12-29T18:55:45.977287Z"
    },
    "papermill": {
     "duration": 0.259792,
     "end_time": "2023-12-29T18:55:45.979808",
     "exception": false,
     "start_time": "2023-12-29T18:55:45.720016",
     "status": "completed"
    },
    "tags": []
   },
   "outputs": [
    {
     "data": {
      "text/plain": [
       "<Axes: xlabel='IPS'>"
      ]
     },
     "execution_count": 29,
     "metadata": {},
     "output_type": "execute_result"
    },
    {
     "data": {
      "image/png": "[encoded data removed]",
      "text/plain": [
       "<Figure size 640x480 with 1 Axes>"
      ]
     },
     "metadata": {},
     "output_type": "display_data"
    }
   ],
   "source": [
    "df['IPS'].value_counts().plot(kind='bar')"
   ]
  },
  {
   "cell_type": "code",
   "execution_count": 30,
   "id": "fc1e3247",
   "metadata": {
    "execution": {
     "iopub.execute_input": "2023-12-29T18:55:46.023863Z",
     "iopub.status.busy": "2023-12-29T18:55:46.023529Z",
     "iopub.status.idle": "2023-12-29T18:55:46.233708Z",
     "shell.execute_reply": "2023-12-29T18:55:46.232764Z"
    },
    "papermill": {
     "duration": 0.23442,
     "end_time": "2023-12-29T18:55:46.235662",
     "exception": false,
     "start_time": "2023-12-29T18:55:46.001242",
     "status": "completed"
    },
    "tags": []
   },
   "outputs": [
    {
     "data": {
      "text/plain": [
       "<Axes: xlabel='IPS', ylabel='Price'>"
      ]
     },
     "execution_count": 30,
     "metadata": {},
     "output_type": "execute_result"
    },
    {
     "data": {
      "image/png": "[encoded data removed]",
      "text/plain": [
       "<Figure size 640x480 with 1 Axes>"
      ]
     },
     "metadata": {},
     "output_type": "display_data"
    }
   ],
   "source": [
    "sns.barplot(x=df['IPS'],y=df['Price'])\n"
   ]
  },
  {
   "cell_type": "code",
   "execution_count": 31,
   "id": "46594915",
   "metadata": {
    "execution": {
     "iopub.execute_input": "2023-12-29T18:55:46.282779Z",
     "iopub.status.busy": "2023-12-29T18:55:46.282304Z",
     "iopub.status.idle": "2023-12-29T18:55:46.288469Z",
     "shell.execute_reply": "2023-12-29T18:55:46.287466Z"
    },
    "papermill": {
     "duration": 0.032053,
     "end_time": "2023-12-29T18:55:46.290150",
     "exception": false,
     "start_time": "2023-12-29T18:55:46.258097",
     "status": "completed"
    },
    "tags": []
   },
   "outputs": [],
   "source": [
    "new = df['ScreenResolution'].str.split('x',n=1,expand=True)"
   ]
  },
  {
   "cell_type": "code",
   "execution_count": 32,
   "id": "d4d33d02",
   "metadata": {
    "execution": {
     "iopub.execute_input": "2023-12-29T18:55:46.336518Z",
     "iopub.status.busy": "2023-12-29T18:55:46.335977Z",
     "iopub.status.idle": "2023-12-29T18:55:46.340695Z",
     "shell.execute_reply": "2023-12-29T18:55:46.340032Z"
    },
    "papermill": {
     "duration": 0.029875,
     "end_time": "2023-12-29T18:55:46.342264",
     "exception": false,
     "start_time": "2023-12-29T18:55:46.312389",
     "status": "completed"
    },
    "tags": []
   },
   "outputs": [],
   "source": [
    "df['x_res'] = new[0]\n",
    "df['y_res'] = new[1]"
   ]
  },
  {
   "cell_type": "code",
   "execution_count": 33,
   "id": "f4fe337f",
   "metadata": {
    "execution": {
     "iopub.execute_input": "2023-12-29T18:55:46.388736Z",
     "iopub.status.busy": "2023-12-29T18:55:46.388240Z",
     "iopub.status.idle": "2023-12-29T18:55:46.403157Z",
     "shell.execute_reply": "2023-12-29T18:55:46.402169Z"
    },
    "papermill": {
     "duration": 0.040501,
     "end_time": "2023-12-29T18:55:46.405122",
     "exception": false,
     "start_time": "2023-12-29T18:55:46.364621",
     "status": "completed"
    },
    "tags": []
   },
   "outputs": [
    {
     "data": {
      "text/html": [
       "<div>\n",
       "<style scoped>\n",
       "    .dataframe tbody tr th:only-of-type {\n",
       "        vertical-align: middle;\n",
       "    }\n",
       "\n",
       "    .dataframe tbody tr th {\n",
       "        vertical-align: top;\n",
       "    }\n",
       "\n",
       "    .dataframe thead th {\n",
       "        text-align: right;\n",
       "    }\n",
       "</style>\n",
       "<table border=\"1\" class=\"dataframe\">\n",
       "  <thead>\n",
       "    <tr style=\"text-align: right;\">\n",
       "      <th></th>\n",
       "      <th>Company</th>\n",
       "      <th>TypeName</th>\n",
       "      <th>Inches</th>\n",
       "      <th>ScreenResolution</th>\n",
       "      <th>Cpu</th>\n",
       "      <th>Ram</th>\n",
       "      <th>Memory</th>\n",
       "      <th>Gpu</th>\n",
       "      <th>OpSys</th>\n",
       "      <th>Weight</th>\n",
       "      <th>Price</th>\n",
       "      <th>Touchscreen</th>\n",
       "      <th>IPS</th>\n",
       "      <th>x_res</th>\n",
       "      <th>y_res</th>\n",
       "    </tr>\n",
       "  </thead>\n",
       "  <tbody>\n",
       "    <tr>\n",
       "      <th>0</th>\n",
       "      <td>Apple</td>\n",
       "      <td>Ultrabook</td>\n",
       "      <td>13.3</td>\n",
       "      <td>IPS Panel Retina Display 2560x1600</td>\n",
       "      <td>Intel Core i5 2.3GHz</td>\n",
       "      <td>8</td>\n",
       "      <td>128GB SSD</td>\n",
       "      <td>Intel Iris Plus Graphics 640</td>\n",
       "      <td>macOS</td>\n",
       "      <td>1.37</td>\n",
       "      <td>71378.6832</td>\n",
       "      <td>0</td>\n",
       "      <td>1</td>\n",
       "      <td>IPS Panel Retina Display 2560</td>\n",
       "      <td>1600</td>\n",
       "    </tr>\n",
       "    <tr>\n",
       "      <th>1</th>\n",
       "      <td>Apple</td>\n",
       "      <td>Ultrabook</td>\n",
       "      <td>13.3</td>\n",
       "      <td>1440x900</td>\n",
       "      <td>Intel Core i5 1.8GHz</td>\n",
       "      <td>8</td>\n",
       "      <td>128GB Flash Storage</td>\n",
       "      <td>Intel HD Graphics 6000</td>\n",
       "      <td>macOS</td>\n",
       "      <td>1.34</td>\n",
       "      <td>47895.5232</td>\n",
       "      <td>0</td>\n",
       "      <td>0</td>\n",
       "      <td>1440</td>\n",
       "      <td>900</td>\n",
       "    </tr>\n",
       "    <tr>\n",
       "      <th>2</th>\n",
       "      <td>HP</td>\n",
       "      <td>Notebook</td>\n",
       "      <td>15.6</td>\n",
       "      <td>Full HD 1920x1080</td>\n",
       "      <td>Intel Core i5 7200U 2.5GHz</td>\n",
       "      <td>8</td>\n",
       "      <td>256GB SSD</td>\n",
       "      <td>Intel HD Graphics 620</td>\n",
       "      <td>No OS</td>\n",
       "      <td>1.86</td>\n",
       "      <td>30636.0000</td>\n",
       "      <td>0</td>\n",
       "      <td>0</td>\n",
       "      <td>Full HD 1920</td>\n",
       "      <td>1080</td>\n",
       "    </tr>\n",
       "    <tr>\n",
       "      <th>3</th>\n",
       "      <td>Apple</td>\n",
       "      <td>Ultrabook</td>\n",
       "      <td>15.4</td>\n",
       "      <td>IPS Panel Retina Display 2880x1800</td>\n",
       "      <td>Intel Core i7 2.7GHz</td>\n",
       "      <td>16</td>\n",
       "      <td>512GB SSD</td>\n",
       "      <td>AMD Radeon Pro 455</td>\n",
       "      <td>macOS</td>\n",
       "      <td>1.83</td>\n",
       "      <td>135195.3360</td>\n",
       "      <td>0</td>\n",
       "      <td>1</td>\n",
       "      <td>IPS Panel Retina Display 2880</td>\n",
       "      <td>1800</td>\n",
       "    </tr>\n",
       "    <tr>\n",
       "      <th>4</th>\n",
       "      <td>Apple</td>\n",
       "      <td>Ultrabook</td>\n",
       "      <td>13.3</td>\n",
       "      <td>IPS Panel Retina Display 2560x1600</td>\n",
       "      <td>Intel Core i5 3.1GHz</td>\n",
       "      <td>8</td>\n",
       "      <td>256GB SSD</td>\n",
       "      <td>Intel Iris Plus Graphics 650</td>\n",
       "      <td>macOS</td>\n",
       "      <td>1.37</td>\n",
       "      <td>96095.8080</td>\n",
       "      <td>0</td>\n",
       "      <td>1</td>\n",
       "      <td>IPS Panel Retina Display 2560</td>\n",
       "      <td>1600</td>\n",
       "    </tr>\n",
       "  </tbody>\n",
       "</table>\n",
       "</div>"
      ],
      "text/plain": [
       "  Company   TypeName  Inches                    ScreenResolution  \\\n",
       "0   Apple  Ultrabook    13.3  IPS Panel Retina Display 2560x1600   \n",
       "1   Apple  Ultrabook    13.3                            1440x900   \n",
       "2      HP   Notebook    15.6                   Full HD 1920x1080   \n",
       "3   Apple  Ultrabook    15.4  IPS Panel Retina Display 2880x1800   \n",
       "4   Apple  Ultrabook    13.3  IPS Panel Retina Display 2560x1600   \n",
       "\n",
       "                          Cpu  Ram               Memory  \\\n",
       "0        Intel Core i5 2.3GHz    8            128GB SSD   \n",
       "1        Intel Core i5 1.8GHz    8  128GB Flash Storage   \n",
       "2  Intel Core i5 7200U 2.5GHz    8            256GB SSD   \n",
       "3        Intel Core i7 2.7GHz   16            512GB SSD   \n",
       "4        Intel Core i5 3.1GHz    8            256GB SSD   \n",
       "\n",
       "                            Gpu  OpSys  Weight        Price  Touchscreen  IPS  \\\n",
       "0  Intel Iris Plus Graphics 640  macOS    1.37   71378.6832            0    1   \n",
       "1        Intel HD Graphics 6000  macOS    1.34   47895.5232            0    0   \n",
       "2         Intel HD Graphics 620  No OS    1.86   30636.0000            0    0   \n",
       "3            AMD Radeon Pro 455  macOS    1.83  135195.3360            0    1   \n",
       "4  Intel Iris Plus Graphics 650  macOS    1.37   96095.8080            0    1   \n",
       "\n",
       "                           x_res y_res  \n",
       "0  IPS Panel Retina Display 2560  1600  \n",
       "1                           1440   900  \n",
       "2                   Full HD 1920  1080  \n",
       "3  IPS Panel Retina Display 2880  1800  \n",
       "4  IPS Panel Retina Display 2560  1600  "
      ]
     },
     "execution_count": 33,
     "metadata": {},
     "output_type": "execute_result"
    }
   ],
   "source": [
    "df.head()"
   ]
  },
  {
   "cell_type": "code",
   "execution_count": 34,
   "id": "79ea0157",
   "metadata": {
    "execution": {
     "iopub.execute_input": "2023-12-29T18:55:46.452544Z",
     "iopub.status.busy": "2023-12-29T18:55:46.452215Z",
     "iopub.status.idle": "2023-12-29T18:55:46.460620Z",
     "shell.execute_reply": "2023-12-29T18:55:46.459608Z"
    },
    "papermill": {
     "duration": 0.034441,
     "end_time": "2023-12-29T18:55:46.462418",
     "exception": false,
     "start_time": "2023-12-29T18:55:46.427977",
     "status": "completed"
    },
    "tags": []
   },
   "outputs": [],
   "source": [
    "df['x_res'] = df['x_res'].str.replace(',','').str.findall(r'(\\d+\\.?\\d+)').apply(lambda x : x[0])"
   ]
  },
  {
   "cell_type": "code",
   "execution_count": 35,
   "id": "d3c176e9",
   "metadata": {
    "execution": {
     "iopub.execute_input": "2023-12-29T18:55:46.509006Z",
     "iopub.status.busy": "2023-12-29T18:55:46.508640Z",
     "iopub.status.idle": "2023-12-29T18:55:46.525549Z",
     "shell.execute_reply": "2023-12-29T18:55:46.524664Z"
    },
    "papermill": {
     "duration": 0.042255,
     "end_time": "2023-12-29T18:55:46.527281",
     "exception": false,
     "start_time": "2023-12-29T18:55:46.485026",
     "status": "completed"
    },
    "tags": []
   },
   "outputs": [
    {
     "data": {
      "text/html": [
       "<div>\n",
       "<style scoped>\n",
       "    .dataframe tbody tr th:only-of-type {\n",
       "        vertical-align: middle;\n",
       "    }\n",
       "\n",
       "    .dataframe tbody tr th {\n",
       "        vertical-align: top;\n",
       "    }\n",
       "\n",
       "    .dataframe thead th {\n",
       "        text-align: right;\n",
       "    }\n",
       "</style>\n",
       "<table border=\"1\" class=\"dataframe\">\n",
       "  <thead>\n",
       "    <tr style=\"text-align: right;\">\n",
       "      <th></th>\n",
       "      <th>Company</th>\n",
       "      <th>TypeName</th>\n",
       "      <th>Inches</th>\n",
       "      <th>ScreenResolution</th>\n",
       "      <th>Cpu</th>\n",
       "      <th>Ram</th>\n",
       "      <th>Memory</th>\n",
       "      <th>Gpu</th>\n",
       "      <th>OpSys</th>\n",
       "      <th>Weight</th>\n",
       "      <th>Price</th>\n",
       "      <th>Touchscreen</th>\n",
       "      <th>IPS</th>\n",
       "      <th>x_res</th>\n",
       "      <th>y_res</th>\n",
       "    </tr>\n",
       "  </thead>\n",
       "  <tbody>\n",
       "    <tr>\n",
       "      <th>0</th>\n",
       "      <td>Apple</td>\n",
       "      <td>Ultrabook</td>\n",
       "      <td>13.3</td>\n",
       "      <td>IPS Panel Retina Display 2560x1600</td>\n",
       "      <td>Intel Core i5 2.3GHz</td>\n",
       "      <td>8</td>\n",
       "      <td>128GB SSD</td>\n",
       "      <td>Intel Iris Plus Graphics 640</td>\n",
       "      <td>macOS</td>\n",
       "      <td>1.37</td>\n",
       "      <td>71378.6832</td>\n",
       "      <td>0</td>\n",
       "      <td>1</td>\n",
       "      <td>2560</td>\n",
       "      <td>1600</td>\n",
       "    </tr>\n",
       "    <tr>\n",
       "      <th>1</th>\n",
       "      <td>Apple</td>\n",
       "      <td>Ultrabook</td>\n",
       "      <td>13.3</td>\n",
       "      <td>1440x900</td>\n",
       "      <td>Intel Core i5 1.8GHz</td>\n",
       "      <td>8</td>\n",
       "      <td>128GB Flash Storage</td>\n",
       "      <td>Intel HD Graphics 6000</td>\n",
       "      <td>macOS</td>\n",
       "      <td>1.34</td>\n",
       "      <td>47895.5232</td>\n",
       "      <td>0</td>\n",
       "      <td>0</td>\n",
       "      <td>1440</td>\n",
       "      <td>900</td>\n",
       "    </tr>\n",
       "    <tr>\n",
       "      <th>2</th>\n",
       "      <td>HP</td>\n",
       "      <td>Notebook</td>\n",
       "      <td>15.6</td>\n",
       "      <td>Full HD 1920x1080</td>\n",
       "      <td>Intel Core i5 7200U 2.5GHz</td>\n",
       "      <td>8</td>\n",
       "      <td>256GB SSD</td>\n",
       "      <td>Intel HD Graphics 620</td>\n",
       "      <td>No OS</td>\n",
       "      <td>1.86</td>\n",
       "      <td>30636.0000</td>\n",
       "      <td>0</td>\n",
       "      <td>0</td>\n",
       "      <td>1920</td>\n",
       "      <td>1080</td>\n",
       "    </tr>\n",
       "    <tr>\n",
       "      <th>3</th>\n",
       "      <td>Apple</td>\n",
       "      <td>Ultrabook</td>\n",
       "      <td>15.4</td>\n",
       "      <td>IPS Panel Retina Display 2880x1800</td>\n",
       "      <td>Intel Core i7 2.7GHz</td>\n",
       "      <td>16</td>\n",
       "      <td>512GB SSD</td>\n",
       "      <td>AMD Radeon Pro 455</td>\n",
       "      <td>macOS</td>\n",
       "      <td>1.83</td>\n",
       "      <td>135195.3360</td>\n",
       "      <td>0</td>\n",
       "      <td>1</td>\n",
       "      <td>2880</td>\n",
       "      <td>1800</td>\n",
       "    </tr>\n",
       "    <tr>\n",
       "      <th>4</th>\n",
       "      <td>Apple</td>\n",
       "      <td>Ultrabook</td>\n",
       "      <td>13.3</td>\n",
       "      <td>IPS Panel Retina Display 2560x1600</td>\n",
       "      <td>Intel Core i5 3.1GHz</td>\n",
       "      <td>8</td>\n",
       "      <td>256GB SSD</td>\n",
       "      <td>Intel Iris Plus Graphics 650</td>\n",
       "      <td>macOS</td>\n",
       "      <td>1.37</td>\n",
       "      <td>96095.8080</td>\n",
       "      <td>0</td>\n",
       "      <td>1</td>\n",
       "      <td>2560</td>\n",
       "      <td>1600</td>\n",
       "    </tr>\n",
       "  </tbody>\n",
       "</table>\n",
       "</div>"
      ],
      "text/plain": [
       "  Company   TypeName  Inches                    ScreenResolution  \\\n",
       "0   Apple  Ultrabook    13.3  IPS Panel Retina Display 2560x1600   \n",
       "1   Apple  Ultrabook    13.3                            1440x900   \n",
       "2      HP   Notebook    15.6                   Full HD 1920x1080   \n",
       "3   Apple  Ultrabook    15.4  IPS Panel Retina Display 2880x1800   \n",
       "4   Apple  Ultrabook    13.3  IPS Panel Retina Display 2560x1600   \n",
       "\n",
       "                          Cpu  Ram               Memory  \\\n",
       "0        Intel Core i5 2.3GHz    8            128GB SSD   \n",
       "1        Intel Core i5 1.8GHz    8  128GB Flash Storage   \n",
       "2  Intel Core i5 7200U 2.5GHz    8            256GB SSD   \n",
       "3        Intel Core i7 2.7GHz   16            512GB SSD   \n",
       "4        Intel Core i5 3.1GHz    8            256GB SSD   \n",
       "\n",
       "                            Gpu  OpSys  Weight        Price  Touchscreen  IPS  \\\n",
       "0  Intel Iris Plus Graphics 640  macOS    1.37   71378.6832            0    1   \n",
       "1        Intel HD Graphics 6000  macOS    1.34   47895.5232            0    0   \n",
       "2         Intel HD Graphics 620  No OS    1.86   30636.0000            0    0   \n",
       "3            AMD Radeon Pro 455  macOS    1.83  135195.3360            0    1   \n",
       "4  Intel Iris Plus Graphics 650  macOS    1.37   96095.8080            0    1   \n",
       "\n",
       "  x_res y_res  \n",
       "0  2560  1600  \n",
       "1  1440   900  \n",
       "2  1920  1080  \n",
       "3  2880  1800  \n",
       "4  2560  1600  "
      ]
     },
     "execution_count": 35,
     "metadata": {},
     "output_type": "execute_result"
    }
   ],
   "source": [
    "df.head()"
   ]
  },
  {
   "cell_type": "code",
   "execution_count": 36,
   "id": "971d7ea6",
   "metadata": {
    "execution": {
     "iopub.execute_input": "2023-12-29T18:55:46.576336Z",
     "iopub.status.busy": "2023-12-29T18:55:46.575331Z",
     "iopub.status.idle": "2023-12-29T18:55:46.581879Z",
     "shell.execute_reply": "2023-12-29T18:55:46.580806Z"
    },
    "papermill": {
     "duration": 0.032848,
     "end_time": "2023-12-29T18:55:46.583639",
     "exception": false,
     "start_time": "2023-12-29T18:55:46.550791",
     "status": "completed"
    },
    "tags": []
   },
   "outputs": [],
   "source": [
    "df['x_res'] = df['x_res'].astype('int')\n",
    "df['y_res'] = df['y_res'].astype('int')\n"
   ]
  },
  {
   "cell_type": "code",
   "execution_count": 37,
   "id": "20dfcaf6",
   "metadata": {
    "execution": {
     "iopub.execute_input": "2023-12-29T18:55:46.631177Z",
     "iopub.status.busy": "2023-12-29T18:55:46.630831Z",
     "iopub.status.idle": "2023-12-29T18:55:46.642607Z",
     "shell.execute_reply": "2023-12-29T18:55:46.641555Z"
    },
    "papermill": {
     "duration": 0.037948,
     "end_time": "2023-12-29T18:55:46.644541",
     "exception": false,
     "start_time": "2023-12-29T18:55:46.606593",
     "status": "completed"
    },
    "tags": []
   },
   "outputs": [
    {
     "name": "stdout",
     "output_type": "stream",
     "text": [
      "<class 'pandas.core.frame.DataFrame'>\n",
      "RangeIndex: 1303 entries, 0 to 1302\n",
      "Data columns (total 15 columns):\n",
      " #   Column            Non-Null Count  Dtype  \n",
      "---  ------            --------------  -----  \n",
      " 0   Company           1303 non-null   object \n",
      " 1   TypeName          1303 non-null   object \n",
      " 2   Inches            1303 non-null   float64\n",
      " 3   ScreenResolution  1303 non-null   object \n",
      " 4   Cpu               1303 non-null   object \n",
      " 5   Ram               1303 non-null   int32  \n",
      " 6   Memory            1303 non-null   object \n",
      " 7   Gpu               1303 non-null   object \n",
      " 8   OpSys             1303 non-null   object \n",
      " 9   Weight            1303 non-null   float32\n",
      " 10  Price             1303 non-null   float64\n",
      " 11  Touchscreen       1303 non-null   int64  \n",
      " 12  IPS               1303 non-null   int64  \n",
      " 13  x_res             1303 non-null   int64  \n",
      " 14  y_res             1303 non-null   int64  \n",
      "dtypes: float32(1), float64(2), int32(1), int64(4), object(7)\n",
      "memory usage: 142.6+ KB\n"
     ]
    }
   ],
   "source": [
    "df.info()"
   ]
  },
  {
   "cell_type": "code",
   "execution_count": 38,
   "id": "4343f074",
   "metadata": {
    "execution": {
     "iopub.execute_input": "2023-12-29T18:55:46.695815Z",
     "iopub.status.busy": "2023-12-29T18:55:46.694716Z",
     "iopub.status.idle": "2023-12-29T18:55:46.701600Z",
     "shell.execute_reply": "2023-12-29T18:55:46.700924Z"
    },
    "papermill": {
     "duration": 0.034457,
     "end_time": "2023-12-29T18:55:46.703523",
     "exception": false,
     "start_time": "2023-12-29T18:55:46.669066",
     "status": "completed"
    },
    "tags": []
   },
   "outputs": [],
   "source": [
    "df['ppi'] = (((df['x_res']**2)+(df['y_res']**2))**.5/df['Inches']).astype('float')"
   ]
  },
  {
   "cell_type": "code",
   "execution_count": 39,
   "id": "ca4839a8",
   "metadata": {
    "execution": {
     "iopub.execute_input": "2023-12-29T18:55:46.752305Z",
     "iopub.status.busy": "2023-12-29T18:55:46.751412Z",
     "iopub.status.idle": "2023-12-29T18:55:46.759381Z",
     "shell.execute_reply": "2023-12-29T18:55:46.758459Z"
    },
    "papermill": {
     "duration": 0.033763,
     "end_time": "2023-12-29T18:55:46.761030",
     "exception": false,
     "start_time": "2023-12-29T18:55:46.727267",
     "status": "completed"
    },
    "tags": []
   },
   "outputs": [],
   "source": [
    "df.drop(columns=['ScreenResolution'],inplace=True)"
   ]
  },
  {
   "cell_type": "code",
   "execution_count": 40,
   "id": "cc75f2a1",
   "metadata": {
    "execution": {
     "iopub.execute_input": "2023-12-29T18:55:46.810278Z",
     "iopub.status.busy": "2023-12-29T18:55:46.809301Z",
     "iopub.status.idle": "2023-12-29T18:55:46.814881Z",
     "shell.execute_reply": "2023-12-29T18:55:46.814281Z"
    },
    "papermill": {
     "duration": 0.032273,
     "end_time": "2023-12-29T18:55:46.816614",
     "exception": false,
     "start_time": "2023-12-29T18:55:46.784341",
     "status": "completed"
    },
    "tags": []
   },
   "outputs": [],
   "source": [
    "df.drop(columns=['Inches','x_res','y_res'],inplace=True)"
   ]
  },
  {
   "cell_type": "code",
   "execution_count": 41,
   "id": "e3b5a32d",
   "metadata": {
    "execution": {
     "iopub.execute_input": "2023-12-29T18:55:46.865762Z",
     "iopub.status.busy": "2023-12-29T18:55:46.864663Z",
     "iopub.status.idle": "2023-12-29T18:55:46.872212Z",
     "shell.execute_reply": "2023-12-29T18:55:46.871566Z"
    },
    "papermill": {
     "duration": 0.033322,
     "end_time": "2023-12-29T18:55:46.873688",
     "exception": false,
     "start_time": "2023-12-29T18:55:46.840366",
     "status": "completed"
    },
    "tags": []
   },
   "outputs": [
    {
     "data": {
      "text/plain": [
       "Cpu\n",
       "Intel Core i5 7200U 2.5GHz       190\n",
       "Intel Core i7 7700HQ 2.8GHz      146\n",
       "Intel Core i7 7500U 2.7GHz       134\n",
       "Intel Core i7 8550U 1.8GHz        73\n",
       "Intel Core i5 8250U 1.6GHz        72\n",
       "                                ... \n",
       "Intel Core M M3-6Y30 0.9GHz        1\n",
       "AMD A9-Series 9420 2.9GHz          1\n",
       "Intel Core i3 6006U 2.2GHz         1\n",
       "AMD A6-Series 7310 2GHz            1\n",
       "Intel Xeon E3-1535M v6 3.1GHz      1\n",
       "Name: count, Length: 118, dtype: int64"
      ]
     },
     "execution_count": 41,
     "metadata": {},
     "output_type": "execute_result"
    }
   ],
   "source": [
    "df['Cpu'].value_counts()"
   ]
  },
  {
   "cell_type": "code",
   "execution_count": 42,
   "id": "1fadce4d",
   "metadata": {
    "execution": {
     "iopub.execute_input": "2023-12-29T18:55:46.922157Z",
     "iopub.status.busy": "2023-12-29T18:55:46.921823Z",
     "iopub.status.idle": "2023-12-29T18:55:46.928370Z",
     "shell.execute_reply": "2023-12-29T18:55:46.927314Z"
    },
    "papermill": {
     "duration": 0.033086,
     "end_time": "2023-12-29T18:55:46.929991",
     "exception": false,
     "start_time": "2023-12-29T18:55:46.896905",
     "status": "completed"
    },
    "tags": []
   },
   "outputs": [],
   "source": [
    "df['Cpu Name'] = df['Cpu'].apply(lambda x :\" \".join(x.split()[0:3]))"
   ]
  },
  {
   "cell_type": "code",
   "execution_count": 43,
   "id": "f50cad72",
   "metadata": {
    "execution": {
     "iopub.execute_input": "2023-12-29T18:55:46.981810Z",
     "iopub.status.busy": "2023-12-29T18:55:46.980996Z",
     "iopub.status.idle": "2023-12-29T18:55:46.994800Z",
     "shell.execute_reply": "2023-12-29T18:55:46.993957Z"
    },
    "papermill": {
     "duration": 0.040793,
     "end_time": "2023-12-29T18:55:46.996603",
     "exception": false,
     "start_time": "2023-12-29T18:55:46.955810",
     "status": "completed"
    },
    "tags": []
   },
   "outputs": [
    {
     "data": {
      "text/html": [
       "<div>\n",
       "<style scoped>\n",
       "    .dataframe tbody tr th:only-of-type {\n",
       "        vertical-align: middle;\n",
       "    }\n",
       "\n",
       "    .dataframe tbody tr th {\n",
       "        vertical-align: top;\n",
       "    }\n",
       "\n",
       "    .dataframe thead th {\n",
       "        text-align: right;\n",
       "    }\n",
       "</style>\n",
       "<table border=\"1\" class=\"dataframe\">\n",
       "  <thead>\n",
       "    <tr style=\"text-align: right;\">\n",
       "      <th></th>\n",
       "      <th>Company</th>\n",
       "      <th>TypeName</th>\n",
       "      <th>Cpu</th>\n",
       "      <th>Ram</th>\n",
       "      <th>Memory</th>\n",
       "      <th>Gpu</th>\n",
       "      <th>OpSys</th>\n",
       "      <th>Weight</th>\n",
       "      <th>Price</th>\n",
       "      <th>Touchscreen</th>\n",
       "      <th>IPS</th>\n",
       "      <th>ppi</th>\n",
       "      <th>Cpu Name</th>\n",
       "    </tr>\n",
       "  </thead>\n",
       "  <tbody>\n",
       "    <tr>\n",
       "      <th>0</th>\n",
       "      <td>Apple</td>\n",
       "      <td>Ultrabook</td>\n",
       "      <td>Intel Core i5 2.3GHz</td>\n",
       "      <td>8</td>\n",
       "      <td>128GB SSD</td>\n",
       "      <td>Intel Iris Plus Graphics 640</td>\n",
       "      <td>macOS</td>\n",
       "      <td>1.37</td>\n",
       "      <td>71378.6832</td>\n",
       "      <td>0</td>\n",
       "      <td>1</td>\n",
       "      <td>226.983005</td>\n",
       "      <td>Intel Core i5</td>\n",
       "    </tr>\n",
       "    <tr>\n",
       "      <th>1</th>\n",
       "      <td>Apple</td>\n",
       "      <td>Ultrabook</td>\n",
       "      <td>Intel Core i5 1.8GHz</td>\n",
       "      <td>8</td>\n",
       "      <td>128GB Flash Storage</td>\n",
       "      <td>Intel HD Graphics 6000</td>\n",
       "      <td>macOS</td>\n",
       "      <td>1.34</td>\n",
       "      <td>47895.5232</td>\n",
       "      <td>0</td>\n",
       "      <td>0</td>\n",
       "      <td>127.677940</td>\n",
       "      <td>Intel Core i5</td>\n",
       "    </tr>\n",
       "    <tr>\n",
       "      <th>2</th>\n",
       "      <td>HP</td>\n",
       "      <td>Notebook</td>\n",
       "      <td>Intel Core i5 7200U 2.5GHz</td>\n",
       "      <td>8</td>\n",
       "      <td>256GB SSD</td>\n",
       "      <td>Intel HD Graphics 620</td>\n",
       "      <td>No OS</td>\n",
       "      <td>1.86</td>\n",
       "      <td>30636.0000</td>\n",
       "      <td>0</td>\n",
       "      <td>0</td>\n",
       "      <td>141.211998</td>\n",
       "      <td>Intel Core i5</td>\n",
       "    </tr>\n",
       "    <tr>\n",
       "      <th>3</th>\n",
       "      <td>Apple</td>\n",
       "      <td>Ultrabook</td>\n",
       "      <td>Intel Core i7 2.7GHz</td>\n",
       "      <td>16</td>\n",
       "      <td>512GB SSD</td>\n",
       "      <td>AMD Radeon Pro 455</td>\n",
       "      <td>macOS</td>\n",
       "      <td>1.83</td>\n",
       "      <td>135195.3360</td>\n",
       "      <td>0</td>\n",
       "      <td>1</td>\n",
       "      <td>220.534624</td>\n",
       "      <td>Intel Core i7</td>\n",
       "    </tr>\n",
       "    <tr>\n",
       "      <th>4</th>\n",
       "      <td>Apple</td>\n",
       "      <td>Ultrabook</td>\n",
       "      <td>Intel Core i5 3.1GHz</td>\n",
       "      <td>8</td>\n",
       "      <td>256GB SSD</td>\n",
       "      <td>Intel Iris Plus Graphics 650</td>\n",
       "      <td>macOS</td>\n",
       "      <td>1.37</td>\n",
       "      <td>96095.8080</td>\n",
       "      <td>0</td>\n",
       "      <td>1</td>\n",
       "      <td>226.983005</td>\n",
       "      <td>Intel Core i5</td>\n",
       "    </tr>\n",
       "  </tbody>\n",
       "</table>\n",
       "</div>"
      ],
      "text/plain": [
       "  Company   TypeName                         Cpu  Ram               Memory  \\\n",
       "0   Apple  Ultrabook        Intel Core i5 2.3GHz    8            128GB SSD   \n",
       "1   Apple  Ultrabook        Intel Core i5 1.8GHz    8  128GB Flash Storage   \n",
       "2      HP   Notebook  Intel Core i5 7200U 2.5GHz    8            256GB SSD   \n",
       "3   Apple  Ultrabook        Intel Core i7 2.7GHz   16            512GB SSD   \n",
       "4   Apple  Ultrabook        Intel Core i5 3.1GHz    8            256GB SSD   \n",
       "\n",
       "                            Gpu  OpSys  Weight        Price  Touchscreen  IPS  \\\n",
       "0  Intel Iris Plus Graphics 640  macOS    1.37   71378.6832            0    1   \n",
       "1        Intel HD Graphics 6000  macOS    1.34   47895.5232            0    0   \n",
       "2         Intel HD Graphics 620  No OS    1.86   30636.0000            0    0   \n",
       "3            AMD Radeon Pro 455  macOS    1.83  135195.3360            0    1   \n",
       "4  Intel Iris Plus Graphics 650  macOS    1.37   96095.8080            0    1   \n",
       "\n",
       "          ppi       Cpu Name  \n",
       "0  226.983005  Intel Core i5  \n",
       "1  127.677940  Intel Core i5  \n",
       "2  141.211998  Intel Core i5  \n",
       "3  220.534624  Intel Core i7  \n",
       "4  226.983005  Intel Core i5  "
      ]
     },
     "execution_count": 43,
     "metadata": {},
     "output_type": "execute_result"
    }
   ],
   "source": [
    "df.head()"
   ]
  },
  {
   "cell_type": "code",
   "execution_count": 44,
   "id": "35b63b0b",
   "metadata": {
    "execution": {
     "iopub.execute_input": "2023-12-29T18:55:47.045513Z",
     "iopub.status.busy": "2023-12-29T18:55:47.044563Z",
     "iopub.status.idle": "2023-12-29T18:55:47.050058Z",
     "shell.execute_reply": "2023-12-29T18:55:47.049176Z"
    },
    "papermill": {
     "duration": 0.031518,
     "end_time": "2023-12-29T18:55:47.051778",
     "exception": false,
     "start_time": "2023-12-29T18:55:47.020260",
     "status": "completed"
    },
    "tags": []
   },
   "outputs": [],
   "source": [
    "def fetch_processor(text):\n",
    "    if text == 'Intel Core i7' or text == 'Intel Core i5' or text == 'Intel Core i3':\n",
    "        return text\n",
    "    else:\n",
    "        if text.split()[0] == 'Intel':\n",
    "            return 'Other Intel Processor'\n",
    "        else:\n",
    "            return 'AMD Processor'\n",
    "        "
   ]
  },
  {
   "cell_type": "code",
   "execution_count": 45,
   "id": "733c08f9",
   "metadata": {
    "execution": {
     "iopub.execute_input": "2023-12-29T18:55:47.100529Z",
     "iopub.status.busy": "2023-12-29T18:55:47.100114Z",
     "iopub.status.idle": "2023-12-29T18:55:47.105847Z",
     "shell.execute_reply": "2023-12-29T18:55:47.105185Z"
    },
    "papermill": {
     "duration": 0.032273,
     "end_time": "2023-12-29T18:55:47.107501",
     "exception": false,
     "start_time": "2023-12-29T18:55:47.075228",
     "status": "completed"
    },
    "tags": []
   },
   "outputs": [],
   "source": [
    "df['Cpu Brand'] = df['Cpu Name'].apply(fetch_processor)"
   ]
  },
  {
   "cell_type": "code",
   "execution_count": 46,
   "id": "a33fc6c0",
   "metadata": {
    "execution": {
     "iopub.execute_input": "2023-12-29T18:55:47.153727Z",
     "iopub.status.busy": "2023-12-29T18:55:47.153233Z",
     "iopub.status.idle": "2023-12-29T18:55:47.321121Z",
     "shell.execute_reply": "2023-12-29T18:55:47.320523Z"
    },
    "papermill": {
     "duration": 0.192637,
     "end_time": "2023-12-29T18:55:47.322755",
     "exception": false,
     "start_time": "2023-12-29T18:55:47.130118",
     "status": "completed"
    },
    "tags": []
   },
   "outputs": [
    {
     "data": {
      "text/plain": [
       "<Axes: xlabel='Cpu Brand'>"
      ]
     },
     "execution_count": 46,
     "metadata": {},
     "output_type": "execute_result"
    },
    {
     "data": {
      "image/png": "[encoded data removed]",
      "text/plain": [
       "<Figure size 640x480 with 1 Axes>"
      ]
     },
     "metadata": {},
     "output_type": "display_data"
    }
   ],
   "source": [
    "df['Cpu Brand'].value_counts().plot(kind='bar')"
   ]
  },
  {
   "cell_type": "code",
   "execution_count": 47,
   "id": "1aca8f69",
   "metadata": {
    "execution": {
     "iopub.execute_input": "2023-12-29T18:55:47.372967Z",
     "iopub.status.busy": "2023-12-29T18:55:47.372257Z",
     "iopub.status.idle": "2023-12-29T18:55:47.613327Z",
     "shell.execute_reply": "2023-12-29T18:55:47.612624Z"
    },
    "papermill": {
     "duration": 0.268313,
     "end_time": "2023-12-29T18:55:47.615311",
     "exception": false,
     "start_time": "2023-12-29T18:55:47.346998",
     "status": "completed"
    },
    "tags": []
   },
   "outputs": [
    {
     "data": {
      "image/png": "[encoded data removed]",
      "text/plain": [
       "<Figure size 640x480 with 1 Axes>"
      ]
     },
     "metadata": {},
     "output_type": "display_data"
    }
   ],
   "source": [
    "sns.barplot(x=df['Cpu Brand'],y=df['Price'])\n",
    "plt.xticks(rotation='vertical')\n",
    "plt.show()"
   ]
  },
  {
   "cell_type": "code",
   "execution_count": 48,
   "id": "4a1eded6",
   "metadata": {
    "execution": {
     "iopub.execute_input": "2023-12-29T18:55:47.670210Z",
     "iopub.status.busy": "2023-12-29T18:55:47.669873Z",
     "iopub.status.idle": "2023-12-29T18:55:47.674834Z",
     "shell.execute_reply": "2023-12-29T18:55:47.674271Z"
    },
    "papermill": {
     "duration": 0.033471,
     "end_time": "2023-12-29T18:55:47.676294",
     "exception": false,
     "start_time": "2023-12-29T18:55:47.642823",
     "status": "completed"
    },
    "tags": []
   },
   "outputs": [],
   "source": [
    "df.drop(columns=['Cpu','Cpu Name'],inplace=True)"
   ]
  },
  {
   "cell_type": "code",
   "execution_count": 49,
   "id": "dc3e60e9",
   "metadata": {
    "execution": {
     "iopub.execute_input": "2023-12-29T18:55:47.723422Z",
     "iopub.status.busy": "2023-12-29T18:55:47.722873Z",
     "iopub.status.idle": "2023-12-29T18:55:47.735378Z",
     "shell.execute_reply": "2023-12-29T18:55:47.734443Z"
    },
    "papermill": {
     "duration": 0.037258,
     "end_time": "2023-12-29T18:55:47.736794",
     "exception": false,
     "start_time": "2023-12-29T18:55:47.699536",
     "status": "completed"
    },
    "tags": []
   },
   "outputs": [
    {
     "data": {
      "text/html": [
       "<div>\n",
       "<style scoped>\n",
       "    .dataframe tbody tr th:only-of-type {\n",
       "        vertical-align: middle;\n",
       "    }\n",
       "\n",
       "    .dataframe tbody tr th {\n",
       "        vertical-align: top;\n",
       "    }\n",
       "\n",
       "    .dataframe thead th {\n",
       "        text-align: right;\n",
       "    }\n",
       "</style>\n",
       "<table border=\"1\" class=\"dataframe\">\n",
       "  <thead>\n",
       "    <tr style=\"text-align: right;\">\n",
       "      <th></th>\n",
       "      <th>Company</th>\n",
       "      <th>TypeName</th>\n",
       "      <th>Ram</th>\n",
       "      <th>Memory</th>\n",
       "      <th>Gpu</th>\n",
       "      <th>OpSys</th>\n",
       "      <th>Weight</th>\n",
       "      <th>Price</th>\n",
       "      <th>Touchscreen</th>\n",
       "      <th>IPS</th>\n",
       "      <th>ppi</th>\n",
       "      <th>Cpu Brand</th>\n",
       "    </tr>\n",
       "  </thead>\n",
       "  <tbody>\n",
       "    <tr>\n",
       "      <th>0</th>\n",
       "      <td>Apple</td>\n",
       "      <td>Ultrabook</td>\n",
       "      <td>8</td>\n",
       "      <td>128GB SSD</td>\n",
       "      <td>Intel Iris Plus Graphics 640</td>\n",
       "      <td>macOS</td>\n",
       "      <td>1.37</td>\n",
       "      <td>71378.6832</td>\n",
       "      <td>0</td>\n",
       "      <td>1</td>\n",
       "      <td>226.983005</td>\n",
       "      <td>Intel Core i5</td>\n",
       "    </tr>\n",
       "    <tr>\n",
       "      <th>1</th>\n",
       "      <td>Apple</td>\n",
       "      <td>Ultrabook</td>\n",
       "      <td>8</td>\n",
       "      <td>128GB Flash Storage</td>\n",
       "      <td>Intel HD Graphics 6000</td>\n",
       "      <td>macOS</td>\n",
       "      <td>1.34</td>\n",
       "      <td>47895.5232</td>\n",
       "      <td>0</td>\n",
       "      <td>0</td>\n",
       "      <td>127.677940</td>\n",
       "      <td>Intel Core i5</td>\n",
       "    </tr>\n",
       "    <tr>\n",
       "      <th>2</th>\n",
       "      <td>HP</td>\n",
       "      <td>Notebook</td>\n",
       "      <td>8</td>\n",
       "      <td>256GB SSD</td>\n",
       "      <td>Intel HD Graphics 620</td>\n",
       "      <td>No OS</td>\n",
       "      <td>1.86</td>\n",
       "      <td>30636.0000</td>\n",
       "      <td>0</td>\n",
       "      <td>0</td>\n",
       "      <td>141.211998</td>\n",
       "      <td>Intel Core i5</td>\n",
       "    </tr>\n",
       "    <tr>\n",
       "      <th>3</th>\n",
       "      <td>Apple</td>\n",
       "      <td>Ultrabook</td>\n",
       "      <td>16</td>\n",
       "      <td>512GB SSD</td>\n",
       "      <td>AMD Radeon Pro 455</td>\n",
       "      <td>macOS</td>\n",
       "      <td>1.83</td>\n",
       "      <td>135195.3360</td>\n",
       "      <td>0</td>\n",
       "      <td>1</td>\n",
       "      <td>220.534624</td>\n",
       "      <td>Intel Core i7</td>\n",
       "    </tr>\n",
       "    <tr>\n",
       "      <th>4</th>\n",
       "      <td>Apple</td>\n",
       "      <td>Ultrabook</td>\n",
       "      <td>8</td>\n",
       "      <td>256GB SSD</td>\n",
       "      <td>Intel Iris Plus Graphics 650</td>\n",
       "      <td>macOS</td>\n",
       "      <td>1.37</td>\n",
       "      <td>96095.8080</td>\n",
       "      <td>0</td>\n",
       "      <td>1</td>\n",
       "      <td>226.983005</td>\n",
       "      <td>Intel Core i5</td>\n",
       "    </tr>\n",
       "  </tbody>\n",
       "</table>\n",
       "</div>"
      ],
      "text/plain": [
       "  Company   TypeName  Ram               Memory                           Gpu  \\\n",
       "0   Apple  Ultrabook    8            128GB SSD  Intel Iris Plus Graphics 640   \n",
       "1   Apple  Ultrabook    8  128GB Flash Storage        Intel HD Graphics 6000   \n",
       "2      HP   Notebook    8            256GB SSD         Intel HD Graphics 620   \n",
       "3   Apple  Ultrabook   16            512GB SSD            AMD Radeon Pro 455   \n",
       "4   Apple  Ultrabook    8            256GB SSD  Intel Iris Plus Graphics 650   \n",
       "\n",
       "   OpSys  Weight        Price  Touchscreen  IPS         ppi      Cpu Brand  \n",
       "0  macOS    1.37   71378.6832            0    1  226.983005  Intel Core i5  \n",
       "1  macOS    1.34   47895.5232            0    0  127.677940  Intel Core i5  \n",
       "2  No OS    1.86   30636.0000            0    0  141.211998  Intel Core i5  \n",
       "3  macOS    1.83  135195.3360            0    1  220.534624  Intel Core i7  \n",
       "4  macOS    1.37   96095.8080            0    1  226.983005  Intel Core i5  "
      ]
     },
     "execution_count": 49,
     "metadata": {},
     "output_type": "execute_result"
    }
   ],
   "source": [
    "df.head()"
   ]
  },
  {
   "cell_type": "code",
   "execution_count": 50,
   "id": "e0bd86e4",
   "metadata": {
    "execution": {
     "iopub.execute_input": "2023-12-29T18:55:47.782179Z",
     "iopub.status.busy": "2023-12-29T18:55:47.781709Z",
     "iopub.status.idle": "2023-12-29T18:55:47.961077Z",
     "shell.execute_reply": "2023-12-29T18:55:47.960507Z"
    },
    "papermill": {
     "duration": 0.203833,
     "end_time": "2023-12-29T18:55:47.962585",
     "exception": false,
     "start_time": "2023-12-29T18:55:47.758752",
     "status": "completed"
    },
    "tags": []
   },
   "outputs": [
    {
     "data": {
      "text/plain": [
       "<Axes: xlabel='Ram'>"
      ]
     },
     "execution_count": 50,
     "metadata": {},
     "output_type": "execute_result"
    },
    {
     "data": {
      "image/png": "[encoded data removed]",
      "text/plain": [
       "<Figure size 640x480 with 1 Axes>"
      ]
     },
     "metadata": {},
     "output_type": "display_data"
    }
   ],
   "source": [
    "df['Ram'].value_counts().plot(kind='bar')"
   ]
  },
  {
   "cell_type": "code",
   "execution_count": 51,
   "id": "6a02409c",
   "metadata": {
    "execution": {
     "iopub.execute_input": "2023-12-29T18:55:48.013770Z",
     "iopub.status.busy": "2023-12-29T18:55:48.013305Z",
     "iopub.status.idle": "2023-12-29T18:55:48.360616Z",
     "shell.execute_reply": "2023-12-29T18:55:48.359387Z"
    },
    "papermill": {
     "duration": 0.374969,
     "end_time": "2023-12-29T18:55:48.362214",
     "exception": false,
     "start_time": "2023-12-29T18:55:47.987245",
     "status": "completed"
    },
    "tags": []
   },
   "outputs": [
    {
     "data": {
      "image/png": "[encoded data removed]",
      "text/plain": [
       "<Figure size 640x480 with 1 Axes>"
      ]
     },
     "metadata": {},
     "output_type": "display_data"
    }
   ],
   "source": [
    "sns.barplot(x=df['Ram'],y=df['Price'])\n",
    "plt.xticks(rotation='vertical')\n",
    "plt.show()"
   ]
  },
  {
   "cell_type": "code",
   "execution_count": 52,
   "id": "df06e8f4",
   "metadata": {
    "execution": {
     "iopub.execute_input": "2023-12-29T18:55:48.411764Z",
     "iopub.status.busy": "2023-12-29T18:55:48.411206Z",
     "iopub.status.idle": "2023-12-29T18:55:48.417858Z",
     "shell.execute_reply": "2023-12-29T18:55:48.417265Z"
    },
    "papermill": {
     "duration": 0.033377,
     "end_time": "2023-12-29T18:55:48.419361",
     "exception": false,
     "start_time": "2023-12-29T18:55:48.385984",
     "status": "completed"
    },
    "tags": []
   },
   "outputs": [
    {
     "data": {
      "text/plain": [
       "Memory\n",
       "256GB SSD                        412\n",
       "1TB HDD                          223\n",
       "500GB HDD                        132\n",
       "512GB SSD                        118\n",
       "128GB SSD +  1TB HDD              94\n",
       "128GB SSD                         76\n",
       "256GB SSD +  1TB HDD              73\n",
       "32GB Flash Storage                38\n",
       "2TB HDD                           16\n",
       "64GB Flash Storage                15\n",
       "512GB SSD +  1TB HDD              14\n",
       "1TB SSD                           14\n",
       "256GB SSD +  2TB HDD              10\n",
       "1.0TB Hybrid                       9\n",
       "256GB Flash Storage                8\n",
       "16GB Flash Storage                 7\n",
       "32GB SSD                           6\n",
       "180GB SSD                          5\n",
       "128GB Flash Storage                4\n",
       "512GB SSD +  2TB HDD               3\n",
       "16GB SSD                           3\n",
       "512GB Flash Storage                2\n",
       "1TB SSD +  1TB HDD                 2\n",
       "256GB SSD +  500GB HDD             2\n",
       "128GB SSD +  2TB HDD               2\n",
       "256GB SSD +  256GB SSD             2\n",
       "512GB SSD +  256GB SSD             1\n",
       "512GB SSD +  512GB SSD             1\n",
       "64GB Flash Storage +  1TB HDD      1\n",
       "1TB HDD +  1TB HDD                 1\n",
       "32GB HDD                           1\n",
       "64GB SSD                           1\n",
       "128GB HDD                          1\n",
       "240GB SSD                          1\n",
       "8GB SSD                            1\n",
       "508GB Hybrid                       1\n",
       "1.0TB HDD                          1\n",
       "512GB SSD +  1.0TB Hybrid          1\n",
       "256GB SSD +  1.0TB Hybrid          1\n",
       "Name: count, dtype: int64"
      ]
     },
     "execution_count": 52,
     "metadata": {},
     "output_type": "execute_result"
    }
   ],
   "source": [
    "df['Memory'].value_counts()\n"
   ]
  },
  {
   "cell_type": "code",
   "execution_count": 53,
   "id": "c30e6032",
   "metadata": {
    "execution": {
     "iopub.execute_input": "2023-12-29T18:55:48.466824Z",
     "iopub.status.busy": "2023-12-29T18:55:48.466425Z",
     "iopub.status.idle": "2023-12-29T18:55:48.472251Z",
     "shell.execute_reply": "2023-12-29T18:55:48.471370Z"
    },
    "papermill": {
     "duration": 0.031789,
     "end_time": "2023-12-29T18:55:48.473881",
     "exception": false,
     "start_time": "2023-12-29T18:55:48.442092",
     "status": "completed"
    },
    "tags": []
   },
   "outputs": [],
   "source": [
    "df.drop('Memory',axis=1,inplace=True)"
   ]
  },
  {
   "cell_type": "code",
   "execution_count": 54,
   "id": "ba77145b",
   "metadata": {
    "execution": {
     "iopub.execute_input": "2023-12-29T18:55:48.523261Z",
     "iopub.status.busy": "2023-12-29T18:55:48.522874Z",
     "iopub.status.idle": "2023-12-29T18:55:48.535108Z",
     "shell.execute_reply": "2023-12-29T18:55:48.534312Z"
    },
    "papermill": {
     "duration": 0.038673,
     "end_time": "2023-12-29T18:55:48.536637",
     "exception": false,
     "start_time": "2023-12-29T18:55:48.497964",
     "status": "completed"
    },
    "tags": []
   },
   "outputs": [
    {
     "data": {
      "text/html": [
       "<div>\n",
       "<style scoped>\n",
       "    .dataframe tbody tr th:only-of-type {\n",
       "        vertical-align: middle;\n",
       "    }\n",
       "\n",
       "    .dataframe tbody tr th {\n",
       "        vertical-align: top;\n",
       "    }\n",
       "\n",
       "    .dataframe thead th {\n",
       "        text-align: right;\n",
       "    }\n",
       "</style>\n",
       "<table border=\"1\" class=\"dataframe\">\n",
       "  <thead>\n",
       "    <tr style=\"text-align: right;\">\n",
       "      <th></th>\n",
       "      <th>Company</th>\n",
       "      <th>TypeName</th>\n",
       "      <th>Ram</th>\n",
       "      <th>Gpu</th>\n",
       "      <th>OpSys</th>\n",
       "      <th>Weight</th>\n",
       "      <th>Price</th>\n",
       "      <th>Touchscreen</th>\n",
       "      <th>IPS</th>\n",
       "      <th>ppi</th>\n",
       "      <th>Cpu Brand</th>\n",
       "    </tr>\n",
       "  </thead>\n",
       "  <tbody>\n",
       "    <tr>\n",
       "      <th>0</th>\n",
       "      <td>Apple</td>\n",
       "      <td>Ultrabook</td>\n",
       "      <td>8</td>\n",
       "      <td>Intel Iris Plus Graphics 640</td>\n",
       "      <td>macOS</td>\n",
       "      <td>1.37</td>\n",
       "      <td>71378.6832</td>\n",
       "      <td>0</td>\n",
       "      <td>1</td>\n",
       "      <td>226.983005</td>\n",
       "      <td>Intel Core i5</td>\n",
       "    </tr>\n",
       "    <tr>\n",
       "      <th>1</th>\n",
       "      <td>Apple</td>\n",
       "      <td>Ultrabook</td>\n",
       "      <td>8</td>\n",
       "      <td>Intel HD Graphics 6000</td>\n",
       "      <td>macOS</td>\n",
       "      <td>1.34</td>\n",
       "      <td>47895.5232</td>\n",
       "      <td>0</td>\n",
       "      <td>0</td>\n",
       "      <td>127.677940</td>\n",
       "      <td>Intel Core i5</td>\n",
       "    </tr>\n",
       "    <tr>\n",
       "      <th>2</th>\n",
       "      <td>HP</td>\n",
       "      <td>Notebook</td>\n",
       "      <td>8</td>\n",
       "      <td>Intel HD Graphics 620</td>\n",
       "      <td>No OS</td>\n",
       "      <td>1.86</td>\n",
       "      <td>30636.0000</td>\n",
       "      <td>0</td>\n",
       "      <td>0</td>\n",
       "      <td>141.211998</td>\n",
       "      <td>Intel Core i5</td>\n",
       "    </tr>\n",
       "    <tr>\n",
       "      <th>3</th>\n",
       "      <td>Apple</td>\n",
       "      <td>Ultrabook</td>\n",
       "      <td>16</td>\n",
       "      <td>AMD Radeon Pro 455</td>\n",
       "      <td>macOS</td>\n",
       "      <td>1.83</td>\n",
       "      <td>135195.3360</td>\n",
       "      <td>0</td>\n",
       "      <td>1</td>\n",
       "      <td>220.534624</td>\n",
       "      <td>Intel Core i7</td>\n",
       "    </tr>\n",
       "    <tr>\n",
       "      <th>4</th>\n",
       "      <td>Apple</td>\n",
       "      <td>Ultrabook</td>\n",
       "      <td>8</td>\n",
       "      <td>Intel Iris Plus Graphics 650</td>\n",
       "      <td>macOS</td>\n",
       "      <td>1.37</td>\n",
       "      <td>96095.8080</td>\n",
       "      <td>0</td>\n",
       "      <td>1</td>\n",
       "      <td>226.983005</td>\n",
       "      <td>Intel Core i5</td>\n",
       "    </tr>\n",
       "  </tbody>\n",
       "</table>\n",
       "</div>"
      ],
      "text/plain": [
       "  Company   TypeName  Ram                           Gpu  OpSys  Weight  \\\n",
       "0   Apple  Ultrabook    8  Intel Iris Plus Graphics 640  macOS    1.37   \n",
       "1   Apple  Ultrabook    8        Intel HD Graphics 6000  macOS    1.34   \n",
       "2      HP   Notebook    8         Intel HD Graphics 620  No OS    1.86   \n",
       "3   Apple  Ultrabook   16            AMD Radeon Pro 455  macOS    1.83   \n",
       "4   Apple  Ultrabook    8  Intel Iris Plus Graphics 650  macOS    1.37   \n",
       "\n",
       "         Price  Touchscreen  IPS         ppi      Cpu Brand  \n",
       "0   71378.6832            0    1  226.983005  Intel Core i5  \n",
       "1   47895.5232            0    0  127.677940  Intel Core i5  \n",
       "2   30636.0000            0    0  141.211998  Intel Core i5  \n",
       "3  135195.3360            0    1  220.534624  Intel Core i7  \n",
       "4   96095.8080            0    1  226.983005  Intel Core i5  "
      ]
     },
     "execution_count": 54,
     "metadata": {},
     "output_type": "execute_result"
    }
   ],
   "source": [
    "df.head()"
   ]
  },
  {
   "cell_type": "code",
   "execution_count": 55,
   "id": "9ce47295",
   "metadata": {
    "execution": {
     "iopub.execute_input": "2023-12-29T18:55:48.587495Z",
     "iopub.status.busy": "2023-12-29T18:55:48.587121Z",
     "iopub.status.idle": "2023-12-29T18:55:48.595423Z",
     "shell.execute_reply": "2023-12-29T18:55:48.594455Z"
    },
    "papermill": {
     "duration": 0.036363,
     "end_time": "2023-12-29T18:55:48.597691",
     "exception": false,
     "start_time": "2023-12-29T18:55:48.561328",
     "status": "completed"
    },
    "tags": []
   },
   "outputs": [
    {
     "data": {
      "text/plain": [
       "Gpu\n",
       "Intel HD Graphics 620      281\n",
       "Intel HD Graphics 520      185\n",
       "Intel UHD Graphics 620      68\n",
       "Nvidia GeForce GTX 1050     66\n",
       "Nvidia GeForce GTX 1060     48\n",
       "                          ... \n",
       "AMD Radeon R5 520            1\n",
       "AMD Radeon R7                1\n",
       "Intel HD Graphics 540        1\n",
       "AMD Radeon 540               1\n",
       "ARM Mali T860 MP4            1\n",
       "Name: count, Length: 110, dtype: int64"
      ]
     },
     "execution_count": 55,
     "metadata": {},
     "output_type": "execute_result"
    }
   ],
   "source": [
    "df['Gpu'].value_counts()"
   ]
  },
  {
   "cell_type": "code",
   "execution_count": 56,
   "id": "13f4f6e2",
   "metadata": {
    "execution": {
     "iopub.execute_input": "2023-12-29T18:55:48.651458Z",
     "iopub.status.busy": "2023-12-29T18:55:48.650689Z",
     "iopub.status.idle": "2023-12-29T18:55:48.657298Z",
     "shell.execute_reply": "2023-12-29T18:55:48.656388Z"
    },
    "papermill": {
     "duration": 0.03563,
     "end_time": "2023-12-29T18:55:48.659236",
     "exception": false,
     "start_time": "2023-12-29T18:55:48.623606",
     "status": "completed"
    },
    "tags": []
   },
   "outputs": [],
   "source": [
    "df['Gpu Brand'] = df['Gpu'].apply(lambda x:x.split()[0])"
   ]
  },
  {
   "cell_type": "code",
   "execution_count": 57,
   "id": "3fa5d904",
   "metadata": {
    "execution": {
     "iopub.execute_input": "2023-12-29T18:55:48.711464Z",
     "iopub.status.busy": "2023-12-29T18:55:48.711149Z",
     "iopub.status.idle": "2023-12-29T18:55:48.718155Z",
     "shell.execute_reply": "2023-12-29T18:55:48.717187Z"
    },
    "papermill": {
     "duration": 0.035531,
     "end_time": "2023-12-29T18:55:48.719959",
     "exception": false,
     "start_time": "2023-12-29T18:55:48.684428",
     "status": "completed"
    },
    "tags": []
   },
   "outputs": [
    {
     "data": {
      "text/plain": [
       "Gpu Brand\n",
       "Intel     722\n",
       "Nvidia    400\n",
       "AMD       180\n",
       "ARM         1\n",
       "Name: count, dtype: int64"
      ]
     },
     "execution_count": 57,
     "metadata": {},
     "output_type": "execute_result"
    }
   ],
   "source": [
    "df['Gpu Brand'].value_counts()"
   ]
  },
  {
   "cell_type": "code",
   "execution_count": 58,
   "id": "cb44c388",
   "metadata": {
    "execution": {
     "iopub.execute_input": "2023-12-29T18:55:48.772565Z",
     "iopub.status.busy": "2023-12-29T18:55:48.772275Z",
     "iopub.status.idle": "2023-12-29T18:55:48.777502Z",
     "shell.execute_reply": "2023-12-29T18:55:48.776830Z"
    },
    "papermill": {
     "duration": 0.033249,
     "end_time": "2023-12-29T18:55:48.779075",
     "exception": false,
     "start_time": "2023-12-29T18:55:48.745826",
     "status": "completed"
    },
    "tags": []
   },
   "outputs": [],
   "source": [
    "df = df[df['Gpu Brand'] != 'ARM'] "
   ]
  },
  {
   "cell_type": "code",
   "execution_count": 59,
   "id": "72c57680",
   "metadata": {
    "execution": {
     "iopub.execute_input": "2023-12-29T18:55:48.830999Z",
     "iopub.status.busy": "2023-12-29T18:55:48.830708Z",
     "iopub.status.idle": "2023-12-29T18:55:49.041627Z",
     "shell.execute_reply": "2023-12-29T18:55:49.040835Z"
    },
    "papermill": {
     "duration": 0.239507,
     "end_time": "2023-12-29T18:55:49.043295",
     "exception": false,
     "start_time": "2023-12-29T18:55:48.803788",
     "status": "completed"
    },
    "tags": []
   },
   "outputs": [
    {
     "data": {
      "image/png": "[encoded data removed]",
      "text/plain": [
       "<Figure size 640x480 with 1 Axes>"
      ]
     },
     "metadata": {},
     "output_type": "display_data"
    }
   ],
   "source": [
    "sns.barplot(x=df['Gpu Brand'],y=df['Price'])\n",
    "plt.xticks(rotation='vertical')\n",
    "plt.show()"
   ]
  },
  {
   "cell_type": "code",
   "execution_count": 60,
   "id": "f46b9bd5",
   "metadata": {
    "execution": {
     "iopub.execute_input": "2023-12-29T18:55:49.095919Z",
     "iopub.status.busy": "2023-12-29T18:55:49.095062Z",
     "iopub.status.idle": "2023-12-29T18:55:49.100482Z",
     "shell.execute_reply": "2023-12-29T18:55:49.099880Z"
    },
    "papermill": {
     "duration": 0.032564,
     "end_time": "2023-12-29T18:55:49.102159",
     "exception": false,
     "start_time": "2023-12-29T18:55:49.069595",
     "status": "completed"
    },
    "tags": []
   },
   "outputs": [],
   "source": [
    "df.drop('Gpu',axis=1,inplace=True)"
   ]
  },
  {
   "cell_type": "code",
   "execution_count": 61,
   "id": "512ea64e",
   "metadata": {
    "execution": {
     "iopub.execute_input": "2023-12-29T18:55:49.155318Z",
     "iopub.status.busy": "2023-12-29T18:55:49.154618Z",
     "iopub.status.idle": "2023-12-29T18:55:49.161602Z",
     "shell.execute_reply": "2023-12-29T18:55:49.160990Z"
    },
    "papermill": {
     "duration": 0.036381,
     "end_time": "2023-12-29T18:55:49.163255",
     "exception": false,
     "start_time": "2023-12-29T18:55:49.126874",
     "status": "completed"
    },
    "tags": []
   },
   "outputs": [
    {
     "data": {
      "text/plain": [
       "OpSys\n",
       "Windows 10      1072\n",
       "No OS             66\n",
       "Linux             62\n",
       "Windows 7         45\n",
       "Chrome OS         26\n",
       "macOS             13\n",
       "Mac OS X           8\n",
       "Windows 10 S       8\n",
       "Android            2\n",
       "Name: count, dtype: int64"
      ]
     },
     "execution_count": 61,
     "metadata": {},
     "output_type": "execute_result"
    }
   ],
   "source": [
    "df['OpSys'].value_counts()"
   ]
  },
  {
   "cell_type": "code",
   "execution_count": 62,
   "id": "85aa8c24",
   "metadata": {
    "execution": {
     "iopub.execute_input": "2023-12-29T18:55:49.213511Z",
     "iopub.status.busy": "2023-12-29T18:55:49.212948Z",
     "iopub.status.idle": "2023-12-29T18:55:49.550187Z",
     "shell.execute_reply": "2023-12-29T18:55:49.548898Z"
    },
    "papermill": {
     "duration": 0.364322,
     "end_time": "2023-12-29T18:55:49.552075",
     "exception": false,
     "start_time": "2023-12-29T18:55:49.187753",
     "status": "completed"
    },
    "tags": []
   },
   "outputs": [
    {
     "data": {
      "image/png": "[encoded data removed]",
      "text/plain": [
       "<Figure size 640x480 with 1 Axes>"
      ]
     },
     "metadata": {},
     "output_type": "display_data"
    }
   ],
   "source": [
    "sns.barplot(x=df['OpSys'],y=df['Price'])\n",
    "plt.xticks(rotation='vertical')\n",
    "plt.show()"
   ]
  },
  {
   "cell_type": "code",
   "execution_count": 63,
   "id": "ec8444f0",
   "metadata": {
    "execution": {
     "iopub.execute_input": "2023-12-29T18:55:49.609487Z",
     "iopub.status.busy": "2023-12-29T18:55:49.609114Z",
     "iopub.status.idle": "2023-12-29T18:55:49.614597Z",
     "shell.execute_reply": "2023-12-29T18:55:49.613727Z"
    },
    "papermill": {
     "duration": 0.039501,
     "end_time": "2023-12-29T18:55:49.616778",
     "exception": false,
     "start_time": "2023-12-29T18:55:49.577277",
     "status": "completed"
    },
    "tags": []
   },
   "outputs": [],
   "source": [
    "\n",
    "\n",
    "def cat_os(inp):\n",
    "    if inp == 'Windows 10' or inp == 'Windows 7' or inp == 'Windows 10 S':\n",
    "        return 'Windows'\n",
    "    elif inp == 'macOS' or inp == 'Mac OS X':\n",
    "        return 'Mac'\n",
    "    else:\n",
    "        return 'Others/No OS/Linux'\n",
    "\n"
   ]
  },
  {
   "cell_type": "code",
   "execution_count": 64,
   "id": "cd5c7a0c",
   "metadata": {
    "execution": {
     "iopub.execute_input": "2023-12-29T18:55:49.671783Z",
     "iopub.status.busy": "2023-12-29T18:55:49.670673Z",
     "iopub.status.idle": "2023-12-29T18:55:49.675948Z",
     "shell.execute_reply": "2023-12-29T18:55:49.675429Z"
    },
    "papermill": {
     "duration": 0.035379,
     "end_time": "2023-12-29T18:55:49.677404",
     "exception": false,
     "start_time": "2023-12-29T18:55:49.642025",
     "status": "completed"
    },
    "tags": []
   },
   "outputs": [],
   "source": [
    "df['os'] = df['OpSys'].apply(cat_os)"
   ]
  },
  {
   "cell_type": "code",
   "execution_count": 65,
   "id": "5bd7977f",
   "metadata": {
    "execution": {
     "iopub.execute_input": "2023-12-29T18:55:49.729180Z",
     "iopub.status.busy": "2023-12-29T18:55:49.728214Z",
     "iopub.status.idle": "2023-12-29T18:55:49.733245Z",
     "shell.execute_reply": "2023-12-29T18:55:49.732657Z"
    },
    "papermill": {
     "duration": 0.03265,
     "end_time": "2023-12-29T18:55:49.734687",
     "exception": false,
     "start_time": "2023-12-29T18:55:49.702037",
     "status": "completed"
    },
    "tags": []
   },
   "outputs": [],
   "source": [
    "df.drop('OpSys',axis=1,inplace=True)"
   ]
  },
  {
   "cell_type": "code",
   "execution_count": 66,
   "id": "d3d20905",
   "metadata": {
    "execution": {
     "iopub.execute_input": "2023-12-29T18:55:49.786761Z",
     "iopub.status.busy": "2023-12-29T18:55:49.786230Z",
     "iopub.status.idle": "2023-12-29T18:55:49.987171Z",
     "shell.execute_reply": "2023-12-29T18:55:49.986441Z"
    },
    "papermill": {
     "duration": 0.228594,
     "end_time": "2023-12-29T18:55:49.988791",
     "exception": false,
     "start_time": "2023-12-29T18:55:49.760197",
     "status": "completed"
    },
    "tags": []
   },
   "outputs": [
    {
     "data": {
      "image/png": "[encoded data removed]",
      "text/plain": [
       "<Figure size 640x480 with 1 Axes>"
      ]
     },
     "metadata": {},
     "output_type": "display_data"
    }
   ],
   "source": [
    "sns.barplot(x=df['os'],y=df['Price'])\n",
    "plt.xticks(rotation='vertical')\n",
    "plt.show()"
   ]
  },
  {
   "cell_type": "code",
   "execution_count": 67,
   "id": "4659880d",
   "metadata": {
    "execution": {
     "iopub.execute_input": "2023-12-29T18:55:50.044656Z",
     "iopub.status.busy": "2023-12-29T18:55:50.044124Z",
     "iopub.status.idle": "2023-12-29T18:55:50.321356Z",
     "shell.execute_reply": "2023-12-29T18:55:50.320489Z"
    },
    "papermill": {
     "duration": 0.305759,
     "end_time": "2023-12-29T18:55:50.323081",
     "exception": false,
     "start_time": "2023-12-29T18:55:50.017322",
     "status": "completed"
    },
    "tags": []
   },
   "outputs": [
    {
     "name": "stderr",
     "output_type": "stream",
     "text": [
      "/tmp/ipykernel_20/1125578356.py:1: UserWarning: \n",
      "\n",
      "`distplot` is a deprecated function and will be removed in seaborn v0.14.0.\n",
      "\n",
      "Please adapt your code to use either `displot` (a figure-level function with\n",
      "similar flexibility) or `histplot` (an axes-level function for histograms).\n",
      "\n",
      "For a guide to updating your code to use the new functions, please see\n",
      "https://gist.github.com/mwaskom/de44147ed2974457ad6372750bbe5751\n",
      "\n",
      "  sns.distplot(df['Weight'])\n"
     ]
    },
    {
     "data": {
      "text/plain": [
       "<Axes: xlabel='Weight', ylabel='Density'>"
      ]
     },
     "execution_count": 67,
     "metadata": {},
     "output_type": "execute_result"
    },
    {
     "data": {
      "image/png": "[encoded data removed]",
      "text/plain": [
       "<Figure size 640x480 with 1 Axes>"
      ]
     },
     "metadata": {},
     "output_type": "display_data"
    }
   ],
   "source": [
    "sns.distplot(df['Weight'])"
   ]
  },
  {
   "cell_type": "code",
   "execution_count": 68,
   "id": "15341c45",
   "metadata": {
    "execution": {
     "iopub.execute_input": "2023-12-29T18:55:50.390119Z",
     "iopub.status.busy": "2023-12-29T18:55:50.389756Z",
     "iopub.status.idle": "2023-12-29T18:55:50.622857Z",
     "shell.execute_reply": "2023-12-29T18:55:50.622015Z"
    },
    "papermill": {
     "duration": 0.269544,
     "end_time": "2023-12-29T18:55:50.624584",
     "exception": false,
     "start_time": "2023-12-29T18:55:50.355040",
     "status": "completed"
    },
    "tags": []
   },
   "outputs": [
    {
     "data": {
      "text/plain": [
       "<Axes: xlabel='Weight', ylabel='Price'>"
      ]
     },
     "execution_count": 68,
     "metadata": {},
     "output_type": "execute_result"
    },
    {
     "data": {
      "image/png": "[encoded data removed]",
      "text/plain": [
       "<Figure size 640x480 with 1 Axes>"
      ]
     },
     "metadata": {},
     "output_type": "display_data"
    }
   ],
   "source": [
    "sns.scatterplot(x=df['Weight'],y=df['Price'])"
   ]
  },
  {
   "cell_type": "code",
   "execution_count": 69,
   "id": "444169da",
   "metadata": {
    "execution": {
     "iopub.execute_input": "2023-12-29T18:55:50.682859Z",
     "iopub.status.busy": "2023-12-29T18:55:50.682537Z",
     "iopub.status.idle": "2023-12-29T18:55:50.974196Z",
     "shell.execute_reply": "2023-12-29T18:55:50.973282Z"
    },
    "papermill": {
     "duration": 0.325087,
     "end_time": "2023-12-29T18:55:50.976121",
     "exception": false,
     "start_time": "2023-12-29T18:55:50.651034",
     "status": "completed"
    },
    "tags": []
   },
   "outputs": [
    {
     "name": "stderr",
     "output_type": "stream",
     "text": [
      "/tmp/ipykernel_20/3556049916.py:1: UserWarning: \n",
      "\n",
      "`distplot` is a deprecated function and will be removed in seaborn v0.14.0.\n",
      "\n",
      "Please adapt your code to use either `displot` (a figure-level function with\n",
      "similar flexibility) or `histplot` (an axes-level function for histograms).\n",
      "\n",
      "For a guide to updating your code to use the new functions, please see\n",
      "https://gist.github.com/mwaskom/de44147ed2974457ad6372750bbe5751\n",
      "\n",
      "  sns.distplot(np.log(df['Price']))\n"
     ]
    },
    {
     "data": {
      "text/plain": [
       "<Axes: xlabel='Price', ylabel='Density'>"
      ]
     },
     "execution_count": 69,
     "metadata": {},
     "output_type": "execute_result"
    },
    {
     "data": {
      "image/png": "[encoded data removed]",
      "text/plain": [
       "<Figure size 640x480 with 1 Axes>"
      ]
     },
     "metadata": {},
     "output_type": "display_data"
    }
   ],
   "source": [
    "sns.distplot(np.log(df['Price']))"
   ]
  },
  {
   "cell_type": "markdown",
   "id": "278e0b84",
   "metadata": {
    "papermill": {
     "duration": 0.025892,
     "end_time": "2023-12-29T18:55:51.028728",
     "exception": false,
     "start_time": "2023-12-29T18:55:51.002836",
     "status": "completed"
    },
    "tags": []
   },
   "source": [
    "# Spliting Data "
   ]
  },
  {
   "cell_type": "code",
   "execution_count": 70,
   "id": "6378a6e4",
   "metadata": {
    "execution": {
     "iopub.execute_input": "2023-12-29T18:55:51.086765Z",
     "iopub.status.busy": "2023-12-29T18:55:51.086487Z",
     "iopub.status.idle": "2023-12-29T18:55:51.092611Z",
     "shell.execute_reply": "2023-12-29T18:55:51.091613Z"
    },
    "papermill": {
     "duration": 0.035856,
     "end_time": "2023-12-29T18:55:51.094362",
     "exception": false,
     "start_time": "2023-12-29T18:55:51.058506",
     "status": "completed"
    },
    "tags": []
   },
   "outputs": [],
   "source": [
    "x = df.drop('Price',axis=1)\n",
    "y = np.log(df['Price'])"
   ]
  },
  {
   "cell_type": "code",
   "execution_count": 71,
   "id": "cf0c30fe",
   "metadata": {
    "execution": {
     "iopub.execute_input": "2023-12-29T18:55:51.147862Z",
     "iopub.status.busy": "2023-12-29T18:55:51.147521Z",
     "iopub.status.idle": "2023-12-29T18:55:51.163106Z",
     "shell.execute_reply": "2023-12-29T18:55:51.162167Z"
    },
    "papermill": {
     "duration": 0.044269,
     "end_time": "2023-12-29T18:55:51.164675",
     "exception": false,
     "start_time": "2023-12-29T18:55:51.120406",
     "status": "completed"
    },
    "tags": []
   },
   "outputs": [
    {
     "data": {
      "text/html": [
       "<div>\n",
       "<style scoped>\n",
       "    .dataframe tbody tr th:only-of-type {\n",
       "        vertical-align: middle;\n",
       "    }\n",
       "\n",
       "    .dataframe tbody tr th {\n",
       "        vertical-align: top;\n",
       "    }\n",
       "\n",
       "    .dataframe thead th {\n",
       "        text-align: right;\n",
       "    }\n",
       "</style>\n",
       "<table border=\"1\" class=\"dataframe\">\n",
       "  <thead>\n",
       "    <tr style=\"text-align: right;\">\n",
       "      <th></th>\n",
       "      <th>Company</th>\n",
       "      <th>TypeName</th>\n",
       "      <th>Ram</th>\n",
       "      <th>Weight</th>\n",
       "      <th>Touchscreen</th>\n",
       "      <th>IPS</th>\n",
       "      <th>ppi</th>\n",
       "      <th>Cpu Brand</th>\n",
       "      <th>Gpu Brand</th>\n",
       "      <th>os</th>\n",
       "    </tr>\n",
       "  </thead>\n",
       "  <tbody>\n",
       "    <tr>\n",
       "      <th>0</th>\n",
       "      <td>Apple</td>\n",
       "      <td>Ultrabook</td>\n",
       "      <td>8</td>\n",
       "      <td>1.37</td>\n",
       "      <td>0</td>\n",
       "      <td>1</td>\n",
       "      <td>226.983005</td>\n",
       "      <td>Intel Core i5</td>\n",
       "      <td>Intel</td>\n",
       "      <td>Mac</td>\n",
       "    </tr>\n",
       "    <tr>\n",
       "      <th>1</th>\n",
       "      <td>Apple</td>\n",
       "      <td>Ultrabook</td>\n",
       "      <td>8</td>\n",
       "      <td>1.34</td>\n",
       "      <td>0</td>\n",
       "      <td>0</td>\n",
       "      <td>127.677940</td>\n",
       "      <td>Intel Core i5</td>\n",
       "      <td>Intel</td>\n",
       "      <td>Mac</td>\n",
       "    </tr>\n",
       "    <tr>\n",
       "      <th>2</th>\n",
       "      <td>HP</td>\n",
       "      <td>Notebook</td>\n",
       "      <td>8</td>\n",
       "      <td>1.86</td>\n",
       "      <td>0</td>\n",
       "      <td>0</td>\n",
       "      <td>141.211998</td>\n",
       "      <td>Intel Core i5</td>\n",
       "      <td>Intel</td>\n",
       "      <td>Others/No OS/Linux</td>\n",
       "    </tr>\n",
       "    <tr>\n",
       "      <th>3</th>\n",
       "      <td>Apple</td>\n",
       "      <td>Ultrabook</td>\n",
       "      <td>16</td>\n",
       "      <td>1.83</td>\n",
       "      <td>0</td>\n",
       "      <td>1</td>\n",
       "      <td>220.534624</td>\n",
       "      <td>Intel Core i7</td>\n",
       "      <td>AMD</td>\n",
       "      <td>Mac</td>\n",
       "    </tr>\n",
       "    <tr>\n",
       "      <th>4</th>\n",
       "      <td>Apple</td>\n",
       "      <td>Ultrabook</td>\n",
       "      <td>8</td>\n",
       "      <td>1.37</td>\n",
       "      <td>0</td>\n",
       "      <td>1</td>\n",
       "      <td>226.983005</td>\n",
       "      <td>Intel Core i5</td>\n",
       "      <td>Intel</td>\n",
       "      <td>Mac</td>\n",
       "    </tr>\n",
       "    <tr>\n",
       "      <th>...</th>\n",
       "      <td>...</td>\n",
       "      <td>...</td>\n",
       "      <td>...</td>\n",
       "      <td>...</td>\n",
       "      <td>...</td>\n",
       "      <td>...</td>\n",
       "      <td>...</td>\n",
       "      <td>...</td>\n",
       "      <td>...</td>\n",
       "      <td>...</td>\n",
       "    </tr>\n",
       "    <tr>\n",
       "      <th>1298</th>\n",
       "      <td>Lenovo</td>\n",
       "      <td>2 in 1 Convertible</td>\n",
       "      <td>4</td>\n",
       "      <td>1.80</td>\n",
       "      <td>1</td>\n",
       "      <td>1</td>\n",
       "      <td>157.350512</td>\n",
       "      <td>Intel Core i7</td>\n",
       "      <td>Intel</td>\n",
       "      <td>Windows</td>\n",
       "    </tr>\n",
       "    <tr>\n",
       "      <th>1299</th>\n",
       "      <td>Lenovo</td>\n",
       "      <td>2 in 1 Convertible</td>\n",
       "      <td>16</td>\n",
       "      <td>1.30</td>\n",
       "      <td>1</td>\n",
       "      <td>1</td>\n",
       "      <td>276.053530</td>\n",
       "      <td>Intel Core i7</td>\n",
       "      <td>Intel</td>\n",
       "      <td>Windows</td>\n",
       "    </tr>\n",
       "    <tr>\n",
       "      <th>1300</th>\n",
       "      <td>Lenovo</td>\n",
       "      <td>Notebook</td>\n",
       "      <td>2</td>\n",
       "      <td>1.50</td>\n",
       "      <td>0</td>\n",
       "      <td>0</td>\n",
       "      <td>111.935204</td>\n",
       "      <td>Other Intel Processor</td>\n",
       "      <td>Intel</td>\n",
       "      <td>Windows</td>\n",
       "    </tr>\n",
       "    <tr>\n",
       "      <th>1301</th>\n",
       "      <td>HP</td>\n",
       "      <td>Notebook</td>\n",
       "      <td>6</td>\n",
       "      <td>2.19</td>\n",
       "      <td>0</td>\n",
       "      <td>0</td>\n",
       "      <td>100.454670</td>\n",
       "      <td>Intel Core i7</td>\n",
       "      <td>AMD</td>\n",
       "      <td>Windows</td>\n",
       "    </tr>\n",
       "    <tr>\n",
       "      <th>1302</th>\n",
       "      <td>Asus</td>\n",
       "      <td>Notebook</td>\n",
       "      <td>4</td>\n",
       "      <td>2.20</td>\n",
       "      <td>0</td>\n",
       "      <td>0</td>\n",
       "      <td>100.454670</td>\n",
       "      <td>Other Intel Processor</td>\n",
       "      <td>Intel</td>\n",
       "      <td>Windows</td>\n",
       "    </tr>\n",
       "  </tbody>\n",
       "</table>\n",
       "<p>1302 rows × 10 columns</p>\n",
       "</div>"
      ],
      "text/plain": [
       "     Company            TypeName  Ram  Weight  Touchscreen  IPS         ppi  \\\n",
       "0      Apple           Ultrabook    8    1.37            0    1  226.983005   \n",
       "1      Apple           Ultrabook    8    1.34            0    0  127.677940   \n",
       "2         HP            Notebook    8    1.86            0    0  141.211998   \n",
       "3      Apple           Ultrabook   16    1.83            0    1  220.534624   \n",
       "4      Apple           Ultrabook    8    1.37            0    1  226.983005   \n",
       "...      ...                 ...  ...     ...          ...  ...         ...   \n",
       "1298  Lenovo  2 in 1 Convertible    4    1.80            1    1  157.350512   \n",
       "1299  Lenovo  2 in 1 Convertible   16    1.30            1    1  276.053530   \n",
       "1300  Lenovo            Notebook    2    1.50            0    0  111.935204   \n",
       "1301      HP            Notebook    6    2.19            0    0  100.454670   \n",
       "1302    Asus            Notebook    4    2.20            0    0  100.454670   \n",
       "\n",
       "                  Cpu Brand Gpu Brand                  os  \n",
       "0             Intel Core i5     Intel                 Mac  \n",
       "1             Intel Core i5     Intel                 Mac  \n",
       "2             Intel Core i5     Intel  Others/No OS/Linux  \n",
       "3             Intel Core i7       AMD                 Mac  \n",
       "4             Intel Core i5     Intel                 Mac  \n",
       "...                     ...       ...                 ...  \n",
       "1298          Intel Core i7     Intel             Windows  \n",
       "1299          Intel Core i7     Intel             Windows  \n",
       "1300  Other Intel Processor     Intel             Windows  \n",
       "1301          Intel Core i7       AMD             Windows  \n",
       "1302  Other Intel Processor     Intel             Windows  \n",
       "\n",
       "[1302 rows x 10 columns]"
      ]
     },
     "execution_count": 71,
     "metadata": {},
     "output_type": "execute_result"
    }
   ],
   "source": [
    "x"
   ]
  },
  {
   "cell_type": "code",
   "execution_count": 72,
   "id": "a3d72052",
   "metadata": {
    "execution": {
     "iopub.execute_input": "2023-12-29T18:55:51.219687Z",
     "iopub.status.busy": "2023-12-29T18:55:51.219348Z",
     "iopub.status.idle": "2023-12-29T18:55:51.452369Z",
     "shell.execute_reply": "2023-12-29T18:55:51.451333Z"
    },
    "papermill": {
     "duration": 0.262948,
     "end_time": "2023-12-29T18:55:51.454588",
     "exception": false,
     "start_time": "2023-12-29T18:55:51.191640",
     "status": "completed"
    },
    "tags": []
   },
   "outputs": [],
   "source": [
    "from sklearn.model_selection import train_test_split\n",
    "X_train,X_test,y_train,y_test = train_test_split(x,y,test_size=0.15,random_state=2)"
   ]
  },
  {
   "cell_type": "markdown",
   "id": "88acd4bd",
   "metadata": {
    "papermill": {
     "duration": 0.026318,
     "end_time": "2023-12-29T18:55:51.508679",
     "exception": false,
     "start_time": "2023-12-29T18:55:51.482361",
     "status": "completed"
    },
    "tags": []
   },
   "source": [
    "# Train Models"
   ]
  },
  {
   "cell_type": "code",
   "execution_count": 73,
   "id": "96e6f1e6",
   "metadata": {
    "execution": {
     "iopub.execute_input": "2023-12-29T18:55:51.563716Z",
     "iopub.status.busy": "2023-12-29T18:55:51.563373Z",
     "iopub.status.idle": "2023-12-29T18:55:52.025069Z",
     "shell.execute_reply": "2023-12-29T18:55:52.024034Z"
    },
    "papermill": {
     "duration": 0.492088,
     "end_time": "2023-12-29T18:55:52.027521",
     "exception": false,
     "start_time": "2023-12-29T18:55:51.535433",
     "status": "completed"
    },
    "tags": []
   },
   "outputs": [],
   "source": [
    "from sklearn.compose import ColumnTransformer\n",
    "from sklearn.pipeline import Pipeline\n",
    "from sklearn.preprocessing import OneHotEncoder\n",
    "from sklearn.metrics import r2_score,mean_absolute_error\n",
    "\n",
    "\n",
    "from sklearn.linear_model import LinearRegression,Ridge,Lasso\n",
    "from sklearn.neighbors import KNeighborsRegressor\n",
    "from sklearn.tree import DecisionTreeRegressor\n",
    "from sklearn.ensemble import RandomForestRegressor,GradientBoostingRegressor,AdaBoostRegressor,ExtraTreesRegressor\n",
    "from sklearn.svm import SVR\n",
    "from xgboost import XGBRegressor\n",
    "\n"
   ]
  },
  {
   "cell_type": "code",
   "execution_count": 74,
   "id": "f9e02da9",
   "metadata": {
    "execution": {
     "iopub.execute_input": "2023-12-29T18:55:52.085977Z",
     "iopub.status.busy": "2023-12-29T18:55:52.085644Z",
     "iopub.status.idle": "2023-12-29T18:55:52.262781Z",
     "shell.execute_reply": "2023-12-29T18:55:52.261770Z"
    },
    "papermill": {
     "duration": 0.209538,
     "end_time": "2023-12-29T18:55:52.265301",
     "exception": false,
     "start_time": "2023-12-29T18:55:52.055763",
     "status": "completed"
    },
    "tags": []
   },
   "outputs": [
    {
     "name": "stdout",
     "output_type": "stream",
     "text": [
      "R2 score 0.8013616996298789\n",
      "MAE 0.21793439350103236\n"
     ]
    },
    {
     "name": "stderr",
     "output_type": "stream",
     "text": [
      "/opt/conda/lib/python3.10/site-packages/sklearn/preprocessing/_encoders.py:868: FutureWarning: `sparse` was renamed to `sparse_output` in version 1.2 and will be removed in 1.4. `sparse_output` is ignored unless you leave `sparse` to its default value.\n",
      "  warnings.warn(\n"
     ]
    }
   ],
   "source": [
    "# Linear regression\n",
    "\n",
    "\n",
    "step1 = ColumnTransformer(transformers=[\n",
    "    ('col_tnf',OneHotEncoder(sparse=False,drop='first'),[0,1,7,8,9])\n",
    "],remainder='passthrough')\n",
    "\n",
    "step2 = LinearRegression()\n",
    "\n",
    "pipe = Pipeline([\n",
    "    ('step1',step1),\n",
    "    ('step2',step2)\n",
    "])\n",
    "\n",
    "pipe.fit(X_train,y_train)\n",
    "\n",
    "y_pred = pipe.predict(X_test)\n",
    "\n",
    "print('R2 score',r2_score(y_test,y_pred))\n",
    "print('MAE',mean_absolute_error(y_test,y_pred))\n",
    "\n",
    "\n"
   ]
  },
  {
   "cell_type": "code",
   "execution_count": 75,
   "id": "0de64e43",
   "metadata": {
    "execution": {
     "iopub.execute_input": "2023-12-29T18:55:52.325799Z",
     "iopub.status.busy": "2023-12-29T18:55:52.325186Z",
     "iopub.status.idle": "2023-12-29T18:55:52.352492Z",
     "shell.execute_reply": "2023-12-29T18:55:52.351609Z"
    },
    "papermill": {
     "duration": 0.062009,
     "end_time": "2023-12-29T18:55:52.356111",
     "exception": false,
     "start_time": "2023-12-29T18:55:52.294102",
     "status": "completed"
    },
    "tags": []
   },
   "outputs": [
    {
     "name": "stdout",
     "output_type": "stream",
     "text": [
      "R2 score 0.8053738974730195\n",
      "MAE 0.21566512640304616\n"
     ]
    },
    {
     "name": "stderr",
     "output_type": "stream",
     "text": [
      "/opt/conda/lib/python3.10/site-packages/sklearn/preprocessing/_encoders.py:868: FutureWarning: `sparse` was renamed to `sparse_output` in version 1.2 and will be removed in 1.4. `sparse_output` is ignored unless you leave `sparse` to its default value.\n",
      "  warnings.warn(\n"
     ]
    }
   ],
   "source": [
    "\n",
    "# Ridge Regression\n",
    "\n",
    "\n",
    "step1 = ColumnTransformer(transformers=[\n",
    "    ('col_tnf',OneHotEncoder(sparse=False,drop='first'),[0,1,7,8,9])\n",
    "],remainder='passthrough')\n",
    "\n",
    "step2 = Ridge(alpha=10)\n",
    "\n",
    "pipe = Pipeline([\n",
    "    ('step1',step1),\n",
    "    ('step2',step2)\n",
    "])\n",
    "\n",
    "pipe.fit(X_train,y_train)\n",
    "\n",
    "y_pred = pipe.predict(X_test)\n",
    "\n",
    "print('R2 score',r2_score(y_test,y_pred))\n",
    "print('MAE',mean_absolute_error(y_test,y_pred))\n",
    "\n"
   ]
  },
  {
   "cell_type": "code",
   "execution_count": 76,
   "id": "352747dc",
   "metadata": {
    "execution": {
     "iopub.execute_input": "2023-12-29T18:55:52.435589Z",
     "iopub.status.busy": "2023-12-29T18:55:52.434808Z",
     "iopub.status.idle": "2023-12-29T18:55:52.687673Z",
     "shell.execute_reply": "2023-12-29T18:55:52.686341Z"
    },
    "papermill": {
     "duration": 0.294335,
     "end_time": "2023-12-29T18:55:52.689950",
     "exception": false,
     "start_time": "2023-12-29T18:55:52.395615",
     "status": "completed"
    },
    "tags": []
   },
   "outputs": [
    {
     "name": "stderr",
     "output_type": "stream",
     "text": [
      "/opt/conda/lib/python3.10/site-packages/sklearn/preprocessing/_encoders.py:868: FutureWarning: `sparse` was renamed to `sparse_output` in version 1.2 and will be removed in 1.4. `sparse_output` is ignored unless you leave `sparse` to its default value.\n",
      "  warnings.warn(\n"
     ]
    },
    {
     "name": "stdout",
     "output_type": "stream",
     "text": [
      "R2 score 0.8817561934935985\n",
      "MAE 0.15735216055170195\n"
     ]
    }
   ],
   "source": [
    "# Random Forest\n",
    "step1 = ColumnTransformer(transformers=[\n",
    "    ('col_tnf',OneHotEncoder(sparse=False,drop='first'),[0,1,7,8,9])\n",
    "],remainder='passthrough')\n",
    "\n",
    "step2 = RandomForestRegressor(n_estimators=100,\n",
    "                              random_state=3,\n",
    "                              max_samples=0.5,\n",
    "                              max_features=0.75,\n",
    "                              max_depth=15)\n",
    "\n",
    "pipe = Pipeline([\n",
    "    ('step1',step1),\n",
    "    ('step2',step2)\n",
    "])\n",
    "\n",
    "pipe.fit(X_train,y_train)\n",
    "\n",
    "y_pred = pipe.predict(X_test)\n",
    "\n",
    "print('R2 score',r2_score(y_test,y_pred))\n",
    "print('MAE',mean_absolute_error(y_test,y_pred))"
   ]
  },
  {
   "cell_type": "code",
   "execution_count": 77,
   "id": "430f3116",
   "metadata": {
    "execution": {
     "iopub.execute_input": "2023-12-29T18:55:52.748383Z",
     "iopub.status.busy": "2023-12-29T18:55:52.747646Z",
     "iopub.status.idle": "2023-12-29T18:55:53.382090Z",
     "shell.execute_reply": "2023-12-29T18:55:53.380704Z"
    },
    "papermill": {
     "duration": 0.665152,
     "end_time": "2023-12-29T18:55:53.384251",
     "exception": false,
     "start_time": "2023-12-29T18:55:52.719099",
     "status": "completed"
    },
    "tags": []
   },
   "outputs": [
    {
     "name": "stderr",
     "output_type": "stream",
     "text": [
      "/opt/conda/lib/python3.10/site-packages/sklearn/preprocessing/_encoders.py:868: FutureWarning: `sparse` was renamed to `sparse_output` in version 1.2 and will be removed in 1.4. `sparse_output` is ignored unless you leave `sparse` to its default value.\n",
      "  warnings.warn(\n"
     ]
    },
    {
     "name": "stdout",
     "output_type": "stream",
     "text": [
      "R2 score 0.8714153864344237\n",
      "MAE 0.16507458977763656\n"
     ]
    }
   ],
   "source": [
    "# Gradient Boost\n",
    "step1 = ColumnTransformer(transformers=[\n",
    "    ('col_tnf',OneHotEncoder(sparse=False,drop='first'),[0,1,7,8,9])\n",
    "],remainder='passthrough')\n",
    "\n",
    "step2 = GradientBoostingRegressor(n_estimators=500)\n",
    "\n",
    "pipe = Pipeline([\n",
    "    ('step1',step1),\n",
    "    ('step2',step2)\n",
    "])\n",
    "\n",
    "pipe.fit(X_train,y_train)\n",
    "\n",
    "y_pred = pipe.predict(X_test)\n",
    "\n",
    "print('R2 score',r2_score(y_test,y_pred))\n",
    "print('MAE',mean_absolute_error(y_test,y_pred))"
   ]
  },
  {
   "cell_type": "code",
   "execution_count": null,
   "id": "608105f9",
   "metadata": {
    "papermill": {
     "duration": 0.026756,
     "end_time": "2023-12-29T18:55:53.438478",
     "exception": false,
     "start_time": "2023-12-29T18:55:53.411722",
     "status": "completed"
    },
    "tags": []
   },
   "outputs": [],
   "source": []
  }
 ],
 "metadata": {
  "kaggle": {
   "accelerator": "none",
   "dataSources": [
    {
     "datasetId": 3759484,
     "sourceId": 6503421,
     "sourceType": "datasetVersion"
    }
   ],
   "dockerImageVersionId": 30558,
   "isGpuEnabled": false,
   "isInternetEnabled": true,
   "language": "python",
   "sourceType": "notebook"
  },
  "kernelspec": {
   "display_name": "Python 3",
   "language": "python",
   "name": "python3"
  },
  "language_info": {
   "codemirror_mode": {
    "name": "ipython",
    "version": 3
   },
   "file_extension": ".py",
   "mimetype": "text/x-python",
   "name": "python",
   "nbconvert_exporter": "python",
   "pygments_lexer": "ipython3",
   "version": "3.10.12"
  },
  "papermill": {
   "default_parameters": {},
   "duration": 17.844135,
   "end_time": "2023-12-29T18:55:54.085658",
   "environment_variables": {},
   "exception": null,
   "input_path": "__notebook__.ipynb",
   "output_path": "__notebook__.ipynb",
   "parameters": {},
   "start_time": "2023-12-29T18:55:36.241523",
   "version": "2.4.0"
  }
 },
 "nbformat": 4,
 "nbformat_minor": 5
}
