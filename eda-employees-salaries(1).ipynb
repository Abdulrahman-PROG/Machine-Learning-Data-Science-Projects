{
 "cells": [
  {
   "cell_type": "markdown",
   "id": "4e32a471",
   "metadata": {
    "papermill": {
     "duration": 0.011957,
     "end_time": "2023-07-18T05:15:28.632651",
     "exception": false,
     "start_time": "2023-07-18T05:15:28.620694",
     "status": "completed"
    },
    "tags": []
   },
   "source": [
    "## Structure \n",
    "most people starts with How before why so the result is narrow questions and shallow arguments , The secret is to have structure that you can think through, rather than working in a vacuum.\n",
    "\n",
    "   - **Context**: we are tring to understand how a city government works is by looking at who it employs and how its employees are compensated.\n",
    "\n",
    "   - **Needs**: we have some question we hope to find the answer using this data like\n",
    "   \n",
    "       - How have salaries changed over time between different groups of people?\n",
    "       - How are base pay, overtime pay, and benefits allocated between different groups?\n",
    "       - Is there any evidence of pay discrimination based on gender in this dataset?\n",
    "       - How is budget allocated based on different groups and responsibilities?\n",
    "       \n",
    "   - **Vision** : we would clean the data then analysis using some statistical methods.\n",
    "       \n",
    "   - **Outcome** : asnwering these question will give us more understanding about the city and fix the problem related with employees."
   ]
  },
  {
   "cell_type": "markdown",
   "id": "4f933770",
   "metadata": {
    "papermill": {
     "duration": 0.010678,
     "end_time": "2023-07-18T05:15:28.654633",
     "exception": false,
     "start_time": "2023-07-18T05:15:28.643955",
     "status": "completed"
    },
    "tags": []
   },
   "source": [
    "## Libraries"
   ]
  },
  {
   "cell_type": "code",
   "execution_count": 1,
   "id": "9ba97d84",
   "metadata": {
    "execution": {
     "iopub.execute_input": "2024-01-20T16:43:31.834769Z",
     "iopub.status.busy": "2024-01-20T16:43:31.833703Z",
     "iopub.status.idle": "2024-01-20T16:43:34.120308Z",
     "shell.execute_reply": "2024-01-20T16:43:34.118812Z",
     "shell.execute_reply.started": "2024-01-20T16:43:31.834710Z"
    },
    "papermill": {
     "duration": 1.56108,
     "end_time": "2023-07-18T05:15:30.226818",
     "exception": false,
     "start_time": "2023-07-18T05:15:28.665738",
     "status": "completed"
    },
    "tags": []
   },
   "outputs": [],
   "source": [
    "import pandas as pd\n",
    "import numpy as np\n",
    "import matplotlib.pyplot as plt\n",
    "import seaborn as sns\n",
    "from fuzzywuzzy import fuzz , process\n",
    "sns.set_style(\"whitegrid\")"
   ]
  },
  {
   "cell_type": "markdown",
   "id": "c3498076",
   "metadata": {
    "papermill": {
     "duration": 0.010847,
     "end_time": "2023-07-18T05:15:30.249045",
     "exception": false,
     "start_time": "2023-07-18T05:15:30.238198",
     "status": "completed"
    },
    "tags": []
   },
   "source": [
    "## Importing Data"
   ]
  },
  {
   "cell_type": "code",
   "execution_count": 5,
   "id": "285bae6f",
   "metadata": {
    "execution": {
     "iopub.execute_input": "2024-01-20T16:45:20.860542Z",
     "iopub.status.busy": "2024-01-20T16:45:20.860032Z",
     "iopub.status.idle": "2024-01-20T16:45:21.627256Z",
     "shell.execute_reply": "2024-01-20T16:45:21.626047Z",
     "shell.execute_reply.started": "2024-01-20T16:45:20.860501Z"
    },
    "papermill": {
     "duration": 1.099514,
     "end_time": "2023-07-18T05:15:31.361220",
     "exception": false,
     "start_time": "2023-07-18T05:15:30.261706",
     "status": "completed"
    },
    "tags": []
   },
   "outputs": [
    {
     "data": {
      "text/html": [
       "<div>\n",
       "<style scoped>\n",
       "    .dataframe tbody tr th:only-of-type {\n",
       "        vertical-align: middle;\n",
       "    }\n",
       "\n",
       "    .dataframe tbody tr th {\n",
       "        vertical-align: top;\n",
       "    }\n",
       "\n",
       "    .dataframe thead th {\n",
       "        text-align: right;\n",
       "    }\n",
       "</style>\n",
       "<table border=\"1\" class=\"dataframe\">\n",
       "  <thead>\n",
       "    <tr style=\"text-align: right;\">\n",
       "      <th></th>\n",
       "      <th>EmployeeName</th>\n",
       "      <th>JobTitle</th>\n",
       "      <th>BasePay</th>\n",
       "      <th>OvertimePay</th>\n",
       "      <th>OtherPay</th>\n",
       "      <th>Benefits</th>\n",
       "      <th>TotalPay</th>\n",
       "      <th>TotalPayBenefits</th>\n",
       "      <th>Year</th>\n",
       "      <th>Notes</th>\n",
       "      <th>Agency</th>\n",
       "      <th>Status</th>\n",
       "    </tr>\n",
       "    <tr>\n",
       "      <th>Id</th>\n",
       "      <th></th>\n",
       "      <th></th>\n",
       "      <th></th>\n",
       "      <th></th>\n",
       "      <th></th>\n",
       "      <th></th>\n",
       "      <th></th>\n",
       "      <th></th>\n",
       "      <th></th>\n",
       "      <th></th>\n",
       "      <th></th>\n",
       "      <th></th>\n",
       "    </tr>\n",
       "  </thead>\n",
       "  <tbody>\n",
       "    <tr>\n",
       "      <th>1</th>\n",
       "      <td>NATHANIEL FORD</td>\n",
       "      <td>GENERAL MANAGER-METROPOLITAN TRANSIT AUTHORITY</td>\n",
       "      <td>167411.18</td>\n",
       "      <td>0.00</td>\n",
       "      <td>400184.25</td>\n",
       "      <td>NaN</td>\n",
       "      <td>567595.43</td>\n",
       "      <td>567595.43</td>\n",
       "      <td>2011</td>\n",
       "      <td>NaN</td>\n",
       "      <td>San Francisco</td>\n",
       "      <td>NaN</td>\n",
       "    </tr>\n",
       "    <tr>\n",
       "      <th>2</th>\n",
       "      <td>GARY JIMENEZ</td>\n",
       "      <td>CAPTAIN III (POLICE DEPARTMENT)</td>\n",
       "      <td>155966.02</td>\n",
       "      <td>245131.88</td>\n",
       "      <td>137811.38</td>\n",
       "      <td>NaN</td>\n",
       "      <td>538909.28</td>\n",
       "      <td>538909.28</td>\n",
       "      <td>2011</td>\n",
       "      <td>NaN</td>\n",
       "      <td>San Francisco</td>\n",
       "      <td>NaN</td>\n",
       "    </tr>\n",
       "    <tr>\n",
       "      <th>3</th>\n",
       "      <td>ALBERT PARDINI</td>\n",
       "      <td>CAPTAIN III (POLICE DEPARTMENT)</td>\n",
       "      <td>212739.13</td>\n",
       "      <td>106088.18</td>\n",
       "      <td>16452.60</td>\n",
       "      <td>NaN</td>\n",
       "      <td>335279.91</td>\n",
       "      <td>335279.91</td>\n",
       "      <td>2011</td>\n",
       "      <td>NaN</td>\n",
       "      <td>San Francisco</td>\n",
       "      <td>NaN</td>\n",
       "    </tr>\n",
       "    <tr>\n",
       "      <th>4</th>\n",
       "      <td>CHRISTOPHER CHONG</td>\n",
       "      <td>WIRE ROPE CABLE MAINTENANCE MECHANIC</td>\n",
       "      <td>77916.00</td>\n",
       "      <td>56120.71</td>\n",
       "      <td>198306.90</td>\n",
       "      <td>NaN</td>\n",
       "      <td>332343.61</td>\n",
       "      <td>332343.61</td>\n",
       "      <td>2011</td>\n",
       "      <td>NaN</td>\n",
       "      <td>San Francisco</td>\n",
       "      <td>NaN</td>\n",
       "    </tr>\n",
       "    <tr>\n",
       "      <th>5</th>\n",
       "      <td>PATRICK GARDNER</td>\n",
       "      <td>DEPUTY CHIEF OF DEPARTMENT,(FIRE DEPARTMENT)</td>\n",
       "      <td>134401.60</td>\n",
       "      <td>9737.00</td>\n",
       "      <td>182234.59</td>\n",
       "      <td>NaN</td>\n",
       "      <td>326373.19</td>\n",
       "      <td>326373.19</td>\n",
       "      <td>2011</td>\n",
       "      <td>NaN</td>\n",
       "      <td>San Francisco</td>\n",
       "      <td>NaN</td>\n",
       "    </tr>\n",
       "    <tr>\n",
       "      <th>...</th>\n",
       "      <td>...</td>\n",
       "      <td>...</td>\n",
       "      <td>...</td>\n",
       "      <td>...</td>\n",
       "      <td>...</td>\n",
       "      <td>...</td>\n",
       "      <td>...</td>\n",
       "      <td>...</td>\n",
       "      <td>...</td>\n",
       "      <td>...</td>\n",
       "      <td>...</td>\n",
       "      <td>...</td>\n",
       "    </tr>\n",
       "    <tr>\n",
       "      <th>148650</th>\n",
       "      <td>Roy I Tillery</td>\n",
       "      <td>Custodian</td>\n",
       "      <td>0.00</td>\n",
       "      <td>0.00</td>\n",
       "      <td>0.00</td>\n",
       "      <td>0.0</td>\n",
       "      <td>0.00</td>\n",
       "      <td>0.00</td>\n",
       "      <td>2014</td>\n",
       "      <td>NaN</td>\n",
       "      <td>San Francisco</td>\n",
       "      <td>NaN</td>\n",
       "    </tr>\n",
       "    <tr>\n",
       "      <th>148651</th>\n",
       "      <td>Not provided</td>\n",
       "      <td>Not provided</td>\n",
       "      <td>NaN</td>\n",
       "      <td>NaN</td>\n",
       "      <td>NaN</td>\n",
       "      <td>NaN</td>\n",
       "      <td>0.00</td>\n",
       "      <td>0.00</td>\n",
       "      <td>2014</td>\n",
       "      <td>NaN</td>\n",
       "      <td>San Francisco</td>\n",
       "      <td>NaN</td>\n",
       "    </tr>\n",
       "    <tr>\n",
       "      <th>148652</th>\n",
       "      <td>Not provided</td>\n",
       "      <td>Not provided</td>\n",
       "      <td>NaN</td>\n",
       "      <td>NaN</td>\n",
       "      <td>NaN</td>\n",
       "      <td>NaN</td>\n",
       "      <td>0.00</td>\n",
       "      <td>0.00</td>\n",
       "      <td>2014</td>\n",
       "      <td>NaN</td>\n",
       "      <td>San Francisco</td>\n",
       "      <td>NaN</td>\n",
       "    </tr>\n",
       "    <tr>\n",
       "      <th>148653</th>\n",
       "      <td>Not provided</td>\n",
       "      <td>Not provided</td>\n",
       "      <td>NaN</td>\n",
       "      <td>NaN</td>\n",
       "      <td>NaN</td>\n",
       "      <td>NaN</td>\n",
       "      <td>0.00</td>\n",
       "      <td>0.00</td>\n",
       "      <td>2014</td>\n",
       "      <td>NaN</td>\n",
       "      <td>San Francisco</td>\n",
       "      <td>NaN</td>\n",
       "    </tr>\n",
       "    <tr>\n",
       "      <th>148654</th>\n",
       "      <td>Joe Lopez</td>\n",
       "      <td>Counselor, Log Cabin Ranch</td>\n",
       "      <td>0.00</td>\n",
       "      <td>0.00</td>\n",
       "      <td>-618.13</td>\n",
       "      <td>0.0</td>\n",
       "      <td>-618.13</td>\n",
       "      <td>-618.13</td>\n",
       "      <td>2014</td>\n",
       "      <td>NaN</td>\n",
       "      <td>San Francisco</td>\n",
       "      <td>NaN</td>\n",
       "    </tr>\n",
       "  </tbody>\n",
       "</table>\n",
       "<p>148654 rows × 12 columns</p>\n",
       "</div>"
      ],
      "text/plain": [
       "             EmployeeName                                        JobTitle  \\\n",
       "Id                                                                          \n",
       "1          NATHANIEL FORD  GENERAL MANAGER-METROPOLITAN TRANSIT AUTHORITY   \n",
       "2            GARY JIMENEZ                 CAPTAIN III (POLICE DEPARTMENT)   \n",
       "3          ALBERT PARDINI                 CAPTAIN III (POLICE DEPARTMENT)   \n",
       "4       CHRISTOPHER CHONG            WIRE ROPE CABLE MAINTENANCE MECHANIC   \n",
       "5         PATRICK GARDNER    DEPUTY CHIEF OF DEPARTMENT,(FIRE DEPARTMENT)   \n",
       "...                   ...                                             ...   \n",
       "148650      Roy I Tillery                                       Custodian   \n",
       "148651       Not provided                                    Not provided   \n",
       "148652       Not provided                                    Not provided   \n",
       "148653       Not provided                                    Not provided   \n",
       "148654          Joe Lopez                      Counselor, Log Cabin Ranch   \n",
       "\n",
       "          BasePay  OvertimePay   OtherPay  Benefits   TotalPay  \\\n",
       "Id                                                               \n",
       "1       167411.18         0.00  400184.25       NaN  567595.43   \n",
       "2       155966.02    245131.88  137811.38       NaN  538909.28   \n",
       "3       212739.13    106088.18   16452.60       NaN  335279.91   \n",
       "4        77916.00     56120.71  198306.90       NaN  332343.61   \n",
       "5       134401.60      9737.00  182234.59       NaN  326373.19   \n",
       "...           ...          ...        ...       ...        ...   \n",
       "148650       0.00         0.00       0.00       0.0       0.00   \n",
       "148651        NaN          NaN        NaN       NaN       0.00   \n",
       "148652        NaN          NaN        NaN       NaN       0.00   \n",
       "148653        NaN          NaN        NaN       NaN       0.00   \n",
       "148654       0.00         0.00    -618.13       0.0    -618.13   \n",
       "\n",
       "        TotalPayBenefits  Year  Notes         Agency  Status  \n",
       "Id                                                            \n",
       "1              567595.43  2011    NaN  San Francisco     NaN  \n",
       "2              538909.28  2011    NaN  San Francisco     NaN  \n",
       "3              335279.91  2011    NaN  San Francisco     NaN  \n",
       "4              332343.61  2011    NaN  San Francisco     NaN  \n",
       "5              326373.19  2011    NaN  San Francisco     NaN  \n",
       "...                  ...   ...    ...            ...     ...  \n",
       "148650              0.00  2014    NaN  San Francisco     NaN  \n",
       "148651              0.00  2014    NaN  San Francisco     NaN  \n",
       "148652              0.00  2014    NaN  San Francisco     NaN  \n",
       "148653              0.00  2014    NaN  San Francisco     NaN  \n",
       "148654           -618.13  2014    NaN  San Francisco     NaN  \n",
       "\n",
       "[148654 rows x 12 columns]"
      ]
     },
     "execution_count": 5,
     "metadata": {},
     "output_type": "execute_result"
    }
   ],
   "source": [
    "df = pd.read_csv('Salaries.csv' , low_memory=False , index_col = 'Id')\n",
    "df"
   ]
  },
  {
   "cell_type": "markdown",
   "id": "a6fcf1cc",
   "metadata": {
    "papermill": {
     "duration": 0.011624,
     "end_time": "2023-07-18T05:15:31.386028",
     "exception": false,
     "start_time": "2023-07-18T05:15:31.374404",
     "status": "completed"
    },
    "tags": []
   },
   "source": [
    "## Exploratory Data Analysis\n"
   ]
  },
  {
   "cell_type": "markdown",
   "id": "075e56d2",
   "metadata": {
    "papermill": {
     "duration": 0.012347,
     "end_time": "2023-07-18T05:15:31.410966",
     "exception": false,
     "start_time": "2023-07-18T05:15:31.398619",
     "status": "completed"
    },
    "tags": []
   },
   "source": [
    "from the above insight we see that we have a missing data let's check the type of data"
   ]
  },
  {
   "cell_type": "code",
   "execution_count": 6,
   "id": "90534c1c",
   "metadata": {
    "execution": {
     "iopub.execute_input": "2024-01-20T16:45:28.724660Z",
     "iopub.status.busy": "2024-01-20T16:45:28.724206Z",
     "iopub.status.idle": "2024-01-20T16:45:28.798668Z",
     "shell.execute_reply": "2024-01-20T16:45:28.797212Z",
     "shell.execute_reply.started": "2024-01-20T16:45:28.724619Z"
    },
    "papermill": {
     "duration": 0.411399,
     "end_time": "2023-07-18T05:15:31.834471",
     "exception": false,
     "start_time": "2023-07-18T05:15:31.423072",
     "status": "completed"
    },
    "tags": []
   },
   "outputs": [
    {
     "name": "stdout",
     "output_type": "stream",
     "text": [
      "<class 'pandas.core.frame.DataFrame'>\n",
      "Index: 148654 entries, 1 to 148654\n",
      "Data columns (total 12 columns):\n",
      " #   Column            Non-Null Count   Dtype  \n",
      "---  ------            --------------   -----  \n",
      " 0   EmployeeName      148654 non-null  object \n",
      " 1   JobTitle          148654 non-null  object \n",
      " 2   BasePay           148045 non-null  float64\n",
      " 3   OvertimePay       148650 non-null  float64\n",
      " 4   OtherPay          148650 non-null  float64\n",
      " 5   Benefits          112491 non-null  float64\n",
      " 6   TotalPay          148654 non-null  float64\n",
      " 7   TotalPayBenefits  148654 non-null  float64\n",
      " 8   Year              148654 non-null  int64  \n",
      " 9   Notes             0 non-null       float64\n",
      " 10  Agency            148654 non-null  object \n",
      " 11  Status            0 non-null       float64\n",
      "dtypes: float64(8), int64(1), object(3)\n",
      "memory usage: 14.7+ MB\n"
     ]
    }
   ],
   "source": [
    "df.info()"
   ]
  },
  {
   "cell_type": "markdown",
   "id": "ca9b9d99",
   "metadata": {
    "papermill": {
     "duration": 0.012165,
     "end_time": "2023-07-18T05:15:31.859686",
     "exception": false,
     "start_time": "2023-07-18T05:15:31.847521",
     "status": "completed"
    },
    "tags": []
   },
   "source": [
    "what about the missing data ?"
   ]
  },
  {
   "cell_type": "code",
   "execution_count": 7,
   "id": "949e21d2",
   "metadata": {
    "execution": {
     "iopub.execute_input": "2024-01-20T16:45:29.215866Z",
     "iopub.status.busy": "2024-01-20T16:45:29.215030Z",
     "iopub.status.idle": "2024-01-20T16:45:31.372029Z",
     "shell.execute_reply": "2024-01-20T16:45:31.370876Z",
     "shell.execute_reply.started": "2024-01-20T16:45:29.215822Z"
    },
    "papermill": {
     "duration": 2.516553,
     "end_time": "2023-07-18T05:15:34.388842",
     "exception": false,
     "start_time": "2023-07-18T05:15:31.872289",
     "status": "completed"
    },
    "tags": []
   },
   "outputs": [
    {
     "data": {
      "image/png": "[encoded data removed]",
      "text/plain": [
       "<Figure size 1500x800 with 1 Axes>"
      ]
     },
     "metadata": {},
     "output_type": "display_data"
    }
   ],
   "source": [
    "plt.figure(figsize=(15,8))\n",
    "sns.heatmap(df.isnull() , yticklabels=False , cbar=False , cmap = 'cividis' )\n",
    "plt.show()"
   ]
  },
  {
   "cell_type": "code",
   "execution_count": 8,
   "id": "b2384004",
   "metadata": {
    "execution": {
     "iopub.execute_input": "2024-01-20T16:45:31.374590Z",
     "iopub.status.busy": "2024-01-20T16:45:31.374056Z",
     "iopub.status.idle": "2024-01-20T16:45:31.393936Z",
     "shell.execute_reply": "2024-01-20T16:45:31.393037Z",
     "shell.execute_reply.started": "2024-01-20T16:45:31.374529Z"
    },
    "papermill": {
     "duration": 0.09338,
     "end_time": "2023-07-18T05:15:34.494946",
     "exception": false,
     "start_time": "2023-07-18T05:15:34.401566",
     "status": "completed"
    },
    "tags": []
   },
   "outputs": [],
   "source": [
    "df.drop('Notes',axis = 1 , inplace=True)\n",
    "df['BasePay'].fillna( 0 , inplace= True)\n",
    "df['Benefits'].fillna( 0 , inplace= True)"
   ]
  },
  {
   "cell_type": "markdown",
   "id": "ecc1dee0",
   "metadata": {
    "papermill": {
     "duration": 0.01208,
     "end_time": "2023-07-18T05:15:34.519676",
     "exception": false,
     "start_time": "2023-07-18T05:15:34.507596",
     "status": "completed"
    },
    "tags": []
   },
   "source": [
    "#### Q1 | What Top 5 jobs get paid last 4 years ?\n",
    "as we are dealing with employees so we are comparing based on the jobs , but how many jobs we are dealing with ?"
   ]
  },
  {
   "cell_type": "code",
   "execution_count": 9,
   "id": "46cf9dad",
   "metadata": {
    "execution": {
     "iopub.execute_input": "2024-01-20T16:45:31.395875Z",
     "iopub.status.busy": "2024-01-20T16:45:31.395062Z",
     "iopub.status.idle": "2024-01-20T16:45:31.418303Z",
     "shell.execute_reply": "2024-01-20T16:45:31.416913Z",
     "shell.execute_reply.started": "2024-01-20T16:45:31.395842Z"
    },
    "papermill": {
     "duration": 0.038381,
     "end_time": "2023-07-18T05:15:34.570641",
     "exception": false,
     "start_time": "2023-07-18T05:15:34.532260",
     "status": "completed"
    },
    "tags": []
   },
   "outputs": [
    {
     "name": "stdout",
     "output_type": "stream",
     "text": [
      "The number of jobs are 2159\n"
     ]
    }
   ],
   "source": [
    "print(f\"The number of jobs are {len(list(df['JobTitle'].unique()))}\")"
   ]
  },
  {
   "cell_type": "markdown",
   "id": "4fd80de8",
   "metadata": {
    "papermill": {
     "duration": 0.012265,
     "end_time": "2023-07-18T05:15:34.595750",
     "exception": false,
     "start_time": "2023-07-18T05:15:34.583485",
     "status": "completed"
    },
    "tags": []
   },
   "source": [
    "that is very large number of jobs in one city let's dig deep"
   ]
  },
  {
   "cell_type": "code",
   "execution_count": 10,
   "id": "9706e3dd",
   "metadata": {
    "execution": {
     "iopub.execute_input": "2024-01-20T16:45:31.421220Z",
     "iopub.status.busy": "2024-01-20T16:45:31.420238Z",
     "iopub.status.idle": "2024-01-20T16:45:31.453116Z",
     "shell.execute_reply": "2024-01-20T16:45:31.451928Z",
     "shell.execute_reply.started": "2024-01-20T16:45:31.421183Z"
    },
    "papermill": {
     "duration": 0.047304,
     "end_time": "2023-07-18T05:15:34.655797",
     "exception": false,
     "start_time": "2023-07-18T05:15:34.608493",
     "status": "completed"
    },
    "tags": []
   },
   "outputs": [
    {
     "data": {
      "text/plain": [
       "JobTitle\n",
       "Transit Operator                                  7036\n",
       "Special Nurse                                     4389\n",
       "Registered Nurse                                  3736\n",
       "Public Svc Aide-Public Works                      2518\n",
       "Police Officer 3                                  2421\n",
       "                                                  ... \n",
       "CHIEF HOUSING INSPECTOR                              1\n",
       "TRAFFIC SIGNAL OPERATOR                              1\n",
       "COURT COMPUTER FACILITIES COORDINATOR                1\n",
       "AUTOMOTIVE BODY AND FENDER WORKER SUPERVISOR I       1\n",
       "VICTIM & WITNESS TECHNICIAN                          1\n",
       "Name: count, Length: 2159, dtype: int64"
      ]
     },
     "execution_count": 10,
     "metadata": {},
     "output_type": "execute_result"
    }
   ],
   "source": [
    "df['JobTitle'].value_counts()"
   ]
  },
  {
   "cell_type": "markdown",
   "id": "b4f14b71",
   "metadata": {
    "papermill": {
     "duration": 0.013161,
     "end_time": "2023-07-18T05:15:34.681900",
     "exception": false,
     "start_time": "2023-07-18T05:15:34.668739",
     "status": "completed"
    },
    "tags": []
   },
   "source": [
    "we have some jobs lower and other upper case let's lower all the jobs"
   ]
  },
  {
   "cell_type": "code",
   "execution_count": 11,
   "id": "1b2a9cd0",
   "metadata": {
    "execution": {
     "iopub.execute_input": "2024-01-20T16:45:31.455153Z",
     "iopub.status.busy": "2024-01-20T16:45:31.454799Z",
     "iopub.status.idle": "2024-01-20T16:45:31.527349Z",
     "shell.execute_reply": "2024-01-20T16:45:31.526071Z",
     "shell.execute_reply.started": "2024-01-20T16:45:31.455122Z"
    },
    "papermill": {
     "duration": 0.097008,
     "end_time": "2023-07-18T05:15:34.791854",
     "exception": false,
     "start_time": "2023-07-18T05:15:34.694846",
     "status": "completed"
    },
    "tags": []
   },
   "outputs": [],
   "source": [
    "df['JobTitle'] = df['JobTitle'].str.lower()"
   ]
  },
  {
   "cell_type": "code",
   "execution_count": 12,
   "id": "ddb7a821",
   "metadata": {
    "execution": {
     "iopub.execute_input": "2024-01-20T16:45:31.662582Z",
     "iopub.status.busy": "2024-01-20T16:45:31.662143Z",
     "iopub.status.idle": "2024-01-20T16:45:31.709295Z",
     "shell.execute_reply": "2024-01-20T16:45:31.707845Z",
     "shell.execute_reply.started": "2024-01-20T16:45:31.662547Z"
    },
    "papermill": {
     "duration": 0.059325,
     "end_time": "2023-07-18T05:15:34.864271",
     "exception": false,
     "start_time": "2023-07-18T05:15:34.804946",
     "status": "completed"
    },
    "scrolled": true,
    "tags": []
   },
   "outputs": [
    {
     "data": {
      "text/plain": [
       "930"
      ]
     },
     "execution_count": 12,
     "metadata": {},
     "output_type": "execute_result"
    }
   ],
   "source": [
    "sum(df['JobTitle'].value_counts() > 10)"
   ]
  },
  {
   "cell_type": "markdown",
   "id": "a9226a58",
   "metadata": {
    "papermill": {
     "duration": 0.012899,
     "end_time": "2023-07-18T05:15:34.890477",
     "exception": false,
     "start_time": "2023-07-18T05:15:34.877578",
     "status": "completed"
    },
    "tags": []
   },
   "source": [
    "we have alot of jobs that repeated less than 10 times , to reduce them we set them to other to focus on the big picture"
   ]
  },
  {
   "cell_type": "code",
   "execution_count": 13,
   "id": "41fc7349",
   "metadata": {
    "execution": {
     "iopub.execute_input": "2024-01-20T16:45:36.178771Z",
     "iopub.status.busy": "2024-01-20T16:45:36.177810Z",
     "iopub.status.idle": "2024-01-20T16:45:36.247694Z",
     "shell.execute_reply": "2024-01-20T16:45:36.246346Z",
     "shell.execute_reply.started": "2024-01-20T16:45:36.178725Z"
    },
    "papermill": {
     "duration": 0.081405,
     "end_time": "2023-07-18T05:15:34.984981",
     "exception": false,
     "start_time": "2023-07-18T05:15:34.903576",
     "status": "completed"
    },
    "tags": []
   },
   "outputs": [],
   "source": [
    "jobs_to_convert = df['JobTitle'].value_counts()[df['JobTitle'].value_counts() < 10].index"
   ]
  },
  {
   "cell_type": "code",
   "execution_count": 14,
   "id": "40e94252",
   "metadata": {
    "execution": {
     "iopub.execute_input": "2024-01-20T16:45:42.293979Z",
     "iopub.status.busy": "2024-01-20T16:45:42.293548Z",
     "iopub.status.idle": "2024-01-20T16:45:59.818093Z",
     "shell.execute_reply": "2024-01-20T16:45:59.816759Z",
     "shell.execute_reply.started": "2024-01-20T16:45:42.293948Z"
    },
    "papermill": {
     "duration": 4.795138,
     "end_time": "2023-07-18T05:15:39.794945",
     "exception": false,
     "start_time": "2023-07-18T05:15:34.999807",
     "status": "completed"
    },
    "tags": []
   },
   "outputs": [],
   "source": [
    "for job in jobs_to_convert:\n",
    "    df['JobTitle'].replace(job , 'other' , inplace=True)"
   ]
  },
  {
   "cell_type": "code",
   "execution_count": 15,
   "id": "25667b90",
   "metadata": {
    "execution": {
     "iopub.execute_input": "2024-01-20T16:45:59.821392Z",
     "iopub.status.busy": "2024-01-20T16:45:59.820335Z",
     "iopub.status.idle": "2024-01-20T16:45:59.847562Z",
     "shell.execute_reply": "2024-01-20T16:45:59.846096Z",
     "shell.execute_reply.started": "2024-01-20T16:45:59.821351Z"
    },
    "papermill": {
     "duration": 0.043278,
     "end_time": "2023-07-18T05:15:39.853475",
     "exception": false,
     "start_time": "2023-07-18T05:15:39.810197",
     "status": "completed"
    },
    "tags": []
   },
   "outputs": [
    {
     "name": "stdout",
     "output_type": "stream",
     "text": [
      "The number of jobs are 954\n"
     ]
    }
   ],
   "source": [
    "print(f\"The number of jobs are {len(list(df['JobTitle'].unique()))}\")"
   ]
  },
  {
   "cell_type": "code",
   "execution_count": 16,
   "id": "72c36691",
   "metadata": {
    "execution": {
     "iopub.execute_input": "2024-01-20T16:45:59.852134Z",
     "iopub.status.busy": "2024-01-20T16:45:59.851522Z",
     "iopub.status.idle": "2024-01-20T16:45:59.861174Z",
     "shell.execute_reply": "2024-01-20T16:45:59.859567Z",
     "shell.execute_reply.started": "2024-01-20T16:45:59.852082Z"
    },
    "papermill": {
     "duration": 0.074054,
     "end_time": "2023-07-18T05:15:39.941318",
     "exception": false,
     "start_time": "2023-07-18T05:15:39.867264",
     "status": "completed"
    },
    "tags": []
   },
   "outputs": [],
   "source": [
    "df['BasePay'].replace('Not Provided' , 0 , inplace= True)\n",
    "df['OvertimePay'].replace('Not Provided' , 0 , inplace= True)\n",
    "df['OtherPay'].replace('Not Provided' , 0 , inplace= True)\n",
    "df['Benefits'].replace('Not Provided' , 0 , inplace= True)"
   ]
  },
  {
   "cell_type": "code",
   "execution_count": 17,
   "id": "54071d54",
   "metadata": {
    "execution": {
     "iopub.execute_input": "2024-01-20T16:45:59.864564Z",
     "iopub.status.busy": "2024-01-20T16:45:59.864117Z",
     "iopub.status.idle": "2024-01-20T16:45:59.883051Z",
     "shell.execute_reply": "2024-01-20T16:45:59.881850Z",
     "shell.execute_reply.started": "2024-01-20T16:45:59.864518Z"
    },
    "papermill": {
     "duration": 0.146792,
     "end_time": "2023-07-18T05:15:40.102221",
     "exception": false,
     "start_time": "2023-07-18T05:15:39.955429",
     "status": "completed"
    },
    "tags": []
   },
   "outputs": [],
   "source": [
    "convert_dict = {\n",
    "    'BasePay' : float ,\n",
    "    'OvertimePay' : float , \n",
    "    'OtherPay' : float ,\n",
    "    'Benefits' : float   \n",
    "}\n",
    "\n",
    "df = df.astype(convert_dict)"
   ]
  },
  {
   "cell_type": "code",
   "execution_count": 18,
   "id": "1d5da17a",
   "metadata": {
    "execution": {
     "iopub.execute_input": "2024-01-20T16:45:59.885959Z",
     "iopub.status.busy": "2024-01-20T16:45:59.884644Z",
     "iopub.status.idle": "2024-01-20T16:45:59.915199Z",
     "shell.execute_reply": "2024-01-20T16:45:59.913590Z",
     "shell.execute_reply.started": "2024-01-20T16:45:59.885918Z"
    },
    "papermill": {
     "duration": 0.04934,
     "end_time": "2023-07-18T05:15:40.166074",
     "exception": false,
     "start_time": "2023-07-18T05:15:40.116734",
     "status": "completed"
    },
    "tags": []
   },
   "outputs": [
    {
     "data": {
      "text/html": [
       "<div>\n",
       "<style scoped>\n",
       "    .dataframe tbody tr th:only-of-type {\n",
       "        vertical-align: middle;\n",
       "    }\n",
       "\n",
       "    .dataframe tbody tr th {\n",
       "        vertical-align: top;\n",
       "    }\n",
       "\n",
       "    .dataframe thead th {\n",
       "        text-align: right;\n",
       "    }\n",
       "</style>\n",
       "<table border=\"1\" class=\"dataframe\">\n",
       "  <thead>\n",
       "    <tr style=\"text-align: right;\">\n",
       "      <th></th>\n",
       "      <th>EmployeeName</th>\n",
       "      <th>JobTitle</th>\n",
       "      <th>BasePay</th>\n",
       "      <th>OvertimePay</th>\n",
       "      <th>OtherPay</th>\n",
       "      <th>Benefits</th>\n",
       "      <th>TotalPay</th>\n",
       "      <th>TotalPayBenefits</th>\n",
       "      <th>Year</th>\n",
       "      <th>Agency</th>\n",
       "      <th>Status</th>\n",
       "    </tr>\n",
       "    <tr>\n",
       "      <th>Id</th>\n",
       "      <th></th>\n",
       "      <th></th>\n",
       "      <th></th>\n",
       "      <th></th>\n",
       "      <th></th>\n",
       "      <th></th>\n",
       "      <th></th>\n",
       "      <th></th>\n",
       "      <th></th>\n",
       "      <th></th>\n",
       "      <th></th>\n",
       "    </tr>\n",
       "  </thead>\n",
       "  <tbody>\n",
       "    <tr>\n",
       "      <th>1</th>\n",
       "      <td>NATHANIEL FORD</td>\n",
       "      <td>other</td>\n",
       "      <td>167411.18</td>\n",
       "      <td>0.00</td>\n",
       "      <td>400184.25</td>\n",
       "      <td>0.0</td>\n",
       "      <td>567595.43</td>\n",
       "      <td>567595.43</td>\n",
       "      <td>2011</td>\n",
       "      <td>San Francisco</td>\n",
       "      <td>NaN</td>\n",
       "    </tr>\n",
       "    <tr>\n",
       "      <th>2</th>\n",
       "      <td>GARY JIMENEZ</td>\n",
       "      <td>captain iii (police department)</td>\n",
       "      <td>155966.02</td>\n",
       "      <td>245131.88</td>\n",
       "      <td>137811.38</td>\n",
       "      <td>0.0</td>\n",
       "      <td>538909.28</td>\n",
       "      <td>538909.28</td>\n",
       "      <td>2011</td>\n",
       "      <td>San Francisco</td>\n",
       "      <td>NaN</td>\n",
       "    </tr>\n",
       "    <tr>\n",
       "      <th>3</th>\n",
       "      <td>ALBERT PARDINI</td>\n",
       "      <td>captain iii (police department)</td>\n",
       "      <td>212739.13</td>\n",
       "      <td>106088.18</td>\n",
       "      <td>16452.60</td>\n",
       "      <td>0.0</td>\n",
       "      <td>335279.91</td>\n",
       "      <td>335279.91</td>\n",
       "      <td>2011</td>\n",
       "      <td>San Francisco</td>\n",
       "      <td>NaN</td>\n",
       "    </tr>\n",
       "    <tr>\n",
       "      <th>4</th>\n",
       "      <td>CHRISTOPHER CHONG</td>\n",
       "      <td>other</td>\n",
       "      <td>77916.00</td>\n",
       "      <td>56120.71</td>\n",
       "      <td>198306.90</td>\n",
       "      <td>0.0</td>\n",
       "      <td>332343.61</td>\n",
       "      <td>332343.61</td>\n",
       "      <td>2011</td>\n",
       "      <td>San Francisco</td>\n",
       "      <td>NaN</td>\n",
       "    </tr>\n",
       "    <tr>\n",
       "      <th>5</th>\n",
       "      <td>PATRICK GARDNER</td>\n",
       "      <td>other</td>\n",
       "      <td>134401.60</td>\n",
       "      <td>9737.00</td>\n",
       "      <td>182234.59</td>\n",
       "      <td>0.0</td>\n",
       "      <td>326373.19</td>\n",
       "      <td>326373.19</td>\n",
       "      <td>2011</td>\n",
       "      <td>San Francisco</td>\n",
       "      <td>NaN</td>\n",
       "    </tr>\n",
       "    <tr>\n",
       "      <th>...</th>\n",
       "      <td>...</td>\n",
       "      <td>...</td>\n",
       "      <td>...</td>\n",
       "      <td>...</td>\n",
       "      <td>...</td>\n",
       "      <td>...</td>\n",
       "      <td>...</td>\n",
       "      <td>...</td>\n",
       "      <td>...</td>\n",
       "      <td>...</td>\n",
       "      <td>...</td>\n",
       "    </tr>\n",
       "    <tr>\n",
       "      <th>148650</th>\n",
       "      <td>Roy I Tillery</td>\n",
       "      <td>custodian</td>\n",
       "      <td>0.00</td>\n",
       "      <td>0.00</td>\n",
       "      <td>0.00</td>\n",
       "      <td>0.0</td>\n",
       "      <td>0.00</td>\n",
       "      <td>0.00</td>\n",
       "      <td>2014</td>\n",
       "      <td>San Francisco</td>\n",
       "      <td>NaN</td>\n",
       "    </tr>\n",
       "    <tr>\n",
       "      <th>148651</th>\n",
       "      <td>Not provided</td>\n",
       "      <td>other</td>\n",
       "      <td>0.00</td>\n",
       "      <td>NaN</td>\n",
       "      <td>NaN</td>\n",
       "      <td>0.0</td>\n",
       "      <td>0.00</td>\n",
       "      <td>0.00</td>\n",
       "      <td>2014</td>\n",
       "      <td>San Francisco</td>\n",
       "      <td>NaN</td>\n",
       "    </tr>\n",
       "    <tr>\n",
       "      <th>148652</th>\n",
       "      <td>Not provided</td>\n",
       "      <td>other</td>\n",
       "      <td>0.00</td>\n",
       "      <td>NaN</td>\n",
       "      <td>NaN</td>\n",
       "      <td>0.0</td>\n",
       "      <td>0.00</td>\n",
       "      <td>0.00</td>\n",
       "      <td>2014</td>\n",
       "      <td>San Francisco</td>\n",
       "      <td>NaN</td>\n",
       "    </tr>\n",
       "    <tr>\n",
       "      <th>148653</th>\n",
       "      <td>Not provided</td>\n",
       "      <td>other</td>\n",
       "      <td>0.00</td>\n",
       "      <td>NaN</td>\n",
       "      <td>NaN</td>\n",
       "      <td>0.0</td>\n",
       "      <td>0.00</td>\n",
       "      <td>0.00</td>\n",
       "      <td>2014</td>\n",
       "      <td>San Francisco</td>\n",
       "      <td>NaN</td>\n",
       "    </tr>\n",
       "    <tr>\n",
       "      <th>148654</th>\n",
       "      <td>Joe Lopez</td>\n",
       "      <td>counselor, log cabin ranch</td>\n",
       "      <td>0.00</td>\n",
       "      <td>0.00</td>\n",
       "      <td>-618.13</td>\n",
       "      <td>0.0</td>\n",
       "      <td>-618.13</td>\n",
       "      <td>-618.13</td>\n",
       "      <td>2014</td>\n",
       "      <td>San Francisco</td>\n",
       "      <td>NaN</td>\n",
       "    </tr>\n",
       "  </tbody>\n",
       "</table>\n",
       "<p>148654 rows × 11 columns</p>\n",
       "</div>"
      ],
      "text/plain": [
       "             EmployeeName                         JobTitle    BasePay  \\\n",
       "Id                                                                      \n",
       "1          NATHANIEL FORD                            other  167411.18   \n",
       "2            GARY JIMENEZ  captain iii (police department)  155966.02   \n",
       "3          ALBERT PARDINI  captain iii (police department)  212739.13   \n",
       "4       CHRISTOPHER CHONG                            other   77916.00   \n",
       "5         PATRICK GARDNER                            other  134401.60   \n",
       "...                   ...                              ...        ...   \n",
       "148650      Roy I Tillery                        custodian       0.00   \n",
       "148651       Not provided                            other       0.00   \n",
       "148652       Not provided                            other       0.00   \n",
       "148653       Not provided                            other       0.00   \n",
       "148654          Joe Lopez       counselor, log cabin ranch       0.00   \n",
       "\n",
       "        OvertimePay   OtherPay  Benefits   TotalPay  TotalPayBenefits  Year  \\\n",
       "Id                                                                            \n",
       "1              0.00  400184.25       0.0  567595.43         567595.43  2011   \n",
       "2         245131.88  137811.38       0.0  538909.28         538909.28  2011   \n",
       "3         106088.18   16452.60       0.0  335279.91         335279.91  2011   \n",
       "4          56120.71  198306.90       0.0  332343.61         332343.61  2011   \n",
       "5           9737.00  182234.59       0.0  326373.19         326373.19  2011   \n",
       "...             ...        ...       ...        ...               ...   ...   \n",
       "148650         0.00       0.00       0.0       0.00              0.00  2014   \n",
       "148651          NaN        NaN       0.0       0.00              0.00  2014   \n",
       "148652          NaN        NaN       0.0       0.00              0.00  2014   \n",
       "148653          NaN        NaN       0.0       0.00              0.00  2014   \n",
       "148654         0.00    -618.13       0.0    -618.13           -618.13  2014   \n",
       "\n",
       "               Agency  Status  \n",
       "Id                             \n",
       "1       San Francisco     NaN  \n",
       "2       San Francisco     NaN  \n",
       "3       San Francisco     NaN  \n",
       "4       San Francisco     NaN  \n",
       "5       San Francisco     NaN  \n",
       "...               ...     ...  \n",
       "148650  San Francisco     NaN  \n",
       "148651  San Francisco     NaN  \n",
       "148652  San Francisco     NaN  \n",
       "148653  San Francisco     NaN  \n",
       "148654  San Francisco     NaN  \n",
       "\n",
       "[148654 rows x 11 columns]"
      ]
     },
     "execution_count": 18,
     "metadata": {},
     "output_type": "execute_result"
    }
   ],
   "source": [
    "df"
   ]
  },
  {
   "cell_type": "markdown",
   "id": "d8d2e700",
   "metadata": {
    "papermill": {
     "duration": 0.013674,
     "end_time": "2023-07-18T05:15:40.194190",
     "exception": false,
     "start_time": "2023-07-18T05:15:40.180516",
     "status": "completed"
    },
    "tags": []
   },
   "source": [
    "from the discription of the data\n",
    "\n",
    "- $TotalPay$ suppose to be equal to $OvertimePay + OtherPay + BasePay$ \n",
    "\n",
    "- $TotalPayBenefits$ suppose to be equal to $TotalPay + Benefits $\n",
    "\n",
    "let's test that "
   ]
  },
  {
   "cell_type": "code",
   "execution_count": 19,
   "id": "ec7a6374",
   "metadata": {
    "execution": {
     "iopub.execute_input": "2024-01-20T16:45:59.917716Z",
     "iopub.status.busy": "2024-01-20T16:45:59.917008Z",
     "iopub.status.idle": "2024-01-20T16:45:59.951331Z",
     "shell.execute_reply": "2024-01-20T16:45:59.949917Z",
     "shell.execute_reply.started": "2024-01-20T16:45:59.917669Z"
    },
    "papermill": {
     "duration": 0.047873,
     "end_time": "2023-07-18T05:15:40.257651",
     "exception": false,
     "start_time": "2023-07-18T05:15:40.209778",
     "status": "completed"
    },
    "tags": []
   },
   "outputs": [
    {
     "data": {
      "text/plain": [
       "0.8217740524977465"
      ]
     },
     "execution_count": 19,
     "metadata": {},
     "output_type": "execute_result"
    }
   ],
   "source": [
    "sum(df['BasePay'] + df['OtherPay']  + df['OvertimePay'] == df['TotalPay'] ) / len(df)"
   ]
  },
  {
   "cell_type": "code",
   "execution_count": 20,
   "id": "5b4b9ae1",
   "metadata": {
    "execution": {
     "iopub.execute_input": "2024-01-20T16:46:02.063595Z",
     "iopub.status.busy": "2024-01-20T16:46:02.062812Z",
     "iopub.status.idle": "2024-01-20T16:46:02.096547Z",
     "shell.execute_reply": "2024-01-20T16:46:02.095281Z",
     "shell.execute_reply.started": "2024-01-20T16:46:02.063523Z"
    },
    "papermill": {
     "duration": 0.047767,
     "end_time": "2023-07-18T05:15:40.319900",
     "exception": false,
     "start_time": "2023-07-18T05:15:40.272133",
     "status": "completed"
    },
    "tags": []
   },
   "outputs": [
    {
     "data": {
      "text/plain": [
       "0.8429641987433907"
      ]
     },
     "execution_count": 20,
     "metadata": {},
     "output_type": "execute_result"
    }
   ],
   "source": [
    "sum(df['TotalPay'] + df['Benefits'] == df['TotalPayBenefits']) / len(df)"
   ]
  },
  {
   "cell_type": "markdown",
   "id": "5f5a5af5",
   "metadata": {
    "papermill": {
     "duration": 0.014197,
     "end_time": "2023-07-18T05:15:40.348782",
     "exception": false,
     "start_time": "2023-07-18T05:15:40.334585",
     "status": "completed"
    },
    "tags": []
   },
   "source": [
    "quite good but let's update $TotalPayBenefits$ and $TotalPay$"
   ]
  },
  {
   "cell_type": "code",
   "execution_count": 21,
   "id": "89087277",
   "metadata": {
    "execution": {
     "iopub.execute_input": "2024-01-20T16:46:02.511144Z",
     "iopub.status.busy": "2024-01-20T16:46:02.510709Z",
     "iopub.status.idle": "2024-01-20T16:46:02.520853Z",
     "shell.execute_reply": "2024-01-20T16:46:02.519338Z",
     "shell.execute_reply.started": "2024-01-20T16:46:02.511109Z"
    },
    "papermill": {
     "duration": 0.027267,
     "end_time": "2023-07-18T05:15:40.390613",
     "exception": false,
     "start_time": "2023-07-18T05:15:40.363346",
     "status": "completed"
    },
    "tags": []
   },
   "outputs": [],
   "source": [
    "df['TotalPay'] = df['BasePay'] + df['OtherPay']  + df['OvertimePay'] \n",
    "df['TotalPayBenefits'] = df['TotalPay'] + df['Benefits'] "
   ]
  },
  {
   "cell_type": "code",
   "execution_count": 22,
   "id": "41ced777",
   "metadata": {
    "execution": {
     "iopub.execute_input": "2024-01-20T16:46:02.731570Z",
     "iopub.status.busy": "2024-01-20T16:46:02.731136Z",
     "iopub.status.idle": "2024-01-20T16:46:02.776468Z",
     "shell.execute_reply": "2024-01-20T16:46:02.775574Z",
     "shell.execute_reply.started": "2024-01-20T16:46:02.731527Z"
    },
    "papermill": {
     "duration": 0.082393,
     "end_time": "2023-07-18T05:15:40.487899",
     "exception": false,
     "start_time": "2023-07-18T05:15:40.405506",
     "status": "completed"
    },
    "tags": []
   },
   "outputs": [
    {
     "data": {
      "text/html": [
       "<div>\n",
       "<style scoped>\n",
       "    .dataframe tbody tr th:only-of-type {\n",
       "        vertical-align: middle;\n",
       "    }\n",
       "\n",
       "    .dataframe tbody tr th {\n",
       "        vertical-align: top;\n",
       "    }\n",
       "\n",
       "    .dataframe thead th {\n",
       "        text-align: right;\n",
       "    }\n",
       "</style>\n",
       "<table border=\"1\" class=\"dataframe\">\n",
       "  <thead>\n",
       "    <tr style=\"text-align: right;\">\n",
       "      <th></th>\n",
       "      <th>TotalPayBenefits</th>\n",
       "    </tr>\n",
       "    <tr>\n",
       "      <th>JobTitle</th>\n",
       "      <th></th>\n",
       "    </tr>\n",
       "  </thead>\n",
       "  <tbody>\n",
       "    <tr>\n",
       "      <th>transit operator</th>\n",
       "      <td>7.952230e+08</td>\n",
       "    </tr>\n",
       "    <tr>\n",
       "      <th>registered nurse</th>\n",
       "      <td>6.965409e+08</td>\n",
       "    </tr>\n",
       "    <tr>\n",
       "      <th>firefighter</th>\n",
       "      <td>5.425706e+08</td>\n",
       "    </tr>\n",
       "    <tr>\n",
       "      <th>police officer 3</th>\n",
       "      <td>4.060903e+08</td>\n",
       "    </tr>\n",
       "    <tr>\n",
       "      <th>deputy sheriff</th>\n",
       "      <td>3.412028e+08</td>\n",
       "    </tr>\n",
       "  </tbody>\n",
       "</table>\n",
       "</div>"
      ],
      "text/plain": [
       "                  TotalPayBenefits\n",
       "JobTitle                          \n",
       "transit operator      7.952230e+08\n",
       "registered nurse      6.965409e+08\n",
       "firefighter           5.425706e+08\n",
       "police officer 3      4.060903e+08\n",
       "deputy sheriff        3.412028e+08"
      ]
     },
     "execution_count": 22,
     "metadata": {},
     "output_type": "execute_result"
    }
   ],
   "source": [
    "top_5_salaries = df[['JobTitle' , 'TotalPayBenefits']].groupby(by ='JobTitle').sum() \\\n",
    "    .sort_values(by ='TotalPayBenefits' , ascending=  False )[:5]\n",
    "top_5_salaries"
   ]
  },
  {
   "cell_type": "code",
   "execution_count": 23,
   "id": "1feb07e3",
   "metadata": {
    "execution": {
     "iopub.execute_input": "2024-01-20T16:46:04.058818Z",
     "iopub.status.busy": "2024-01-20T16:46:04.057551Z",
     "iopub.status.idle": "2024-01-20T16:46:04.410823Z",
     "shell.execute_reply": "2024-01-20T16:46:04.409729Z",
     "shell.execute_reply.started": "2024-01-20T16:46:04.058764Z"
    },
    "papermill": {
     "duration": 0.423347,
     "end_time": "2023-07-18T05:15:40.926558",
     "exception": false,
     "start_time": "2023-07-18T05:15:40.503211",
     "status": "completed"
    },
    "tags": []
   },
   "outputs": [
    {
     "data": {
      "image/png": "[encoded data removed]",
      "text/plain": [
       "<Figure size 1500x800 with 1 Axes>"
      ]
     },
     "metadata": {},
     "output_type": "display_data"
    }
   ],
   "source": [
    "plt.figure(figsize=(15,8))\n",
    "sns.barplot(x = top_5_salaries.index , y =top_5_salaries['TotalPayBenefits'] / 1_000_000, color='steelblue' )\n",
    "plt.title('Top 5 jobs get paid last 4 years')\n",
    "plt.ylabel('Money in million$')\n",
    "plt.show()"
   ]
  },
  {
   "cell_type": "markdown",
   "id": "37026903",
   "metadata": {
    "papermill": {
     "duration": 0.015548,
     "end_time": "2023-07-18T05:15:40.958173",
     "exception": false,
     "start_time": "2023-07-18T05:15:40.942625",
     "status": "completed"
    },
    "tags": []
   },
   "source": [
    "#### Q2 | How much money spent over last 4 years ?\n"
   ]
  },
  {
   "cell_type": "code",
   "execution_count": 24,
   "id": "78b2dcc6",
   "metadata": {
    "execution": {
     "iopub.execute_input": "2024-01-20T16:46:04.498606Z",
     "iopub.status.busy": "2024-01-20T16:46:04.498167Z",
     "iopub.status.idle": "2024-01-20T16:46:04.521899Z",
     "shell.execute_reply": "2024-01-20T16:46:04.520696Z",
     "shell.execute_reply.started": "2024-01-20T16:46:04.498572Z"
    },
    "papermill": {
     "duration": 0.041612,
     "end_time": "2023-07-18T05:15:41.015614",
     "exception": false,
     "start_time": "2023-07-18T05:15:40.974002",
     "status": "completed"
    },
    "tags": []
   },
   "outputs": [
    {
     "data": {
      "text/html": [
       "<div>\n",
       "<style scoped>\n",
       "    .dataframe tbody tr th:only-of-type {\n",
       "        vertical-align: middle;\n",
       "    }\n",
       "\n",
       "    .dataframe tbody tr th {\n",
       "        vertical-align: top;\n",
       "    }\n",
       "\n",
       "    .dataframe thead th {\n",
       "        text-align: right;\n",
       "    }\n",
       "</style>\n",
       "<table border=\"1\" class=\"dataframe\">\n",
       "  <thead>\n",
       "    <tr style=\"text-align: right;\">\n",
       "      <th></th>\n",
       "      <th>TotalPayBenefits</th>\n",
       "    </tr>\n",
       "    <tr>\n",
       "      <th>Year</th>\n",
       "      <th></th>\n",
       "    </tr>\n",
       "  </thead>\n",
       "  <tbody>\n",
       "    <tr>\n",
       "      <th>2014</th>\n",
       "      <td>3.821866e+09</td>\n",
       "    </tr>\n",
       "    <tr>\n",
       "      <th>2013</th>\n",
       "      <td>3.814772e+09</td>\n",
       "    </tr>\n",
       "    <tr>\n",
       "      <th>2012</th>\n",
       "      <td>3.696940e+09</td>\n",
       "    </tr>\n",
       "    <tr>\n",
       "      <th>2011</th>\n",
       "      <td>2.594195e+09</td>\n",
       "    </tr>\n",
       "  </tbody>\n",
       "</table>\n",
       "</div>"
      ],
      "text/plain": [
       "      TotalPayBenefits\n",
       "Year                  \n",
       "2014      3.821866e+09\n",
       "2013      3.814772e+09\n",
       "2012      3.696940e+09\n",
       "2011      2.594195e+09"
      ]
     },
     "execution_count": 24,
     "metadata": {},
     "output_type": "execute_result"
    }
   ],
   "source": [
    "spend_every_year = df[['Year' , 'TotalPayBenefits']].groupby(by ='Year').sum() \\\n",
    "    .sort_values(by ='TotalPayBenefits' , ascending=  False )[:5]\n",
    "spend_every_year"
   ]
  },
  {
   "cell_type": "code",
   "execution_count": 25,
   "id": "c0922621",
   "metadata": {
    "execution": {
     "iopub.execute_input": "2024-01-20T16:46:05.078349Z",
     "iopub.status.busy": "2024-01-20T16:46:05.077389Z",
     "iopub.status.idle": "2024-01-20T16:46:05.455900Z",
     "shell.execute_reply": "2024-01-20T16:46:05.454584Z",
     "shell.execute_reply.started": "2024-01-20T16:46:05.078299Z"
    },
    "papermill": {
     "duration": 0.429127,
     "end_time": "2023-07-18T05:15:41.461135",
     "exception": false,
     "start_time": "2023-07-18T05:15:41.032008",
     "status": "completed"
    },
    "tags": []
   },
   "outputs": [
    {
     "data": {
      "image/png": "[encoded data removed]",
      "text/plain": [
       "<Figure size 1500x800 with 1 Axes>"
      ]
     },
     "metadata": {},
     "output_type": "display_data"
    }
   ],
   "source": [
    "plt.figure(figsize=(15,8))\n",
    "sns.lineplot(x = spend_every_year.index , y =spend_every_year['TotalPayBenefits'] / 1_000_000, color='steelblue' )\n",
    "plt.title('money spent over last 4 years ')\n",
    "plt.xticks([2011,2012,2013,2014])\n",
    "plt.ylabel('Money in million$')\n",
    "plt.show()"
   ]
  },
  {
   "cell_type": "markdown",
   "id": "f293fb47",
   "metadata": {
    "papermill": {
     "duration": 0.016548,
     "end_time": "2023-07-18T05:15:41.495018",
     "exception": false,
     "start_time": "2023-07-18T05:15:41.478470",
     "status": "completed"
    },
    "tags": []
   },
   "source": [
    "#### Q3 | If i were in San Francisco in 2014 how much would i get paid  ?\n"
   ]
  },
  {
   "cell_type": "code",
   "execution_count": 27,
   "id": "196978a6",
   "metadata": {
    "execution": {
     "iopub.execute_input": "2024-01-20T16:46:12.558267Z",
     "iopub.status.busy": "2024-01-20T16:46:12.557871Z",
     "iopub.status.idle": "2024-01-20T16:46:12.595218Z",
     "shell.execute_reply": "2024-01-20T16:46:12.594081Z",
     "shell.execute_reply.started": "2024-01-20T16:46:12.558237Z"
    },
    "papermill": {
     "duration": 0.052549,
     "end_time": "2023-07-18T05:15:41.565018",
     "exception": false,
     "start_time": "2023-07-18T05:15:41.512469",
     "status": "completed"
    },
    "tags": []
   },
   "outputs": [
    {
     "data": {
      "text/html": [
       "<div>\n",
       "<style scoped>\n",
       "    .dataframe tbody tr th:only-of-type {\n",
       "        vertical-align: middle;\n",
       "    }\n",
       "\n",
       "    .dataframe tbody tr th {\n",
       "        vertical-align: top;\n",
       "    }\n",
       "\n",
       "    .dataframe thead th {\n",
       "        text-align: right;\n",
       "    }\n",
       "</style>\n",
       "<table border=\"1\" class=\"dataframe\">\n",
       "  <thead>\n",
       "    <tr style=\"text-align: right;\">\n",
       "      <th></th>\n",
       "      <th>EmployeeName</th>\n",
       "      <th>JobTitle</th>\n",
       "      <th>BasePay</th>\n",
       "      <th>OvertimePay</th>\n",
       "      <th>OtherPay</th>\n",
       "      <th>Benefits</th>\n",
       "      <th>TotalPay</th>\n",
       "      <th>TotalPayBenefits</th>\n",
       "      <th>Year</th>\n",
       "      <th>Agency</th>\n",
       "      <th>Status</th>\n",
       "    </tr>\n",
       "    <tr>\n",
       "      <th>Id</th>\n",
       "      <th></th>\n",
       "      <th></th>\n",
       "      <th></th>\n",
       "      <th></th>\n",
       "      <th></th>\n",
       "      <th></th>\n",
       "      <th></th>\n",
       "      <th></th>\n",
       "      <th></th>\n",
       "      <th></th>\n",
       "      <th></th>\n",
       "    </tr>\n",
       "  </thead>\n",
       "  <tbody>\n",
       "    <tr>\n",
       "      <th>110532</th>\n",
       "      <td>David Shinn</td>\n",
       "      <td>deputy chief 3</td>\n",
       "      <td>129150.01</td>\n",
       "      <td>0.00</td>\n",
       "      <td>342802.63</td>\n",
       "      <td>38780.04</td>\n",
       "      <td>471952.64</td>\n",
       "      <td>510732.68</td>\n",
       "      <td>2014</td>\n",
       "      <td>San Francisco</td>\n",
       "      <td>NaN</td>\n",
       "    </tr>\n",
       "    <tr>\n",
       "      <th>110533</th>\n",
       "      <td>Amy P Hart</td>\n",
       "      <td>asst med examiner</td>\n",
       "      <td>318835.49</td>\n",
       "      <td>10712.95</td>\n",
       "      <td>60563.54</td>\n",
       "      <td>89540.23</td>\n",
       "      <td>390111.98</td>\n",
       "      <td>479652.21</td>\n",
       "      <td>2014</td>\n",
       "      <td>San Francisco</td>\n",
       "      <td>NaN</td>\n",
       "    </tr>\n",
       "    <tr>\n",
       "      <th>110534</th>\n",
       "      <td>William J Coaker Jr.</td>\n",
       "      <td>other</td>\n",
       "      <td>257340.00</td>\n",
       "      <td>0.00</td>\n",
       "      <td>82313.70</td>\n",
       "      <td>96570.66</td>\n",
       "      <td>339653.70</td>\n",
       "      <td>436224.36</td>\n",
       "      <td>2014</td>\n",
       "      <td>San Francisco</td>\n",
       "      <td>NaN</td>\n",
       "    </tr>\n",
       "    <tr>\n",
       "      <th>110535</th>\n",
       "      <td>Gregory P Suhr</td>\n",
       "      <td>other</td>\n",
       "      <td>307450.04</td>\n",
       "      <td>0.00</td>\n",
       "      <td>19266.72</td>\n",
       "      <td>91302.46</td>\n",
       "      <td>326716.76</td>\n",
       "      <td>418019.22</td>\n",
       "      <td>2014</td>\n",
       "      <td>San Francisco</td>\n",
       "      <td>NaN</td>\n",
       "    </tr>\n",
       "    <tr>\n",
       "      <th>110536</th>\n",
       "      <td>Joanne M Hayes-White</td>\n",
       "      <td>other</td>\n",
       "      <td>302068.00</td>\n",
       "      <td>0.00</td>\n",
       "      <td>24165.44</td>\n",
       "      <td>91201.66</td>\n",
       "      <td>326233.44</td>\n",
       "      <td>417435.10</td>\n",
       "      <td>2014</td>\n",
       "      <td>San Francisco</td>\n",
       "      <td>NaN</td>\n",
       "    </tr>\n",
       "    <tr>\n",
       "      <th>...</th>\n",
       "      <td>...</td>\n",
       "      <td>...</td>\n",
       "      <td>...</td>\n",
       "      <td>...</td>\n",
       "      <td>...</td>\n",
       "      <td>...</td>\n",
       "      <td>...</td>\n",
       "      <td>...</td>\n",
       "      <td>...</td>\n",
       "      <td>...</td>\n",
       "      <td>...</td>\n",
       "    </tr>\n",
       "    <tr>\n",
       "      <th>148650</th>\n",
       "      <td>Roy I Tillery</td>\n",
       "      <td>custodian</td>\n",
       "      <td>0.00</td>\n",
       "      <td>0.00</td>\n",
       "      <td>0.00</td>\n",
       "      <td>0.00</td>\n",
       "      <td>0.00</td>\n",
       "      <td>0.00</td>\n",
       "      <td>2014</td>\n",
       "      <td>San Francisco</td>\n",
       "      <td>NaN</td>\n",
       "    </tr>\n",
       "    <tr>\n",
       "      <th>148651</th>\n",
       "      <td>Not provided</td>\n",
       "      <td>other</td>\n",
       "      <td>0.00</td>\n",
       "      <td>NaN</td>\n",
       "      <td>NaN</td>\n",
       "      <td>0.00</td>\n",
       "      <td>NaN</td>\n",
       "      <td>NaN</td>\n",
       "      <td>2014</td>\n",
       "      <td>San Francisco</td>\n",
       "      <td>NaN</td>\n",
       "    </tr>\n",
       "    <tr>\n",
       "      <th>148652</th>\n",
       "      <td>Not provided</td>\n",
       "      <td>other</td>\n",
       "      <td>0.00</td>\n",
       "      <td>NaN</td>\n",
       "      <td>NaN</td>\n",
       "      <td>0.00</td>\n",
       "      <td>NaN</td>\n",
       "      <td>NaN</td>\n",
       "      <td>2014</td>\n",
       "      <td>San Francisco</td>\n",
       "      <td>NaN</td>\n",
       "    </tr>\n",
       "    <tr>\n",
       "      <th>148653</th>\n",
       "      <td>Not provided</td>\n",
       "      <td>other</td>\n",
       "      <td>0.00</td>\n",
       "      <td>NaN</td>\n",
       "      <td>NaN</td>\n",
       "      <td>0.00</td>\n",
       "      <td>NaN</td>\n",
       "      <td>NaN</td>\n",
       "      <td>2014</td>\n",
       "      <td>San Francisco</td>\n",
       "      <td>NaN</td>\n",
       "    </tr>\n",
       "    <tr>\n",
       "      <th>148654</th>\n",
       "      <td>Joe Lopez</td>\n",
       "      <td>counselor, log cabin ranch</td>\n",
       "      <td>0.00</td>\n",
       "      <td>0.00</td>\n",
       "      <td>-618.13</td>\n",
       "      <td>0.00</td>\n",
       "      <td>-618.13</td>\n",
       "      <td>-618.13</td>\n",
       "      <td>2014</td>\n",
       "      <td>San Francisco</td>\n",
       "      <td>NaN</td>\n",
       "    </tr>\n",
       "  </tbody>\n",
       "</table>\n",
       "<p>38123 rows × 11 columns</p>\n",
       "</div>"
      ],
      "text/plain": [
       "                EmployeeName                    JobTitle    BasePay  \\\n",
       "Id                                                                    \n",
       "110532           David Shinn              deputy chief 3  129150.01   \n",
       "110533            Amy P Hart           asst med examiner  318835.49   \n",
       "110534  William J Coaker Jr.                       other  257340.00   \n",
       "110535        Gregory P Suhr                       other  307450.04   \n",
       "110536  Joanne M Hayes-White                       other  302068.00   \n",
       "...                      ...                         ...        ...   \n",
       "148650         Roy I Tillery                   custodian       0.00   \n",
       "148651          Not provided                       other       0.00   \n",
       "148652          Not provided                       other       0.00   \n",
       "148653          Not provided                       other       0.00   \n",
       "148654             Joe Lopez  counselor, log cabin ranch       0.00   \n",
       "\n",
       "        OvertimePay   OtherPay  Benefits   TotalPay  TotalPayBenefits  Year  \\\n",
       "Id                                                                            \n",
       "110532         0.00  342802.63  38780.04  471952.64         510732.68  2014   \n",
       "110533     10712.95   60563.54  89540.23  390111.98         479652.21  2014   \n",
       "110534         0.00   82313.70  96570.66  339653.70         436224.36  2014   \n",
       "110535         0.00   19266.72  91302.46  326716.76         418019.22  2014   \n",
       "110536         0.00   24165.44  91201.66  326233.44         417435.10  2014   \n",
       "...             ...        ...       ...        ...               ...   ...   \n",
       "148650         0.00       0.00      0.00       0.00              0.00  2014   \n",
       "148651          NaN        NaN      0.00        NaN               NaN  2014   \n",
       "148652          NaN        NaN      0.00        NaN               NaN  2014   \n",
       "148653          NaN        NaN      0.00        NaN               NaN  2014   \n",
       "148654         0.00    -618.13      0.00    -618.13           -618.13  2014   \n",
       "\n",
       "               Agency  Status  \n",
       "Id                             \n",
       "110532  San Francisco     NaN  \n",
       "110533  San Francisco     NaN  \n",
       "110534  San Francisco     NaN  \n",
       "110535  San Francisco     NaN  \n",
       "110536  San Francisco     NaN  \n",
       "...               ...     ...  \n",
       "148650  San Francisco     NaN  \n",
       "148651  San Francisco     NaN  \n",
       "148652  San Francisco     NaN  \n",
       "148653  San Francisco     NaN  \n",
       "148654  San Francisco     NaN  \n",
       "\n",
       "[38123 rows x 11 columns]"
      ]
     },
     "execution_count": 27,
     "metadata": {},
     "output_type": "execute_result"
    }
   ],
   "source": [
    "df_2014 = df[df['Year'] == 2014]\n",
    "df_2014"
   ]
  },
  {
   "cell_type": "markdown",
   "id": "fae4a81c",
   "metadata": {
    "papermill": {
     "duration": 0.017197,
     "end_time": "2023-07-18T05:15:41.599747",
     "exception": false,
     "start_time": "2023-07-18T05:15:41.582550",
     "status": "completed"
    },
    "tags": []
   },
   "source": [
    "let's perform central limit therom taking 400 samples with n = 35 "
   ]
  },
  {
   "cell_type": "code",
   "execution_count": 28,
   "id": "3c993880",
   "metadata": {
    "execution": {
     "iopub.execute_input": "2024-01-20T16:46:12.947033Z",
     "iopub.status.busy": "2024-01-20T16:46:12.946588Z",
     "iopub.status.idle": "2024-01-20T16:46:13.528042Z",
     "shell.execute_reply": "2024-01-20T16:46:13.526947Z",
     "shell.execute_reply.started": "2024-01-20T16:46:12.946996Z"
    },
    "papermill": {
     "duration": 0.582307,
     "end_time": "2023-07-18T05:15:42.199507",
     "exception": false,
     "start_time": "2023-07-18T05:15:41.617200",
     "status": "completed"
    },
    "tags": []
   },
   "outputs": [],
   "source": [
    "samples = []\n",
    "for i in range(500):\n",
    "    samples.append(np.mean(df_2014['TotalPayBenefits'].sample(n = 40)))"
   ]
  },
  {
   "cell_type": "code",
   "execution_count": 29,
   "id": "5317785d",
   "metadata": {
    "execution": {
     "iopub.execute_input": "2024-01-20T16:46:13.531305Z",
     "iopub.status.busy": "2024-01-20T16:46:13.530858Z",
     "iopub.status.idle": "2024-01-20T16:46:14.138915Z",
     "shell.execute_reply": "2024-01-20T16:46:14.137581Z",
     "shell.execute_reply.started": "2024-01-20T16:46:13.531263Z"
    },
    "papermill": {
     "duration": 0.530332,
     "end_time": "2023-07-18T05:15:42.747435",
     "exception": false,
     "start_time": "2023-07-18T05:15:42.217103",
     "status": "completed"
    },
    "tags": []
   },
   "outputs": [
    {
     "data": {
      "image/png": "[encoded data removed]",
      "text/plain": [
       "<Figure size 1500x800 with 1 Axes>"
      ]
     },
     "metadata": {},
     "output_type": "display_data"
    }
   ],
   "source": [
    "plt.figure(figsize=(15,8))\n",
    "plt.title('Distribution of average employee salaries during 2014')\n",
    "sns.histplot(samples)\n",
    "plt.show()"
   ]
  },
  {
   "cell_type": "code",
   "execution_count": 30,
   "id": "dddaa703",
   "metadata": {
    "execution": {
     "iopub.execute_input": "2024-01-20T16:46:14.140726Z",
     "iopub.status.busy": "2024-01-20T16:46:14.140293Z",
     "iopub.status.idle": "2024-01-20T16:46:14.148764Z",
     "shell.execute_reply": "2024-01-20T16:46:14.147265Z",
     "shell.execute_reply.started": "2024-01-20T16:46:14.140684Z"
    },
    "papermill": {
     "duration": 0.03027,
     "end_time": "2023-07-18T05:15:42.795810",
     "exception": false,
     "start_time": "2023-07-18T05:15:42.765540",
     "status": "completed"
    },
    "tags": []
   },
   "outputs": [
    {
     "data": {
      "text/plain": [
       "100508.64043671795"
      ]
     },
     "execution_count": 30,
     "metadata": {},
     "output_type": "execute_result"
    }
   ],
   "source": [
    "np.mean(samples)"
   ]
  },
  {
   "cell_type": "code",
   "execution_count": 31,
   "id": "d34be095",
   "metadata": {
    "execution": {
     "iopub.execute_input": "2024-01-20T16:46:14.152640Z",
     "iopub.status.busy": "2024-01-20T16:46:14.152069Z",
     "iopub.status.idle": "2024-01-20T16:46:14.163255Z",
     "shell.execute_reply": "2024-01-20T16:46:14.161581Z",
     "shell.execute_reply.started": "2024-01-20T16:46:14.152590Z"
    },
    "papermill": {
     "duration": 0.029481,
     "end_time": "2023-07-18T05:15:42.843834",
     "exception": false,
     "start_time": "2023-07-18T05:15:42.814353",
     "status": "completed"
    },
    "scrolled": true,
    "tags": []
   },
   "outputs": [
    {
     "data": {
      "text/plain": [
       "100261.4386683806"
      ]
     },
     "execution_count": 31,
     "metadata": {},
     "output_type": "execute_result"
    }
   ],
   "source": [
    "np.mean(df_2014['TotalPayBenefits'])"
   ]
  },
  {
   "cell_type": "code",
   "execution_count": 32,
   "id": "5baf44a5",
   "metadata": {
    "execution": {
     "iopub.execute_input": "2024-01-20T16:46:14.166623Z",
     "iopub.status.busy": "2024-01-20T16:46:14.166057Z",
     "iopub.status.idle": "2024-01-20T16:46:14.176226Z",
     "shell.execute_reply": "2024-01-20T16:46:14.174830Z",
     "shell.execute_reply.started": "2024-01-20T16:46:14.166574Z"
    },
    "papermill": {
     "duration": 0.030978,
     "end_time": "2023-07-18T05:15:42.893767",
     "exception": false,
     "start_time": "2023-07-18T05:15:42.862789",
     "status": "completed"
    },
    "tags": []
   },
   "outputs": [
    {
     "data": {
      "text/plain": [
       "10218.554470125731"
      ]
     },
     "execution_count": 32,
     "metadata": {},
     "output_type": "execute_result"
    }
   ],
   "source": [
    "np.std(samples) "
   ]
  },
  {
   "cell_type": "code",
   "execution_count": 33,
   "id": "87718619",
   "metadata": {
    "execution": {
     "iopub.execute_input": "2024-01-20T16:46:14.178880Z",
     "iopub.status.busy": "2024-01-20T16:46:14.178241Z",
     "iopub.status.idle": "2024-01-20T16:46:14.192724Z",
     "shell.execute_reply": "2024-01-20T16:46:14.191365Z",
     "shell.execute_reply.started": "2024-01-20T16:46:14.178831Z"
    },
    "papermill": {
     "duration": 0.03304,
     "end_time": "2023-07-18T05:15:42.946165",
     "exception": false,
     "start_time": "2023-07-18T05:15:42.913125",
     "status": "completed"
    },
    "tags": []
   },
   "outputs": [
    {
     "data": {
      "text/plain": [
       "10472.43549752634"
      ]
     },
     "execution_count": 33,
     "metadata": {},
     "output_type": "execute_result"
    }
   ],
   "source": [
    "np.std(df_2014['TotalPayBenefits']) / np.sqrt(40)"
   ]
  },
  {
   "cell_type": "markdown",
   "id": "ab32e1a6",
   "metadata": {
    "papermill": {
     "duration": 0.018591,
     "end_time": "2023-07-18T05:15:42.983782",
     "exception": false,
     "start_time": "2023-07-18T05:15:42.965191",
     "status": "completed"
    },
    "tags": []
   },
   "source": [
    "that is very samll proof of therom ,  according to the Central Limit Theorem, the sampling distribution of x-bar should be approximately normal, so that almost all of the values of x-bar fall into the interval (mu +- 3 * SE)."
   ]
  },
  {
   "cell_type": "code",
   "execution_count": 34,
   "id": "23eae2e6",
   "metadata": {
    "execution": {
     "iopub.execute_input": "2024-01-20T16:46:14.656990Z",
     "iopub.status.busy": "2024-01-20T16:46:14.656539Z",
     "iopub.status.idle": "2024-01-20T16:46:14.664463Z",
     "shell.execute_reply": "2024-01-20T16:46:14.662964Z",
     "shell.execute_reply.started": "2024-01-20T16:46:14.656954Z"
    },
    "papermill": {
     "duration": 0.030771,
     "end_time": "2023-07-18T05:15:43.033832",
     "exception": false,
     "start_time": "2023-07-18T05:15:43.003061",
     "status": "completed"
    },
    "tags": []
   },
   "outputs": [],
   "source": [
    "UCL  =  np.mean(samples) + 3 * (np.std(samples))\n",
    "LCL  =  np.mean(samples) - 3 * (np.std(samples))"
   ]
  },
  {
   "cell_type": "code",
   "execution_count": 35,
   "id": "38389a0b",
   "metadata": {
    "execution": {
     "iopub.execute_input": "2024-01-20T16:46:14.857799Z",
     "iopub.status.busy": "2024-01-20T16:46:14.857388Z",
     "iopub.status.idle": "2024-01-20T16:46:15.378687Z",
     "shell.execute_reply": "2024-01-20T16:46:15.377359Z",
     "shell.execute_reply.started": "2024-01-20T16:46:14.857764Z"
    },
    "papermill": {
     "duration": 0.598312,
     "end_time": "2023-07-18T05:15:43.651845",
     "exception": false,
     "start_time": "2023-07-18T05:15:43.053533",
     "status": "completed"
    },
    "tags": []
   },
   "outputs": [
    {
     "data": {
      "text/plain": [
       "<matplotlib.lines.Line2D at 0x7f62e585d330>"
      ]
     },
     "execution_count": 35,
     "metadata": {},
     "output_type": "execute_result"
    },
    {
     "data": {
      "image/png": "[encoded data removed]",
      "text/plain": [
       "<Figure size 1500x800 with 1 Axes>"
      ]
     },
     "metadata": {},
     "output_type": "display_data"
    }
   ],
   "source": [
    "plt.figure(figsize=(15,8))\n",
    "sns.lineplot(x = range(500) , y = samples)\n",
    "plt.axhline(y = UCL , color = 'black' , lw = 2 ,linestyle  = '--' )\n",
    "plt.axhline(y = LCL , color = 'black' , lw = 2 ,linestyle  = '--' )\n"
   ]
  }
 ],
 "metadata": {
  "kaggle": {
   "accelerator": "none",
   "dataSources": [
    {
     "datasetId": 4331906,
     "sourceId": 7442498,
     "sourceType": "datasetVersion"
    }
   ],
   "dockerImageVersionId": 30635,
   "isGpuEnabled": false,
   "isInternetEnabled": true,
   "language": "python",
   "sourceType": "notebook"
  },
  "kernelspec": {
   "display_name": "Python 3 (ipykernel)",
   "language": "python",
   "name": "python3"
  },
  "language_info": {
   "codemirror_mode": {
    "name": "ipython",
    "version": 3
   },
   "file_extension": ".py",
   "mimetype": "text/x-python",
   "name": "python",
   "nbconvert_exporter": "python",
   "pygments_lexer": "ipython3",
   "version": "3.11.5"
  },
  "papermill": {
   "default_parameters": {},
   "duration": 27.500212,
   "end_time": "2023-07-18T05:15:44.697620",
   "environment_variables": {},
   "exception": null,
   "input_path": "__notebook__.ipynb",
   "output_path": "__notebook__.ipynb",
   "parameters": {},
   "start_time": "2023-07-18T05:15:17.197408",
   "version": "2.4.0"
  }
 },
 "nbformat": 4,
 "nbformat_minor": 5
}
