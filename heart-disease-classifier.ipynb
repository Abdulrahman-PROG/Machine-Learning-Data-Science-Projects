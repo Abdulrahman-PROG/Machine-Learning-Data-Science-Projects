{
 "cells": [
  {
   "cell_type": "markdown",
   "id": "daa3eb68",
   "metadata": {
    "papermill": {
     "duration": 0.005358,
     "end_time": "2023-12-29T17:38:16.134585",
     "exception": false,
     "start_time": "2023-12-29T17:38:16.129227",
     "status": "completed"
    },
    "tags": []
   },
   "source": []
  },
  {
   "cell_type": "markdown",
   "id": "1b6dc756",
   "metadata": {
    "papermill": {
     "duration": 0.004373,
     "end_time": "2023-12-29T17:38:16.143630",
     "exception": false,
     "start_time": "2023-12-29T17:38:16.139257",
     "status": "completed"
    },
    "tags": []
   },
   "source": [
    "# Description of Heart Disease:\n",
    "\n",
    "**Heart disease, also known as cardiovascular disease, refers to a class of conditions that affect the heart and blood vessels. It encompasses a range of disorders, including coronary artery disease, heart failure, valvular heart diseases, and various cardiomyopathies. Heart disease is a leading cause of morbidity and mortality worldwide, contributing to a significant burden on healthcare systems.**\n",
    "\n",
    "**Common risk factors for heart disease include high blood pressure, high cholesterol levels, smoking, obesity, diabetes, and a sedentary lifestyle. Over time, these risk factors can lead to the accumulation of plaque in the arteries, reducing blood flow to the heart and increasing the likelihood of heart attacks, heart failure, and other cardiovascular events.**"
   ]
  },
  {
   "cell_type": "markdown",
   "id": "89f233ca",
   "metadata": {
    "papermill": {
     "duration": 0.004285,
     "end_time": "2023-12-29T17:38:16.152549",
     "exception": false,
     "start_time": "2023-12-29T17:38:16.148264",
     "status": "completed"
    },
    "tags": []
   },
   "source": [
    "# Solving Heart Disease with Machine Learning:"
   ]
  },
  {
   "cell_type": "markdown",
   "id": "f9663e7c",
   "metadata": {
    "papermill": {
     "duration": 0.004365,
     "end_time": "2023-12-29T17:38:16.161434",
     "exception": false,
     "start_time": "2023-12-29T17:38:16.157069",
     "status": "completed"
    },
    "tags": []
   },
   "source": [
    "**Machine learning (ML) offers promising avenues for addressing heart disease through early detection, risk prediction, and personalized treatment strategies. Here's how machine learning can contribute to tackling heart disease:**"
   ]
  },
  {
   "cell_type": "markdown",
   "id": "748d1281",
   "metadata": {
    "papermill": {
     "duration": 0.004238,
     "end_time": "2023-12-29T17:38:16.170167",
     "exception": false,
     "start_time": "2023-12-29T17:38:16.165929",
     "status": "completed"
    },
    "tags": []
   },
   "source": [
    "    Risk Prediction Models:\n",
    "        ML algorithms can analyze vast datasets to identify patterns and correlations that may not be apparent through traditional methods. By incorporating a patient's medical history, lifestyle factors, and genetic information, ML models can predict an individual's risk of developing heart disease.\n",
    "\n",
    "    Early Detection and Diagnosis:\n",
    "        ML algorithms can analyze medical imaging data, such as cardiac MRI or CT scans, to detect subtle signs of heart disease at an early stage. This enables healthcare professionals to intervene proactively and implement preventive measures.\n",
    "\n",
    "    Personalized Treatment Plans:\n",
    "        ML can assist in developing personalized treatment plans by considering individual patient characteristics, responses to medications, and lifestyle factors. This approach allows for more targeted and effective interventions, improving overall patient outcomes.\n",
    "\n",
    "    Remote Monitoring:\n",
    "        Wearable devices and remote monitoring solutions equipped with ML algorithms can continuously assess a person's vital signs and detect anomalies indicative of cardiovascular issues. This real-time monitoring can facilitate early intervention and reduce the risk of complications.\n",
    "\n",
    "    Rehabilitation and Lifestyle Management:\n",
    "        ML-based applications can provide personalized recommendations for lifestyle modifications, including diet and exercise plans. These applications can adapt and evolve based on the individual's progress, fostering long-term adherence to healthy habits.\n",
    "\n",
    "    Data-Driven Research and Drug Development:\n",
    "        Machine learning can accelerate research by analyzing large-scale genetic and clinical datasets to identify novel biomarkers, drug targets, and treatment strategies. This data-driven approach may lead to the development of more effective therapies for heart disease."
   ]
  },
  {
   "cell_type": "markdown",
   "id": "eb8733d1",
   "metadata": {
    "papermill": {
     "duration": 0.004213,
     "end_time": "2023-12-29T17:38:16.178900",
     "exception": false,
     "start_time": "2023-12-29T17:38:16.174687",
     "status": "completed"
    },
    "tags": []
   },
   "source": [
    "**While machine learning holds great promise in the fight against heart disease, its integration into healthcare requires careful consideration of ethical and privacy concerns. Collaboration between healthcare professionals, data scientists, and regulatory bodies is crucial to ensure the responsible and effective implementation of these technologies in the cardiovascular domain.**"
   ]
  },
  {
   "cell_type": "markdown",
   "id": "ac72bd2a",
   "metadata": {
    "papermill": {
     "duration": 0.004256,
     "end_time": "2023-12-29T17:38:16.187637",
     "exception": false,
     "start_time": "2023-12-29T17:38:16.183381",
     "status": "completed"
    },
    "tags": []
   },
   "source": []
  },
  {
   "cell_type": "markdown",
   "id": "ff64c5db",
   "metadata": {
    "papermill": {
     "duration": 0.004728,
     "end_time": "2023-12-29T17:38:16.197099",
     "exception": false,
     "start_time": "2023-12-29T17:38:16.192371",
     "status": "completed"
    },
    "tags": []
   },
   "source": []
  },
  {
   "cell_type": "markdown",
   "id": "736c7709",
   "metadata": {
    "papermill": {
     "duration": 0.00423,
     "end_time": "2023-12-29T17:38:16.206083",
     "exception": false,
     "start_time": "2023-12-29T17:38:16.201853",
     "status": "completed"
    },
    "tags": []
   },
   "source": []
  },
  {
   "cell_type": "code",
   "execution_count": 1,
   "id": "652e4131",
   "metadata": {
    "execution": {
     "iopub.execute_input": "2023-12-29T17:38:16.217503Z",
     "iopub.status.busy": "2023-12-29T17:38:16.216932Z",
     "iopub.status.idle": "2023-12-29T17:38:18.684290Z",
     "shell.execute_reply": "2023-12-29T17:38:18.683040Z"
    },
    "papermill": {
     "duration": 2.476148,
     "end_time": "2023-12-29T17:38:18.686753",
     "exception": false,
     "start_time": "2023-12-29T17:38:16.210605",
     "status": "completed"
    },
    "tags": []
   },
   "outputs": [],
   "source": [
    "from sklearn.model_selection import train_test_split\n",
    "from sklearn.linear_model import LogisticRegression\n",
    "from sklearn.metrics import accuracy_score\n",
    "import numpy as np # linear algebra\n",
    "import pandas as pd # data processing, CSV file I/O (e.g. pd.read_csv)"
   ]
  },
  {
   "cell_type": "code",
   "execution_count": 2,
   "id": "0cf7cde4",
   "metadata": {
    "execution": {
     "iopub.execute_input": "2023-12-29T17:38:18.698531Z",
     "iopub.status.busy": "2023-12-29T17:38:18.697778Z",
     "iopub.status.idle": "2023-12-29T17:38:18.719192Z",
     "shell.execute_reply": "2023-12-29T17:38:18.717264Z"
    },
    "papermill": {
     "duration": 0.030323,
     "end_time": "2023-12-29T17:38:18.722070",
     "exception": false,
     "start_time": "2023-12-29T17:38:18.691747",
     "status": "completed"
    },
    "tags": []
   },
   "outputs": [],
   "source": [
    "df = pd.read_csv('/kaggle/input/heart-disease/heart_disease_data.csv')"
   ]
  },
  {
   "cell_type": "code",
   "execution_count": 3,
   "id": "3f705773",
   "metadata": {
    "execution": {
     "iopub.execute_input": "2023-12-29T17:38:18.735387Z",
     "iopub.status.busy": "2023-12-29T17:38:18.734316Z",
     "iopub.status.idle": "2023-12-29T17:38:18.765682Z",
     "shell.execute_reply": "2023-12-29T17:38:18.764969Z"
    },
    "papermill": {
     "duration": 0.03899,
     "end_time": "2023-12-29T17:38:18.767456",
     "exception": false,
     "start_time": "2023-12-29T17:38:18.728466",
     "status": "completed"
    },
    "tags": []
   },
   "outputs": [
    {
     "data": {
      "text/html": [
       "<div>\n",
       "<style scoped>\n",
       "    .dataframe tbody tr th:only-of-type {\n",
       "        vertical-align: middle;\n",
       "    }\n",
       "\n",
       "    .dataframe tbody tr th {\n",
       "        vertical-align: top;\n",
       "    }\n",
       "\n",
       "    .dataframe thead th {\n",
       "        text-align: right;\n",
       "    }\n",
       "</style>\n",
       "<table border=\"1\" class=\"dataframe\">\n",
       "  <thead>\n",
       "    <tr style=\"text-align: right;\">\n",
       "      <th></th>\n",
       "      <th>age</th>\n",
       "      <th>sex</th>\n",
       "      <th>cp</th>\n",
       "      <th>trestbps</th>\n",
       "      <th>chol</th>\n",
       "      <th>fbs</th>\n",
       "      <th>restecg</th>\n",
       "      <th>thalach</th>\n",
       "      <th>exang</th>\n",
       "      <th>oldpeak</th>\n",
       "      <th>slope</th>\n",
       "      <th>ca</th>\n",
       "      <th>thal</th>\n",
       "      <th>target</th>\n",
       "    </tr>\n",
       "  </thead>\n",
       "  <tbody>\n",
       "    <tr>\n",
       "      <th>0</th>\n",
       "      <td>63</td>\n",
       "      <td>1</td>\n",
       "      <td>3</td>\n",
       "      <td>145</td>\n",
       "      <td>233</td>\n",
       "      <td>1</td>\n",
       "      <td>0</td>\n",
       "      <td>150</td>\n",
       "      <td>0</td>\n",
       "      <td>2.3</td>\n",
       "      <td>0</td>\n",
       "      <td>0</td>\n",
       "      <td>1</td>\n",
       "      <td>1</td>\n",
       "    </tr>\n",
       "    <tr>\n",
       "      <th>1</th>\n",
       "      <td>37</td>\n",
       "      <td>1</td>\n",
       "      <td>2</td>\n",
       "      <td>130</td>\n",
       "      <td>250</td>\n",
       "      <td>0</td>\n",
       "      <td>1</td>\n",
       "      <td>187</td>\n",
       "      <td>0</td>\n",
       "      <td>3.5</td>\n",
       "      <td>0</td>\n",
       "      <td>0</td>\n",
       "      <td>2</td>\n",
       "      <td>1</td>\n",
       "    </tr>\n",
       "    <tr>\n",
       "      <th>2</th>\n",
       "      <td>41</td>\n",
       "      <td>0</td>\n",
       "      <td>1</td>\n",
       "      <td>130</td>\n",
       "      <td>204</td>\n",
       "      <td>0</td>\n",
       "      <td>0</td>\n",
       "      <td>172</td>\n",
       "      <td>0</td>\n",
       "      <td>1.4</td>\n",
       "      <td>2</td>\n",
       "      <td>0</td>\n",
       "      <td>2</td>\n",
       "      <td>1</td>\n",
       "    </tr>\n",
       "    <tr>\n",
       "      <th>3</th>\n",
       "      <td>56</td>\n",
       "      <td>1</td>\n",
       "      <td>1</td>\n",
       "      <td>120</td>\n",
       "      <td>236</td>\n",
       "      <td>0</td>\n",
       "      <td>1</td>\n",
       "      <td>178</td>\n",
       "      <td>0</td>\n",
       "      <td>0.8</td>\n",
       "      <td>2</td>\n",
       "      <td>0</td>\n",
       "      <td>2</td>\n",
       "      <td>1</td>\n",
       "    </tr>\n",
       "    <tr>\n",
       "      <th>4</th>\n",
       "      <td>57</td>\n",
       "      <td>0</td>\n",
       "      <td>0</td>\n",
       "      <td>120</td>\n",
       "      <td>354</td>\n",
       "      <td>0</td>\n",
       "      <td>1</td>\n",
       "      <td>163</td>\n",
       "      <td>1</td>\n",
       "      <td>0.6</td>\n",
       "      <td>2</td>\n",
       "      <td>0</td>\n",
       "      <td>2</td>\n",
       "      <td>1</td>\n",
       "    </tr>\n",
       "  </tbody>\n",
       "</table>\n",
       "</div>"
      ],
      "text/plain": [
       "   age  sex  cp  trestbps  chol  fbs  restecg  thalach  exang  oldpeak  slope  \\\n",
       "0   63    1   3       145   233    1        0      150      0      2.3      0   \n",
       "1   37    1   2       130   250    0        1      187      0      3.5      0   \n",
       "2   41    0   1       130   204    0        0      172      0      1.4      2   \n",
       "3   56    1   1       120   236    0        1      178      0      0.8      2   \n",
       "4   57    0   0       120   354    0        1      163      1      0.6      2   \n",
       "\n",
       "   ca  thal  target  \n",
       "0   0     1       1  \n",
       "1   0     2       1  \n",
       "2   0     2       1  \n",
       "3   0     2       1  \n",
       "4   0     2       1  "
      ]
     },
     "execution_count": 3,
     "metadata": {},
     "output_type": "execute_result"
    }
   ],
   "source": [
    "df.head()"
   ]
  },
  {
   "cell_type": "code",
   "execution_count": 4,
   "id": "fae46a3c",
   "metadata": {
    "execution": {
     "iopub.execute_input": "2023-12-29T17:38:18.782051Z",
     "iopub.status.busy": "2023-12-29T17:38:18.781315Z",
     "iopub.status.idle": "2023-12-29T17:38:18.790055Z",
     "shell.execute_reply": "2023-12-29T17:38:18.788726Z"
    },
    "papermill": {
     "duration": 0.018071,
     "end_time": "2023-12-29T17:38:18.792016",
     "exception": false,
     "start_time": "2023-12-29T17:38:18.773945",
     "status": "completed"
    },
    "tags": []
   },
   "outputs": [
    {
     "data": {
      "text/plain": [
       "(303, 14)"
      ]
     },
     "execution_count": 4,
     "metadata": {},
     "output_type": "execute_result"
    }
   ],
   "source": [
    "df.shape"
   ]
  },
  {
   "cell_type": "code",
   "execution_count": 5,
   "id": "71dac820",
   "metadata": {
    "execution": {
     "iopub.execute_input": "2023-12-29T17:38:18.805320Z",
     "iopub.status.busy": "2023-12-29T17:38:18.804730Z",
     "iopub.status.idle": "2023-12-29T17:38:18.926067Z",
     "shell.execute_reply": "2023-12-29T17:38:18.925187Z"
    },
    "papermill": {
     "duration": 0.130235,
     "end_time": "2023-12-29T17:38:18.927801",
     "exception": false,
     "start_time": "2023-12-29T17:38:18.797566",
     "status": "completed"
    },
    "tags": []
   },
   "outputs": [
    {
     "data": {
      "text/html": [
       "<div>\n",
       "<style scoped>\n",
       "    .dataframe tbody tr th:only-of-type {\n",
       "        vertical-align: middle;\n",
       "    }\n",
       "\n",
       "    .dataframe tbody tr th {\n",
       "        vertical-align: top;\n",
       "    }\n",
       "\n",
       "    .dataframe thead th {\n",
       "        text-align: right;\n",
       "    }\n",
       "</style>\n",
       "<table border=\"1\" class=\"dataframe\">\n",
       "  <thead>\n",
       "    <tr style=\"text-align: right;\">\n",
       "      <th></th>\n",
       "      <th>age</th>\n",
       "      <th>sex</th>\n",
       "      <th>cp</th>\n",
       "      <th>trestbps</th>\n",
       "      <th>chol</th>\n",
       "      <th>fbs</th>\n",
       "      <th>restecg</th>\n",
       "      <th>thalach</th>\n",
       "      <th>exang</th>\n",
       "      <th>oldpeak</th>\n",
       "      <th>slope</th>\n",
       "      <th>ca</th>\n",
       "      <th>thal</th>\n",
       "      <th>target</th>\n",
       "    </tr>\n",
       "  </thead>\n",
       "  <tbody>\n",
       "    <tr>\n",
       "      <th>count</th>\n",
       "      <td>303.000000</td>\n",
       "      <td>303.000000</td>\n",
       "      <td>303.000000</td>\n",
       "      <td>303.000000</td>\n",
       "      <td>303.000000</td>\n",
       "      <td>303.000000</td>\n",
       "      <td>303.000000</td>\n",
       "      <td>303.000000</td>\n",
       "      <td>303.000000</td>\n",
       "      <td>303.000000</td>\n",
       "      <td>303.000000</td>\n",
       "      <td>303.000000</td>\n",
       "      <td>303.000000</td>\n",
       "      <td>303.000000</td>\n",
       "    </tr>\n",
       "    <tr>\n",
       "      <th>mean</th>\n",
       "      <td>54.366337</td>\n",
       "      <td>0.683168</td>\n",
       "      <td>0.966997</td>\n",
       "      <td>131.623762</td>\n",
       "      <td>246.264026</td>\n",
       "      <td>0.148515</td>\n",
       "      <td>0.528053</td>\n",
       "      <td>149.646865</td>\n",
       "      <td>0.326733</td>\n",
       "      <td>1.039604</td>\n",
       "      <td>1.399340</td>\n",
       "      <td>0.729373</td>\n",
       "      <td>2.313531</td>\n",
       "      <td>0.544554</td>\n",
       "    </tr>\n",
       "    <tr>\n",
       "      <th>std</th>\n",
       "      <td>9.082101</td>\n",
       "      <td>0.466011</td>\n",
       "      <td>1.032052</td>\n",
       "      <td>17.538143</td>\n",
       "      <td>51.830751</td>\n",
       "      <td>0.356198</td>\n",
       "      <td>0.525860</td>\n",
       "      <td>22.905161</td>\n",
       "      <td>0.469794</td>\n",
       "      <td>1.161075</td>\n",
       "      <td>0.616226</td>\n",
       "      <td>1.022606</td>\n",
       "      <td>0.612277</td>\n",
       "      <td>0.498835</td>\n",
       "    </tr>\n",
       "    <tr>\n",
       "      <th>min</th>\n",
       "      <td>29.000000</td>\n",
       "      <td>0.000000</td>\n",
       "      <td>0.000000</td>\n",
       "      <td>94.000000</td>\n",
       "      <td>126.000000</td>\n",
       "      <td>0.000000</td>\n",
       "      <td>0.000000</td>\n",
       "      <td>71.000000</td>\n",
       "      <td>0.000000</td>\n",
       "      <td>0.000000</td>\n",
       "      <td>0.000000</td>\n",
       "      <td>0.000000</td>\n",
       "      <td>0.000000</td>\n",
       "      <td>0.000000</td>\n",
       "    </tr>\n",
       "    <tr>\n",
       "      <th>25%</th>\n",
       "      <td>47.500000</td>\n",
       "      <td>0.000000</td>\n",
       "      <td>0.000000</td>\n",
       "      <td>120.000000</td>\n",
       "      <td>211.000000</td>\n",
       "      <td>0.000000</td>\n",
       "      <td>0.000000</td>\n",
       "      <td>133.500000</td>\n",
       "      <td>0.000000</td>\n",
       "      <td>0.000000</td>\n",
       "      <td>1.000000</td>\n",
       "      <td>0.000000</td>\n",
       "      <td>2.000000</td>\n",
       "      <td>0.000000</td>\n",
       "    </tr>\n",
       "    <tr>\n",
       "      <th>50%</th>\n",
       "      <td>55.000000</td>\n",
       "      <td>1.000000</td>\n",
       "      <td>1.000000</td>\n",
       "      <td>130.000000</td>\n",
       "      <td>240.000000</td>\n",
       "      <td>0.000000</td>\n",
       "      <td>1.000000</td>\n",
       "      <td>153.000000</td>\n",
       "      <td>0.000000</td>\n",
       "      <td>0.800000</td>\n",
       "      <td>1.000000</td>\n",
       "      <td>0.000000</td>\n",
       "      <td>2.000000</td>\n",
       "      <td>1.000000</td>\n",
       "    </tr>\n",
       "    <tr>\n",
       "      <th>75%</th>\n",
       "      <td>61.000000</td>\n",
       "      <td>1.000000</td>\n",
       "      <td>2.000000</td>\n",
       "      <td>140.000000</td>\n",
       "      <td>274.500000</td>\n",
       "      <td>0.000000</td>\n",
       "      <td>1.000000</td>\n",
       "      <td>166.000000</td>\n",
       "      <td>1.000000</td>\n",
       "      <td>1.600000</td>\n",
       "      <td>2.000000</td>\n",
       "      <td>1.000000</td>\n",
       "      <td>3.000000</td>\n",
       "      <td>1.000000</td>\n",
       "    </tr>\n",
       "    <tr>\n",
       "      <th>max</th>\n",
       "      <td>77.000000</td>\n",
       "      <td>1.000000</td>\n",
       "      <td>3.000000</td>\n",
       "      <td>200.000000</td>\n",
       "      <td>564.000000</td>\n",
       "      <td>1.000000</td>\n",
       "      <td>2.000000</td>\n",
       "      <td>202.000000</td>\n",
       "      <td>1.000000</td>\n",
       "      <td>6.200000</td>\n",
       "      <td>2.000000</td>\n",
       "      <td>4.000000</td>\n",
       "      <td>3.000000</td>\n",
       "      <td>1.000000</td>\n",
       "    </tr>\n",
       "  </tbody>\n",
       "</table>\n",
       "</div>"
      ],
      "text/plain": [
       "              age         sex          cp    trestbps        chol         fbs  \\\n",
       "count  303.000000  303.000000  303.000000  303.000000  303.000000  303.000000   \n",
       "mean    54.366337    0.683168    0.966997  131.623762  246.264026    0.148515   \n",
       "std      9.082101    0.466011    1.032052   17.538143   51.830751    0.356198   \n",
       "min     29.000000    0.000000    0.000000   94.000000  126.000000    0.000000   \n",
       "25%     47.500000    0.000000    0.000000  120.000000  211.000000    0.000000   \n",
       "50%     55.000000    1.000000    1.000000  130.000000  240.000000    0.000000   \n",
       "75%     61.000000    1.000000    2.000000  140.000000  274.500000    0.000000   \n",
       "max     77.000000    1.000000    3.000000  200.000000  564.000000    1.000000   \n",
       "\n",
       "          restecg     thalach       exang     oldpeak       slope          ca  \\\n",
       "count  303.000000  303.000000  303.000000  303.000000  303.000000  303.000000   \n",
       "mean     0.528053  149.646865    0.326733    1.039604    1.399340    0.729373   \n",
       "std      0.525860   22.905161    0.469794    1.161075    0.616226    1.022606   \n",
       "min      0.000000   71.000000    0.000000    0.000000    0.000000    0.000000   \n",
       "25%      0.000000  133.500000    0.000000    0.000000    1.000000    0.000000   \n",
       "50%      1.000000  153.000000    0.000000    0.800000    1.000000    0.000000   \n",
       "75%      1.000000  166.000000    1.000000    1.600000    2.000000    1.000000   \n",
       "max      2.000000  202.000000    1.000000    6.200000    2.000000    4.000000   \n",
       "\n",
       "             thal      target  \n",
       "count  303.000000  303.000000  \n",
       "mean     2.313531    0.544554  \n",
       "std      0.612277    0.498835  \n",
       "min      0.000000    0.000000  \n",
       "25%      2.000000    0.000000  \n",
       "50%      2.000000    1.000000  \n",
       "75%      3.000000    1.000000  \n",
       "max      3.000000    1.000000  "
      ]
     },
     "execution_count": 5,
     "metadata": {},
     "output_type": "execute_result"
    }
   ],
   "source": [
    "df.describe()"
   ]
  },
  {
   "cell_type": "code",
   "execution_count": 6,
   "id": "b418349b",
   "metadata": {
    "execution": {
     "iopub.execute_input": "2023-12-29T17:38:18.939993Z",
     "iopub.status.busy": "2023-12-29T17:38:18.939141Z",
     "iopub.status.idle": "2023-12-29T17:38:18.964839Z",
     "shell.execute_reply": "2023-12-29T17:38:18.963737Z"
    },
    "papermill": {
     "duration": 0.03523,
     "end_time": "2023-12-29T17:38:18.968161",
     "exception": false,
     "start_time": "2023-12-29T17:38:18.932931",
     "status": "completed"
    },
    "tags": []
   },
   "outputs": [
    {
     "name": "stdout",
     "output_type": "stream",
     "text": [
      "<class 'pandas.core.frame.DataFrame'>\n",
      "RangeIndex: 303 entries, 0 to 302\n",
      "Data columns (total 14 columns):\n",
      " #   Column    Non-Null Count  Dtype  \n",
      "---  ------    --------------  -----  \n",
      " 0   age       303 non-null    int64  \n",
      " 1   sex       303 non-null    int64  \n",
      " 2   cp        303 non-null    int64  \n",
      " 3   trestbps  303 non-null    int64  \n",
      " 4   chol      303 non-null    int64  \n",
      " 5   fbs       303 non-null    int64  \n",
      " 6   restecg   303 non-null    int64  \n",
      " 7   thalach   303 non-null    int64  \n",
      " 8   exang     303 non-null    int64  \n",
      " 9   oldpeak   303 non-null    float64\n",
      " 10  slope     303 non-null    int64  \n",
      " 11  ca        303 non-null    int64  \n",
      " 12  thal      303 non-null    int64  \n",
      " 13  target    303 non-null    int64  \n",
      "dtypes: float64(1), int64(13)\n",
      "memory usage: 33.3 KB\n"
     ]
    }
   ],
   "source": [
    "df.info()"
   ]
  },
  {
   "cell_type": "code",
   "execution_count": 7,
   "id": "b54043ae",
   "metadata": {
    "execution": {
     "iopub.execute_input": "2023-12-29T17:38:18.981402Z",
     "iopub.status.busy": "2023-12-29T17:38:18.981041Z",
     "iopub.status.idle": "2023-12-29T17:38:18.989594Z",
     "shell.execute_reply": "2023-12-29T17:38:18.988274Z"
    },
    "papermill": {
     "duration": 0.018374,
     "end_time": "2023-12-29T17:38:18.992034",
     "exception": false,
     "start_time": "2023-12-29T17:38:18.973660",
     "status": "completed"
    },
    "tags": []
   },
   "outputs": [
    {
     "data": {
      "text/plain": [
       "age         0\n",
       "sex         0\n",
       "cp          0\n",
       "trestbps    0\n",
       "chol        0\n",
       "fbs         0\n",
       "restecg     0\n",
       "thalach     0\n",
       "exang       0\n",
       "oldpeak     0\n",
       "slope       0\n",
       "ca          0\n",
       "thal        0\n",
       "target      0\n",
       "dtype: int64"
      ]
     },
     "execution_count": 7,
     "metadata": {},
     "output_type": "execute_result"
    }
   ],
   "source": [
    "df.isna().sum()"
   ]
  },
  {
   "cell_type": "code",
   "execution_count": 8,
   "id": "f6397b7d",
   "metadata": {
    "execution": {
     "iopub.execute_input": "2023-12-29T17:38:19.005142Z",
     "iopub.status.busy": "2023-12-29T17:38:19.004807Z",
     "iopub.status.idle": "2023-12-29T17:38:19.013721Z",
     "shell.execute_reply": "2023-12-29T17:38:19.011962Z"
    },
    "papermill": {
     "duration": 0.018315,
     "end_time": "2023-12-29T17:38:19.016190",
     "exception": false,
     "start_time": "2023-12-29T17:38:18.997875",
     "status": "completed"
    },
    "tags": []
   },
   "outputs": [
    {
     "data": {
      "text/plain": [
       "target\n",
       "1    165\n",
       "0    138\n",
       "Name: count, dtype: int64"
      ]
     },
     "execution_count": 8,
     "metadata": {},
     "output_type": "execute_result"
    }
   ],
   "source": [
    "df['target'].value_counts()"
   ]
  },
  {
   "cell_type": "code",
   "execution_count": 9,
   "id": "d3c5c76d",
   "metadata": {
    "execution": {
     "iopub.execute_input": "2023-12-29T17:38:19.029237Z",
     "iopub.status.busy": "2023-12-29T17:38:19.028868Z",
     "iopub.status.idle": "2023-12-29T17:38:19.040049Z",
     "shell.execute_reply": "2023-12-29T17:38:19.038424Z"
    },
    "papermill": {
     "duration": 0.020501,
     "end_time": "2023-12-29T17:38:19.042515",
     "exception": false,
     "start_time": "2023-12-29T17:38:19.022014",
     "status": "completed"
    },
    "tags": []
   },
   "outputs": [],
   "source": [
    "x = df.drop('target',axis=1)\n",
    "y =df['target']"
   ]
  },
  {
   "cell_type": "code",
   "execution_count": 10,
   "id": "3ee73683",
   "metadata": {
    "execution": {
     "iopub.execute_input": "2023-12-29T17:38:19.057425Z",
     "iopub.status.busy": "2023-12-29T17:38:19.057002Z",
     "iopub.status.idle": "2023-12-29T17:38:19.066363Z",
     "shell.execute_reply": "2023-12-29T17:38:19.065362Z"
    },
    "papermill": {
     "duration": 0.020222,
     "end_time": "2023-12-29T17:38:19.068873",
     "exception": false,
     "start_time": "2023-12-29T17:38:19.048651",
     "status": "completed"
    },
    "tags": []
   },
   "outputs": [],
   "source": [
    "x_train,x_test,y_train,y_test=train_test_split(x,y,test_size=.2,random_state=100)"
   ]
  },
  {
   "cell_type": "code",
   "execution_count": 11,
   "id": "15eb1eed",
   "metadata": {
    "execution": {
     "iopub.execute_input": "2023-12-29T17:38:19.085732Z",
     "iopub.status.busy": "2023-12-29T17:38:19.085321Z",
     "iopub.status.idle": "2023-12-29T17:38:19.089758Z",
     "shell.execute_reply": "2023-12-29T17:38:19.088998Z"
    },
    "papermill": {
     "duration": 0.014259,
     "end_time": "2023-12-29T17:38:19.091404",
     "exception": false,
     "start_time": "2023-12-29T17:38:19.077145",
     "status": "completed"
    },
    "tags": []
   },
   "outputs": [],
   "source": [
    "model = LogisticRegression()"
   ]
  },
  {
   "cell_type": "code",
   "execution_count": 12,
   "id": "d9db00de",
   "metadata": {
    "execution": {
     "iopub.execute_input": "2023-12-29T17:38:19.104467Z",
     "iopub.status.busy": "2023-12-29T17:38:19.104128Z",
     "iopub.status.idle": "2023-12-29T17:38:19.151675Z",
     "shell.execute_reply": "2023-12-29T17:38:19.149894Z"
    },
    "papermill": {
     "duration": 0.057388,
     "end_time": "2023-12-29T17:38:19.154458",
     "exception": false,
     "start_time": "2023-12-29T17:38:19.097070",
     "status": "completed"
    },
    "tags": []
   },
   "outputs": [
    {
     "name": "stderr",
     "output_type": "stream",
     "text": [
      "/opt/conda/lib/python3.10/site-packages/sklearn/linear_model/_logistic.py:458: ConvergenceWarning: lbfgs failed to converge (status=1):\n",
      "STOP: TOTAL NO. of ITERATIONS REACHED LIMIT.\n",
      "\n",
      "Increase the number of iterations (max_iter) or scale the data as shown in:\n",
      "    https://scikit-learn.org/stable/modules/preprocessing.html\n",
      "Please also refer to the documentation for alternative solver options:\n",
      "    https://scikit-learn.org/stable/modules/linear_model.html#logistic-regression\n",
      "  n_iter_i = _check_optimize_result(\n"
     ]
    },
    {
     "data": {
      "text/html": [
       "<style>#sk-container-id-1 {color: black;background-color: white;}#sk-container-id-1 pre{padding: 0;}#sk-container-id-1 div.sk-toggleable {background-color: white;}#sk-container-id-1 label.sk-toggleable__label {cursor: pointer;display: block;width: 100%;margin-bottom: 0;padding: 0.3em;box-sizing: border-box;text-align: center;}#sk-container-id-1 label.sk-toggleable__label-arrow:before {content: \"▸\";float: left;margin-right: 0.25em;color: #696969;}#sk-container-id-1 label.sk-toggleable__label-arrow:hover:before {color: black;}#sk-container-id-1 div.sk-estimator:hover label.sk-toggleable__label-arrow:before {color: black;}#sk-container-id-1 div.sk-toggleable__content {max-height: 0;max-width: 0;overflow: hidden;text-align: left;background-color: #f0f8ff;}#sk-container-id-1 div.sk-toggleable__content pre {margin: 0.2em;color: black;border-radius: 0.25em;background-color: #f0f8ff;}#sk-container-id-1 input.sk-toggleable__control:checked~div.sk-toggleable__content {max-height: 200px;max-width: 100%;overflow: auto;}#sk-container-id-1 input.sk-toggleable__control:checked~label.sk-toggleable__label-arrow:before {content: \"▾\";}#sk-container-id-1 div.sk-estimator input.sk-toggleable__control:checked~label.sk-toggleable__label {background-color: #d4ebff;}#sk-container-id-1 div.sk-label input.sk-toggleable__control:checked~label.sk-toggleable__label {background-color: #d4ebff;}#sk-container-id-1 input.sk-hidden--visually {border: 0;clip: rect(1px 1px 1px 1px);clip: rect(1px, 1px, 1px, 1px);height: 1px;margin: -1px;overflow: hidden;padding: 0;position: absolute;width: 1px;}#sk-container-id-1 div.sk-estimator {font-family: monospace;background-color: #f0f8ff;border: 1px dotted black;border-radius: 0.25em;box-sizing: border-box;margin-bottom: 0.5em;}#sk-container-id-1 div.sk-estimator:hover {background-color: #d4ebff;}#sk-container-id-1 div.sk-parallel-item::after {content: \"\";width: 100%;border-bottom: 1px solid gray;flex-grow: 1;}#sk-container-id-1 div.sk-label:hover label.sk-toggleable__label {background-color: #d4ebff;}#sk-container-id-1 div.sk-serial::before {content: \"\";position: absolute;border-left: 1px solid gray;box-sizing: border-box;top: 0;bottom: 0;left: 50%;z-index: 0;}#sk-container-id-1 div.sk-serial {display: flex;flex-direction: column;align-items: center;background-color: white;padding-right: 0.2em;padding-left: 0.2em;position: relative;}#sk-container-id-1 div.sk-item {position: relative;z-index: 1;}#sk-container-id-1 div.sk-parallel {display: flex;align-items: stretch;justify-content: center;background-color: white;position: relative;}#sk-container-id-1 div.sk-item::before, #sk-container-id-1 div.sk-parallel-item::before {content: \"\";position: absolute;border-left: 1px solid gray;box-sizing: border-box;top: 0;bottom: 0;left: 50%;z-index: -1;}#sk-container-id-1 div.sk-parallel-item {display: flex;flex-direction: column;z-index: 1;position: relative;background-color: white;}#sk-container-id-1 div.sk-parallel-item:first-child::after {align-self: flex-end;width: 50%;}#sk-container-id-1 div.sk-parallel-item:last-child::after {align-self: flex-start;width: 50%;}#sk-container-id-1 div.sk-parallel-item:only-child::after {width: 0;}#sk-container-id-1 div.sk-dashed-wrapped {border: 1px dashed gray;margin: 0 0.4em 0.5em 0.4em;box-sizing: border-box;padding-bottom: 0.4em;background-color: white;}#sk-container-id-1 div.sk-label label {font-family: monospace;font-weight: bold;display: inline-block;line-height: 1.2em;}#sk-container-id-1 div.sk-label-container {text-align: center;}#sk-container-id-1 div.sk-container {/* jupyter's `normalize.less` sets `[hidden] { display: none; }` but bootstrap.min.css set `[hidden] { display: none !important; }` so we also need the `!important` here to be able to override the default hidden behavior on the sphinx rendered scikit-learn.org. See: https://github.com/scikit-learn/scikit-learn/issues/21755 */display: inline-block !important;position: relative;}#sk-container-id-1 div.sk-text-repr-fallback {display: none;}</style><div id=\"sk-container-id-1\" class=\"sk-top-container\"><div class=\"sk-text-repr-fallback\"><pre>LogisticRegression()</pre><b>In a Jupyter environment, please rerun this cell to show the HTML representation or trust the notebook. <br />On GitHub, the HTML representation is unable to render, please try loading this page with nbviewer.org.</b></div><div class=\"sk-container\" hidden><div class=\"sk-item\"><div class=\"sk-estimator sk-toggleable\"><input class=\"sk-toggleable__control sk-hidden--visually\" id=\"sk-estimator-id-1\" type=\"checkbox\" checked><label for=\"sk-estimator-id-1\" class=\"sk-toggleable__label sk-toggleable__label-arrow\">LogisticRegression</label><div class=\"sk-toggleable__content\"><pre>LogisticRegression()</pre></div></div></div></div></div>"
      ],
      "text/plain": [
       "LogisticRegression()"
      ]
     },
     "execution_count": 12,
     "metadata": {},
     "output_type": "execute_result"
    }
   ],
   "source": [
    "model.fit(x_train,y_train)"
   ]
  },
  {
   "cell_type": "code",
   "execution_count": 13,
   "id": "8823ffee",
   "metadata": {
    "execution": {
     "iopub.execute_input": "2023-12-29T17:38:19.168368Z",
     "iopub.status.busy": "2023-12-29T17:38:19.168042Z",
     "iopub.status.idle": "2023-12-29T17:38:19.178757Z",
     "shell.execute_reply": "2023-12-29T17:38:19.177354Z"
    },
    "papermill": {
     "duration": 0.020246,
     "end_time": "2023-12-29T17:38:19.181053",
     "exception": false,
     "start_time": "2023-12-29T17:38:19.160807",
     "status": "completed"
    },
    "tags": []
   },
   "outputs": [
    {
     "data": {
      "text/plain": [
       "0.8636363636363636"
      ]
     },
     "execution_count": 13,
     "metadata": {},
     "output_type": "execute_result"
    }
   ],
   "source": [
    "x_train_pred=model.predict(x_train)\n",
    "train_acc=accuracy_score(x_train_pred,y_train)\n",
    "train_acc"
   ]
  },
  {
   "cell_type": "code",
   "execution_count": 14,
   "id": "0691fc36",
   "metadata": {
    "execution": {
     "iopub.execute_input": "2023-12-29T17:38:19.194837Z",
     "iopub.status.busy": "2023-12-29T17:38:19.194468Z",
     "iopub.status.idle": "2023-12-29T17:38:19.206148Z",
     "shell.execute_reply": "2023-12-29T17:38:19.204528Z"
    },
    "papermill": {
     "duration": 0.021887,
     "end_time": "2023-12-29T17:38:19.208899",
     "exception": false,
     "start_time": "2023-12-29T17:38:19.187012",
     "status": "completed"
    },
    "tags": []
   },
   "outputs": [
    {
     "data": {
      "text/plain": [
       "0.8524590163934426"
      ]
     },
     "execution_count": 14,
     "metadata": {},
     "output_type": "execute_result"
    }
   ],
   "source": [
    " x_test_pred=model.predict(x_test)\n",
    "test_acc=accuracy_score(x_test_pred,y_test)\n",
    "test_acc"
   ]
  },
  {
   "cell_type": "code",
   "execution_count": null,
   "id": "8fb40464",
   "metadata": {
    "papermill": {
     "duration": 0.005763,
     "end_time": "2023-12-29T17:38:19.221356",
     "exception": false,
     "start_time": "2023-12-29T17:38:19.215593",
     "status": "completed"
    },
    "tags": []
   },
   "outputs": [],
   "source": []
  }
 ],
 "metadata": {
  "kaggle": {
   "accelerator": "none",
   "dataSources": [
    {
     "datasetId": 3748715,
     "sourceId": 6487606,
     "sourceType": "datasetVersion"
    }
   ],
   "dockerImageVersionId": 30558,
   "isGpuEnabled": false,
   "isInternetEnabled": true,
   "language": "python",
   "sourceType": "notebook"
  },
  "kernelspec": {
   "display_name": "Python 3",
   "language": "python",
   "name": "python3"
  },
  "language_info": {
   "codemirror_mode": {
    "name": "ipython",
    "version": 3
   },
   "file_extension": ".py",
   "mimetype": "text/x-python",
   "name": "python",
   "nbconvert_exporter": "python",
   "pygments_lexer": "ipython3",
   "version": "3.10.12"
  },
  "papermill": {
   "default_parameters": {},
   "duration": 7.466136,
   "end_time": "2023-12-29T17:38:19.749426",
   "environment_variables": {},
   "exception": null,
   "input_path": "__notebook__.ipynb",
   "output_path": "__notebook__.ipynb",
   "parameters": {},
   "start_time": "2023-12-29T17:38:12.283290",
   "version": "2.4.0"
  }
 },
 "nbformat": 4,
 "nbformat_minor": 5
}
