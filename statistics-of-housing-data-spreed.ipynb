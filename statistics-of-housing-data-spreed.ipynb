{
 "cells": [
  {
   "cell_type": "markdown",
   "id": "4866f83b",
   "metadata": {
    "papermill": {
     "duration": 0.006958,
     "end_time": "2023-12-28T17:45:27.542191",
     "exception": false,
     "start_time": "2023-12-28T17:45:27.535233",
     "status": "completed"
    },
    "tags": []
   },
   "source": []
  },
  {
   "cell_type": "markdown",
   "id": "b41255a3",
   "metadata": {
    "papermill": {
     "duration": 0.006099,
     "end_time": "2023-12-28T17:45:27.554832",
     "exception": false,
     "start_time": "2023-12-28T17:45:27.548733",
     "status": "completed"
    },
    "tags": []
   },
   "source": [
    "## Mean (Average): The mean is the sum of all values in a dataset divided by the number of values. It is a measure of central tendency that gives you an idea of the average value. To calculate the mean, you add up all the values and then divide by the total number of values."
   ]
  },
  {
   "cell_type": "markdown",
   "id": "064695f3",
   "metadata": {
    "papermill": {
     "duration": 0.006156,
     "end_time": "2023-12-28T17:45:27.567273",
     "exception": false,
     "start_time": "2023-12-28T17:45:27.561117",
     "status": "completed"
    },
    "tags": []
   },
   "source": [
    "**Example: For the dataset {2, 4, 6, 8, 10}, the mean is (2 + 4 + 6 + 8 + 10) / 5 = 6.**"
   ]
  },
  {
   "cell_type": "markdown",
   "id": "6cc0ee47",
   "metadata": {
    "papermill": {
     "duration": 0.006352,
     "end_time": "2023-12-28T17:45:27.579940",
     "exception": false,
     "start_time": "2023-12-28T17:45:27.573588",
     "status": "completed"
    },
    "tags": []
   },
   "source": []
  },
  {
   "cell_type": "markdown",
   "id": "719b7f57",
   "metadata": {
    "papermill": {
     "duration": 0.006161,
     "end_time": "2023-12-28T17:45:27.592459",
     "exception": false,
     "start_time": "2023-12-28T17:45:27.586298",
     "status": "completed"
    },
    "tags": []
   },
   "source": [
    "## Median: The median is the middle value in a dataset when it is ordered from least to greatest. If there is an even number of observations, the median is the average of the two middle values. The median is less sensitive to extreme values than the mean."
   ]
  },
  {
   "cell_type": "markdown",
   "id": "2c7b2f43",
   "metadata": {
    "papermill": {
     "duration": 0.006137,
     "end_time": "2023-12-28T17:45:27.604917",
     "exception": false,
     "start_time": "2023-12-28T17:45:27.598780",
     "status": "completed"
    },
    "tags": []
   },
   "source": [
    "**Example: For the dataset {3, 1, 7, 5, 9}, when ordered it becomes {1, 3, 5, 7, 9}, and the median is 5.**"
   ]
  },
  {
   "cell_type": "markdown",
   "id": "c93af18b",
   "metadata": {
    "papermill": {
     "duration": 0.006126,
     "end_time": "2023-12-28T17:45:27.617346",
     "exception": false,
     "start_time": "2023-12-28T17:45:27.611220",
     "status": "completed"
    },
    "tags": []
   },
   "source": [
    "## Mode: The mode is the value that appears most frequently in a dataset. A dataset may have no mode (if all values are distinct), one mode (if one value appears most frequently), or multiple modes (if multiple values have the same highest frequency)."
   ]
  },
  {
   "cell_type": "markdown",
   "id": "75df1b44",
   "metadata": {
    "papermill": {
     "duration": 0.006484,
     "end_time": "2023-12-28T17:45:27.630197",
     "exception": false,
     "start_time": "2023-12-28T17:45:27.623713",
     "status": "completed"
    },
    "tags": []
   },
   "source": [
    "**Example: For the dataset {3, 1, 5, 3, 7, 5, 3}, the mode is 3 because it appears most frequently.**"
   ]
  },
  {
   "cell_type": "markdown",
   "id": "9721a49e",
   "metadata": {
    "papermill": {
     "duration": 0.006098,
     "end_time": "2023-12-28T17:45:27.642841",
     "exception": false,
     "start_time": "2023-12-28T17:45:27.636743",
     "status": "completed"
    },
    "tags": []
   },
   "source": []
  },
  {
   "cell_type": "code",
   "execution_count": 1,
   "id": "e8029d5c",
   "metadata": {
    "execution": {
     "iopub.execute_input": "2023-12-28T17:45:27.657392Z",
     "iopub.status.busy": "2023-12-28T17:45:27.656946Z",
     "iopub.status.idle": "2023-12-28T17:45:28.461622Z",
     "shell.execute_reply": "2023-12-28T17:45:28.460549Z"
    },
    "papermill": {
     "duration": 0.814787,
     "end_time": "2023-12-28T17:45:28.464002",
     "exception": false,
     "start_time": "2023-12-28T17:45:27.649215",
     "status": "completed"
    },
    "tags": []
   },
   "outputs": [],
   "source": [
    "import pandas as pd\n",
    "import numpy as np"
   ]
  },
  {
   "cell_type": "markdown",
   "id": "f6aaa6db",
   "metadata": {
    "papermill": {
     "duration": 0.006163,
     "end_time": "2023-12-28T17:45:28.476627",
     "exception": false,
     "start_time": "2023-12-28T17:45:28.470464",
     "status": "completed"
    },
    "tags": []
   },
   "source": []
  },
  {
   "cell_type": "code",
   "execution_count": 2,
   "id": "34f61a54",
   "metadata": {
    "execution": {
     "iopub.execute_input": "2023-12-28T17:45:28.491190Z",
     "iopub.status.busy": "2023-12-28T17:45:28.490344Z",
     "iopub.status.idle": "2023-12-28T17:45:28.593335Z",
     "shell.execute_reply": "2023-12-28T17:45:28.592267Z"
    },
    "papermill": {
     "duration": 0.113018,
     "end_time": "2023-12-28T17:45:28.595872",
     "exception": false,
     "start_time": "2023-12-28T17:45:28.482854",
     "status": "completed"
    },
    "tags": []
   },
   "outputs": [],
   "source": [
    "df = pd.read_csv('/kaggle/input/melbourne-housing-snapshot/melb_data.csv')"
   ]
  },
  {
   "cell_type": "code",
   "execution_count": 3,
   "id": "1fa727e2",
   "metadata": {
    "execution": {
     "iopub.execute_input": "2023-12-28T17:45:28.610667Z",
     "iopub.status.busy": "2023-12-28T17:45:28.610288Z",
     "iopub.status.idle": "2023-12-28T17:45:28.649879Z",
     "shell.execute_reply": "2023-12-28T17:45:28.648822Z"
    },
    "papermill": {
     "duration": 0.049638,
     "end_time": "2023-12-28T17:45:28.652233",
     "exception": false,
     "start_time": "2023-12-28T17:45:28.602595",
     "status": "completed"
    },
    "tags": []
   },
   "outputs": [
    {
     "data": {
      "text/html": [
       "<div>\n",
       "<style scoped>\n",
       "    .dataframe tbody tr th:only-of-type {\n",
       "        vertical-align: middle;\n",
       "    }\n",
       "\n",
       "    .dataframe tbody tr th {\n",
       "        vertical-align: top;\n",
       "    }\n",
       "\n",
       "    .dataframe thead th {\n",
       "        text-align: right;\n",
       "    }\n",
       "</style>\n",
       "<table border=\"1\" class=\"dataframe\">\n",
       "  <thead>\n",
       "    <tr style=\"text-align: right;\">\n",
       "      <th></th>\n",
       "      <th>Suburb</th>\n",
       "      <th>Address</th>\n",
       "      <th>Rooms</th>\n",
       "      <th>Type</th>\n",
       "      <th>Price</th>\n",
       "      <th>Method</th>\n",
       "      <th>SellerG</th>\n",
       "      <th>Date</th>\n",
       "      <th>Distance</th>\n",
       "      <th>Postcode</th>\n",
       "      <th>...</th>\n",
       "      <th>Bathroom</th>\n",
       "      <th>Car</th>\n",
       "      <th>Landsize</th>\n",
       "      <th>BuildingArea</th>\n",
       "      <th>YearBuilt</th>\n",
       "      <th>CouncilArea</th>\n",
       "      <th>Lattitude</th>\n",
       "      <th>Longtitude</th>\n",
       "      <th>Regionname</th>\n",
       "      <th>Propertycount</th>\n",
       "    </tr>\n",
       "  </thead>\n",
       "  <tbody>\n",
       "    <tr>\n",
       "      <th>0</th>\n",
       "      <td>Abbotsford</td>\n",
       "      <td>85 Turner St</td>\n",
       "      <td>2</td>\n",
       "      <td>h</td>\n",
       "      <td>1480000.0</td>\n",
       "      <td>S</td>\n",
       "      <td>Biggin</td>\n",
       "      <td>3/12/2016</td>\n",
       "      <td>2.5</td>\n",
       "      <td>3067.0</td>\n",
       "      <td>...</td>\n",
       "      <td>1.0</td>\n",
       "      <td>1.0</td>\n",
       "      <td>202.0</td>\n",
       "      <td>NaN</td>\n",
       "      <td>NaN</td>\n",
       "      <td>Yarra</td>\n",
       "      <td>-37.7996</td>\n",
       "      <td>144.9984</td>\n",
       "      <td>Northern Metropolitan</td>\n",
       "      <td>4019.0</td>\n",
       "    </tr>\n",
       "    <tr>\n",
       "      <th>1</th>\n",
       "      <td>Abbotsford</td>\n",
       "      <td>25 Bloomburg St</td>\n",
       "      <td>2</td>\n",
       "      <td>h</td>\n",
       "      <td>1035000.0</td>\n",
       "      <td>S</td>\n",
       "      <td>Biggin</td>\n",
       "      <td>4/02/2016</td>\n",
       "      <td>2.5</td>\n",
       "      <td>3067.0</td>\n",
       "      <td>...</td>\n",
       "      <td>1.0</td>\n",
       "      <td>0.0</td>\n",
       "      <td>156.0</td>\n",
       "      <td>79.0</td>\n",
       "      <td>1900.0</td>\n",
       "      <td>Yarra</td>\n",
       "      <td>-37.8079</td>\n",
       "      <td>144.9934</td>\n",
       "      <td>Northern Metropolitan</td>\n",
       "      <td>4019.0</td>\n",
       "    </tr>\n",
       "    <tr>\n",
       "      <th>2</th>\n",
       "      <td>Abbotsford</td>\n",
       "      <td>5 Charles St</td>\n",
       "      <td>3</td>\n",
       "      <td>h</td>\n",
       "      <td>1465000.0</td>\n",
       "      <td>SP</td>\n",
       "      <td>Biggin</td>\n",
       "      <td>4/03/2017</td>\n",
       "      <td>2.5</td>\n",
       "      <td>3067.0</td>\n",
       "      <td>...</td>\n",
       "      <td>2.0</td>\n",
       "      <td>0.0</td>\n",
       "      <td>134.0</td>\n",
       "      <td>150.0</td>\n",
       "      <td>1900.0</td>\n",
       "      <td>Yarra</td>\n",
       "      <td>-37.8093</td>\n",
       "      <td>144.9944</td>\n",
       "      <td>Northern Metropolitan</td>\n",
       "      <td>4019.0</td>\n",
       "    </tr>\n",
       "    <tr>\n",
       "      <th>3</th>\n",
       "      <td>Abbotsford</td>\n",
       "      <td>40 Federation La</td>\n",
       "      <td>3</td>\n",
       "      <td>h</td>\n",
       "      <td>850000.0</td>\n",
       "      <td>PI</td>\n",
       "      <td>Biggin</td>\n",
       "      <td>4/03/2017</td>\n",
       "      <td>2.5</td>\n",
       "      <td>3067.0</td>\n",
       "      <td>...</td>\n",
       "      <td>2.0</td>\n",
       "      <td>1.0</td>\n",
       "      <td>94.0</td>\n",
       "      <td>NaN</td>\n",
       "      <td>NaN</td>\n",
       "      <td>Yarra</td>\n",
       "      <td>-37.7969</td>\n",
       "      <td>144.9969</td>\n",
       "      <td>Northern Metropolitan</td>\n",
       "      <td>4019.0</td>\n",
       "    </tr>\n",
       "    <tr>\n",
       "      <th>4</th>\n",
       "      <td>Abbotsford</td>\n",
       "      <td>55a Park St</td>\n",
       "      <td>4</td>\n",
       "      <td>h</td>\n",
       "      <td>1600000.0</td>\n",
       "      <td>VB</td>\n",
       "      <td>Nelson</td>\n",
       "      <td>4/06/2016</td>\n",
       "      <td>2.5</td>\n",
       "      <td>3067.0</td>\n",
       "      <td>...</td>\n",
       "      <td>1.0</td>\n",
       "      <td>2.0</td>\n",
       "      <td>120.0</td>\n",
       "      <td>142.0</td>\n",
       "      <td>2014.0</td>\n",
       "      <td>Yarra</td>\n",
       "      <td>-37.8072</td>\n",
       "      <td>144.9941</td>\n",
       "      <td>Northern Metropolitan</td>\n",
       "      <td>4019.0</td>\n",
       "    </tr>\n",
       "  </tbody>\n",
       "</table>\n",
       "<p>5 rows × 21 columns</p>\n",
       "</div>"
      ],
      "text/plain": [
       "       Suburb           Address  Rooms Type      Price Method SellerG  \\\n",
       "0  Abbotsford      85 Turner St      2    h  1480000.0      S  Biggin   \n",
       "1  Abbotsford   25 Bloomburg St      2    h  1035000.0      S  Biggin   \n",
       "2  Abbotsford      5 Charles St      3    h  1465000.0     SP  Biggin   \n",
       "3  Abbotsford  40 Federation La      3    h   850000.0     PI  Biggin   \n",
       "4  Abbotsford       55a Park St      4    h  1600000.0     VB  Nelson   \n",
       "\n",
       "        Date  Distance  Postcode  ...  Bathroom  Car  Landsize  BuildingArea  \\\n",
       "0  3/12/2016       2.5    3067.0  ...       1.0  1.0     202.0           NaN   \n",
       "1  4/02/2016       2.5    3067.0  ...       1.0  0.0     156.0          79.0   \n",
       "2  4/03/2017       2.5    3067.0  ...       2.0  0.0     134.0         150.0   \n",
       "3  4/03/2017       2.5    3067.0  ...       2.0  1.0      94.0           NaN   \n",
       "4  4/06/2016       2.5    3067.0  ...       1.0  2.0     120.0         142.0   \n",
       "\n",
       "   YearBuilt  CouncilArea Lattitude  Longtitude             Regionname  \\\n",
       "0        NaN        Yarra  -37.7996    144.9984  Northern Metropolitan   \n",
       "1     1900.0        Yarra  -37.8079    144.9934  Northern Metropolitan   \n",
       "2     1900.0        Yarra  -37.8093    144.9944  Northern Metropolitan   \n",
       "3        NaN        Yarra  -37.7969    144.9969  Northern Metropolitan   \n",
       "4     2014.0        Yarra  -37.8072    144.9941  Northern Metropolitan   \n",
       "\n",
       "  Propertycount  \n",
       "0        4019.0  \n",
       "1        4019.0  \n",
       "2        4019.0  \n",
       "3        4019.0  \n",
       "4        4019.0  \n",
       "\n",
       "[5 rows x 21 columns]"
      ]
     },
     "execution_count": 3,
     "metadata": {},
     "output_type": "execute_result"
    }
   ],
   "source": [
    "df.head()"
   ]
  },
  {
   "cell_type": "code",
   "execution_count": 4,
   "id": "e9e69035",
   "metadata": {
    "execution": {
     "iopub.execute_input": "2023-12-28T17:45:28.667895Z",
     "iopub.status.busy": "2023-12-28T17:45:28.666951Z",
     "iopub.status.idle": "2023-12-28T17:45:28.698314Z",
     "shell.execute_reply": "2023-12-28T17:45:28.697011Z"
    },
    "papermill": {
     "duration": 0.04136,
     "end_time": "2023-12-28T17:45:28.700341",
     "exception": false,
     "start_time": "2023-12-28T17:45:28.658981",
     "status": "completed"
    },
    "tags": []
   },
   "outputs": [
    {
     "name": "stdout",
     "output_type": "stream",
     "text": [
      "<class 'pandas.core.frame.DataFrame'>\n",
      "RangeIndex: 13580 entries, 0 to 13579\n",
      "Data columns (total 21 columns):\n",
      " #   Column         Non-Null Count  Dtype  \n",
      "---  ------         --------------  -----  \n",
      " 0   Suburb         13580 non-null  object \n",
      " 1   Address        13580 non-null  object \n",
      " 2   Rooms          13580 non-null  int64  \n",
      " 3   Type           13580 non-null  object \n",
      " 4   Price          13580 non-null  float64\n",
      " 5   Method         13580 non-null  object \n",
      " 6   SellerG        13580 non-null  object \n",
      " 7   Date           13580 non-null  object \n",
      " 8   Distance       13580 non-null  float64\n",
      " 9   Postcode       13580 non-null  float64\n",
      " 10  Bedroom2       13580 non-null  float64\n",
      " 11  Bathroom       13580 non-null  float64\n",
      " 12  Car            13518 non-null  float64\n",
      " 13  Landsize       13580 non-null  float64\n",
      " 14  BuildingArea   7130 non-null   float64\n",
      " 15  YearBuilt      8205 non-null   float64\n",
      " 16  CouncilArea    12211 non-null  object \n",
      " 17  Lattitude      13580 non-null  float64\n",
      " 18  Longtitude     13580 non-null  float64\n",
      " 19  Regionname     13580 non-null  object \n",
      " 20  Propertycount  13580 non-null  float64\n",
      "dtypes: float64(12), int64(1), object(8)\n",
      "memory usage: 2.2+ MB\n"
     ]
    }
   ],
   "source": [
    "df.info()"
   ]
  },
  {
   "cell_type": "code",
   "execution_count": 5,
   "id": "e05d368b",
   "metadata": {
    "execution": {
     "iopub.execute_input": "2023-12-28T17:45:28.715988Z",
     "iopub.status.busy": "2023-12-28T17:45:28.715593Z",
     "iopub.status.idle": "2023-12-28T17:45:28.769894Z",
     "shell.execute_reply": "2023-12-28T17:45:28.768845Z"
    },
    "papermill": {
     "duration": 0.064501,
     "end_time": "2023-12-28T17:45:28.771909",
     "exception": false,
     "start_time": "2023-12-28T17:45:28.707408",
     "status": "completed"
    },
    "tags": []
   },
   "outputs": [
    {
     "data": {
      "text/html": [
       "<div>\n",
       "<style scoped>\n",
       "    .dataframe tbody tr th:only-of-type {\n",
       "        vertical-align: middle;\n",
       "    }\n",
       "\n",
       "    .dataframe tbody tr th {\n",
       "        vertical-align: top;\n",
       "    }\n",
       "\n",
       "    .dataframe thead th {\n",
       "        text-align: right;\n",
       "    }\n",
       "</style>\n",
       "<table border=\"1\" class=\"dataframe\">\n",
       "  <thead>\n",
       "    <tr style=\"text-align: right;\">\n",
       "      <th></th>\n",
       "      <th>Rooms</th>\n",
       "      <th>Price</th>\n",
       "      <th>Distance</th>\n",
       "      <th>Postcode</th>\n",
       "      <th>Bedroom2</th>\n",
       "      <th>Bathroom</th>\n",
       "      <th>Car</th>\n",
       "      <th>Landsize</th>\n",
       "      <th>BuildingArea</th>\n",
       "      <th>YearBuilt</th>\n",
       "      <th>Lattitude</th>\n",
       "      <th>Longtitude</th>\n",
       "      <th>Propertycount</th>\n",
       "    </tr>\n",
       "  </thead>\n",
       "  <tbody>\n",
       "    <tr>\n",
       "      <th>count</th>\n",
       "      <td>13580.000000</td>\n",
       "      <td>1.358000e+04</td>\n",
       "      <td>13580.000000</td>\n",
       "      <td>13580.000000</td>\n",
       "      <td>13580.000000</td>\n",
       "      <td>13580.000000</td>\n",
       "      <td>13518.000000</td>\n",
       "      <td>13580.000000</td>\n",
       "      <td>7130.000000</td>\n",
       "      <td>8205.000000</td>\n",
       "      <td>13580.000000</td>\n",
       "      <td>13580.000000</td>\n",
       "      <td>13580.000000</td>\n",
       "    </tr>\n",
       "    <tr>\n",
       "      <th>mean</th>\n",
       "      <td>2.937997</td>\n",
       "      <td>1.075684e+06</td>\n",
       "      <td>10.137776</td>\n",
       "      <td>3105.301915</td>\n",
       "      <td>2.914728</td>\n",
       "      <td>1.534242</td>\n",
       "      <td>1.610075</td>\n",
       "      <td>558.416127</td>\n",
       "      <td>151.967650</td>\n",
       "      <td>1964.684217</td>\n",
       "      <td>-37.809203</td>\n",
       "      <td>144.995216</td>\n",
       "      <td>7454.417378</td>\n",
       "    </tr>\n",
       "    <tr>\n",
       "      <th>std</th>\n",
       "      <td>0.955748</td>\n",
       "      <td>6.393107e+05</td>\n",
       "      <td>5.868725</td>\n",
       "      <td>90.676964</td>\n",
       "      <td>0.965921</td>\n",
       "      <td>0.691712</td>\n",
       "      <td>0.962634</td>\n",
       "      <td>3990.669241</td>\n",
       "      <td>541.014538</td>\n",
       "      <td>37.273762</td>\n",
       "      <td>0.079260</td>\n",
       "      <td>0.103916</td>\n",
       "      <td>4378.581772</td>\n",
       "    </tr>\n",
       "    <tr>\n",
       "      <th>min</th>\n",
       "      <td>1.000000</td>\n",
       "      <td>8.500000e+04</td>\n",
       "      <td>0.000000</td>\n",
       "      <td>3000.000000</td>\n",
       "      <td>0.000000</td>\n",
       "      <td>0.000000</td>\n",
       "      <td>0.000000</td>\n",
       "      <td>0.000000</td>\n",
       "      <td>0.000000</td>\n",
       "      <td>1196.000000</td>\n",
       "      <td>-38.182550</td>\n",
       "      <td>144.431810</td>\n",
       "      <td>249.000000</td>\n",
       "    </tr>\n",
       "    <tr>\n",
       "      <th>25%</th>\n",
       "      <td>2.000000</td>\n",
       "      <td>6.500000e+05</td>\n",
       "      <td>6.100000</td>\n",
       "      <td>3044.000000</td>\n",
       "      <td>2.000000</td>\n",
       "      <td>1.000000</td>\n",
       "      <td>1.000000</td>\n",
       "      <td>177.000000</td>\n",
       "      <td>93.000000</td>\n",
       "      <td>1940.000000</td>\n",
       "      <td>-37.856822</td>\n",
       "      <td>144.929600</td>\n",
       "      <td>4380.000000</td>\n",
       "    </tr>\n",
       "    <tr>\n",
       "      <th>50%</th>\n",
       "      <td>3.000000</td>\n",
       "      <td>9.030000e+05</td>\n",
       "      <td>9.200000</td>\n",
       "      <td>3084.000000</td>\n",
       "      <td>3.000000</td>\n",
       "      <td>1.000000</td>\n",
       "      <td>2.000000</td>\n",
       "      <td>440.000000</td>\n",
       "      <td>126.000000</td>\n",
       "      <td>1970.000000</td>\n",
       "      <td>-37.802355</td>\n",
       "      <td>145.000100</td>\n",
       "      <td>6555.000000</td>\n",
       "    </tr>\n",
       "    <tr>\n",
       "      <th>75%</th>\n",
       "      <td>3.000000</td>\n",
       "      <td>1.330000e+06</td>\n",
       "      <td>13.000000</td>\n",
       "      <td>3148.000000</td>\n",
       "      <td>3.000000</td>\n",
       "      <td>2.000000</td>\n",
       "      <td>2.000000</td>\n",
       "      <td>651.000000</td>\n",
       "      <td>174.000000</td>\n",
       "      <td>1999.000000</td>\n",
       "      <td>-37.756400</td>\n",
       "      <td>145.058305</td>\n",
       "      <td>10331.000000</td>\n",
       "    </tr>\n",
       "    <tr>\n",
       "      <th>max</th>\n",
       "      <td>10.000000</td>\n",
       "      <td>9.000000e+06</td>\n",
       "      <td>48.100000</td>\n",
       "      <td>3977.000000</td>\n",
       "      <td>20.000000</td>\n",
       "      <td>8.000000</td>\n",
       "      <td>10.000000</td>\n",
       "      <td>433014.000000</td>\n",
       "      <td>44515.000000</td>\n",
       "      <td>2018.000000</td>\n",
       "      <td>-37.408530</td>\n",
       "      <td>145.526350</td>\n",
       "      <td>21650.000000</td>\n",
       "    </tr>\n",
       "  </tbody>\n",
       "</table>\n",
       "</div>"
      ],
      "text/plain": [
       "              Rooms         Price      Distance      Postcode      Bedroom2  \\\n",
       "count  13580.000000  1.358000e+04  13580.000000  13580.000000  13580.000000   \n",
       "mean       2.937997  1.075684e+06     10.137776   3105.301915      2.914728   \n",
       "std        0.955748  6.393107e+05      5.868725     90.676964      0.965921   \n",
       "min        1.000000  8.500000e+04      0.000000   3000.000000      0.000000   \n",
       "25%        2.000000  6.500000e+05      6.100000   3044.000000      2.000000   \n",
       "50%        3.000000  9.030000e+05      9.200000   3084.000000      3.000000   \n",
       "75%        3.000000  1.330000e+06     13.000000   3148.000000      3.000000   \n",
       "max       10.000000  9.000000e+06     48.100000   3977.000000     20.000000   \n",
       "\n",
       "           Bathroom           Car       Landsize  BuildingArea    YearBuilt  \\\n",
       "count  13580.000000  13518.000000   13580.000000   7130.000000  8205.000000   \n",
       "mean       1.534242      1.610075     558.416127    151.967650  1964.684217   \n",
       "std        0.691712      0.962634    3990.669241    541.014538    37.273762   \n",
       "min        0.000000      0.000000       0.000000      0.000000  1196.000000   \n",
       "25%        1.000000      1.000000     177.000000     93.000000  1940.000000   \n",
       "50%        1.000000      2.000000     440.000000    126.000000  1970.000000   \n",
       "75%        2.000000      2.000000     651.000000    174.000000  1999.000000   \n",
       "max        8.000000     10.000000  433014.000000  44515.000000  2018.000000   \n",
       "\n",
       "          Lattitude    Longtitude  Propertycount  \n",
       "count  13580.000000  13580.000000   13580.000000  \n",
       "mean     -37.809203    144.995216    7454.417378  \n",
       "std        0.079260      0.103916    4378.581772  \n",
       "min      -38.182550    144.431810     249.000000  \n",
       "25%      -37.856822    144.929600    4380.000000  \n",
       "50%      -37.802355    145.000100    6555.000000  \n",
       "75%      -37.756400    145.058305   10331.000000  \n",
       "max      -37.408530    145.526350   21650.000000  "
      ]
     },
     "execution_count": 5,
     "metadata": {},
     "output_type": "execute_result"
    }
   ],
   "source": [
    "df.describe()"
   ]
  },
  {
   "cell_type": "code",
   "execution_count": 6,
   "id": "452df9ff",
   "metadata": {
    "execution": {
     "iopub.execute_input": "2023-12-28T17:45:28.788271Z",
     "iopub.status.busy": "2023-12-28T17:45:28.787905Z",
     "iopub.status.idle": "2023-12-28T17:45:28.795391Z",
     "shell.execute_reply": "2023-12-28T17:45:28.794442Z"
    },
    "papermill": {
     "duration": 0.017886,
     "end_time": "2023-12-28T17:45:28.797336",
     "exception": false,
     "start_time": "2023-12-28T17:45:28.779450",
     "status": "completed"
    },
    "tags": []
   },
   "outputs": [
    {
     "data": {
      "text/plain": [
       "1075684.079455081"
      ]
     },
     "execution_count": 6,
     "metadata": {},
     "output_type": "execute_result"
    }
   ],
   "source": [
    "df['Price'].mean()"
   ]
  },
  {
   "cell_type": "code",
   "execution_count": 7,
   "id": "2d9159da",
   "metadata": {
    "execution": {
     "iopub.execute_input": "2023-12-28T17:45:28.813751Z",
     "iopub.status.busy": "2023-12-28T17:45:28.813345Z",
     "iopub.status.idle": "2023-12-28T17:45:28.820275Z",
     "shell.execute_reply": "2023-12-28T17:45:28.819544Z"
    },
    "papermill": {
     "duration": 0.017632,
     "end_time": "2023-12-28T17:45:28.822255",
     "exception": false,
     "start_time": "2023-12-28T17:45:28.804623",
     "status": "completed"
    },
    "tags": []
   },
   "outputs": [
    {
     "data": {
      "text/plain": [
       "903000.0"
      ]
     },
     "execution_count": 7,
     "metadata": {},
     "output_type": "execute_result"
    }
   ],
   "source": [
    "df['Price'].median()"
   ]
  },
  {
   "cell_type": "code",
   "execution_count": 8,
   "id": "6d492448",
   "metadata": {
    "execution": {
     "iopub.execute_input": "2023-12-28T17:45:28.838682Z",
     "iopub.status.busy": "2023-12-28T17:45:28.838309Z",
     "iopub.status.idle": "2023-12-28T17:45:28.847949Z",
     "shell.execute_reply": "2023-12-28T17:45:28.846957Z"
    },
    "papermill": {
     "duration": 0.02019,
     "end_time": "2023-12-28T17:45:28.849936",
     "exception": false,
     "start_time": "2023-12-28T17:45:28.829746",
     "status": "completed"
    },
    "tags": []
   },
   "outputs": [
    {
     "data": {
      "text/plain": [
       "0.00      85000.0\n",
       "0.25     650000.0\n",
       "0.50     903000.0\n",
       "0.75    1330000.0\n",
       "1.00    9000000.0\n",
       "Name: Price, dtype: float64"
      ]
     },
     "execution_count": 8,
     "metadata": {},
     "output_type": "execute_result"
    }
   ],
   "source": [
    "df['Price'].quantile([0,.25,.5,.75,1])"
   ]
  },
  {
   "cell_type": "code",
   "execution_count": 9,
   "id": "914dd882",
   "metadata": {
    "execution": {
     "iopub.execute_input": "2023-12-28T17:45:28.866863Z",
     "iopub.status.busy": "2023-12-28T17:45:28.866504Z",
     "iopub.status.idle": "2023-12-28T17:45:28.872577Z",
     "shell.execute_reply": "2023-12-28T17:45:28.871567Z"
    },
    "papermill": {
     "duration": 0.016773,
     "end_time": "2023-12-28T17:45:28.874459",
     "exception": false,
     "start_time": "2023-12-28T17:45:28.857686",
     "status": "completed"
    },
    "tags": []
   },
   "outputs": [
    {
     "data": {
      "text/plain": [
       "680000"
      ]
     },
     "execution_count": 9,
     "metadata": {},
     "output_type": "execute_result"
    }
   ],
   "source": [
    "IQR = 1330000 - 650000\n",
    "IQR"
   ]
  },
  {
   "cell_type": "code",
   "execution_count": 10,
   "id": "c15441be",
   "metadata": {
    "execution": {
     "iopub.execute_input": "2023-12-28T17:45:28.893369Z",
     "iopub.status.busy": "2023-12-28T17:45:28.892569Z",
     "iopub.status.idle": "2023-12-28T17:45:28.900763Z",
     "shell.execute_reply": "2023-12-28T17:45:28.899883Z"
    },
    "papermill": {
     "duration": 0.020689,
     "end_time": "2023-12-28T17:45:28.902933",
     "exception": false,
     "start_time": "2023-12-28T17:45:28.882244",
     "status": "completed"
    },
    "tags": []
   },
   "outputs": [
    {
     "data": {
      "text/plain": [
       "array([  85000.,  650000.,  903000., 1330000., 9000000.])"
      ]
     },
     "execution_count": 10,
     "metadata": {},
     "output_type": "execute_result"
    }
   ],
   "source": [
    "np.quantile(df['Price'],[0,.25,.5,.75,1])"
   ]
  },
  {
   "cell_type": "code",
   "execution_count": 11,
   "id": "7af6a9bb",
   "metadata": {
    "execution": {
     "iopub.execute_input": "2023-12-28T17:45:28.920411Z",
     "iopub.status.busy": "2023-12-28T17:45:28.920050Z",
     "iopub.status.idle": "2023-12-28T17:45:28.925589Z",
     "shell.execute_reply": "2023-12-28T17:45:28.924401Z"
    },
    "papermill": {
     "duration": 0.016735,
     "end_time": "2023-12-28T17:45:28.927584",
     "exception": false,
     "start_time": "2023-12-28T17:45:28.910849",
     "status": "completed"
    },
    "tags": []
   },
   "outputs": [],
   "source": [
    "df_notnull = df['Price'].dropna()"
   ]
  },
  {
   "cell_type": "code",
   "execution_count": 12,
   "id": "974d070d",
   "metadata": {
    "execution": {
     "iopub.execute_input": "2023-12-28T17:45:28.945679Z",
     "iopub.status.busy": "2023-12-28T17:45:28.944368Z",
     "iopub.status.idle": "2023-12-28T17:45:28.951538Z",
     "shell.execute_reply": "2023-12-28T17:45:28.950652Z"
    },
    "papermill": {
     "duration": 0.01801,
     "end_time": "2023-12-28T17:45:28.953446",
     "exception": false,
     "start_time": "2023-12-28T17:45:28.935436",
     "status": "completed"
    },
    "tags": []
   },
   "outputs": [
    {
     "data": {
      "text/plain": [
       "array([  85000.,  650000.,  405000., 1330000.,  300000.])"
      ]
     },
     "execution_count": 12,
     "metadata": {},
     "output_type": "execute_result"
    }
   ],
   "source": [
    "np.percentile(df_notnull,[0,25,5,75,1])"
   ]
  },
  {
   "cell_type": "code",
   "execution_count": 13,
   "id": "c7074166",
   "metadata": {
    "execution": {
     "iopub.execute_input": "2023-12-28T17:45:28.970926Z",
     "iopub.status.busy": "2023-12-28T17:45:28.970300Z",
     "iopub.status.idle": "2023-12-28T17:45:28.976632Z",
     "shell.execute_reply": "2023-12-28T17:45:28.975673Z"
    },
    "papermill": {
     "duration": 0.017296,
     "end_time": "2023-12-28T17:45:28.978636",
     "exception": false,
     "start_time": "2023-12-28T17:45:28.961340",
     "status": "completed"
    },
    "tags": []
   },
   "outputs": [
    {
     "data": {
      "text/plain": [
       "639287.1851762069"
      ]
     },
     "execution_count": 13,
     "metadata": {},
     "output_type": "execute_result"
    }
   ],
   "source": [
    "standard_deviation = np.std(df['Price'])\n",
    "standard_deviation"
   ]
  },
  {
   "cell_type": "code",
   "execution_count": 14,
   "id": "0cc34d66",
   "metadata": {
    "execution": {
     "iopub.execute_input": "2023-12-28T17:45:28.995579Z",
     "iopub.status.busy": "2023-12-28T17:45:28.995215Z",
     "iopub.status.idle": "2023-12-28T17:45:29.001822Z",
     "shell.execute_reply": "2023-12-28T17:45:29.000987Z"
    },
    "papermill": {
     "duration": 0.017262,
     "end_time": "2023-12-28T17:45:29.003665",
     "exception": false,
     "start_time": "2023-12-28T17:45:28.986403",
     "status": "completed"
    },
    "tags": []
   },
   "outputs": [
    {
     "data": {
      "text/plain": [
       "408688105130.5178"
      ]
     },
     "execution_count": 14,
     "metadata": {},
     "output_type": "execute_result"
    }
   ],
   "source": [
    "variance = np.var(df['Price'])\n",
    "variance"
   ]
  },
  {
   "cell_type": "code",
   "execution_count": 15,
   "id": "d285e6d3",
   "metadata": {
    "execution": {
     "iopub.execute_input": "2023-12-28T17:45:29.022244Z",
     "iopub.status.busy": "2023-12-28T17:45:29.021232Z",
     "iopub.status.idle": "2023-12-28T17:45:29.027870Z",
     "shell.execute_reply": "2023-12-28T17:45:29.026946Z"
    },
    "papermill": {
     "duration": 0.017867,
     "end_time": "2023-12-28T17:45:29.029743",
     "exception": false,
     "start_time": "2023-12-28T17:45:29.011876",
     "status": "completed"
    },
    "tags": []
   },
   "outputs": [
    {
     "data": {
      "text/plain": [
       "8915000.0"
      ]
     },
     "execution_count": 15,
     "metadata": {},
     "output_type": "execute_result"
    }
   ],
   "source": [
    "range_val = np.ptp(df['Price'])\n",
    "range_val"
   ]
  },
  {
   "cell_type": "code",
   "execution_count": 16,
   "id": "33f798b4",
   "metadata": {
    "execution": {
     "iopub.execute_input": "2023-12-28T17:45:29.048000Z",
     "iopub.status.busy": "2023-12-28T17:45:29.047382Z",
     "iopub.status.idle": "2023-12-28T17:45:30.702039Z",
     "shell.execute_reply": "2023-12-28T17:45:30.700828Z"
    },
    "papermill": {
     "duration": 1.666466,
     "end_time": "2023-12-28T17:45:30.704328",
     "exception": false,
     "start_time": "2023-12-28T17:45:29.037862",
     "status": "completed"
    },
    "tags": []
   },
   "outputs": [
    {
     "data": {
      "image/png": "[encoded data removed]",
      "text/plain": [
       "<Figure size 800x600 with 1 Axes>"
      ]
     },
     "metadata": {},
     "output_type": "display_data"
    }
   ],
   "source": [
    "import matplotlib.pyplot as plt\n",
    "import seaborn as sns\n",
    "plt.figure(figsize=(8, 6))\n",
    "sns.boxplot(df['Price'])\n",
    "plt.title('Boxplot of Data')\n",
    "plt.xlabel('Data')\n",
    "plt.show()"
   ]
  },
  {
   "cell_type": "code",
   "execution_count": 17,
   "id": "1ed847e8",
   "metadata": {
    "execution": {
     "iopub.execute_input": "2023-12-28T17:45:30.723475Z",
     "iopub.status.busy": "2023-12-28T17:45:30.723113Z",
     "iopub.status.idle": "2023-12-28T17:45:31.328200Z",
     "shell.execute_reply": "2023-12-28T17:45:31.327148Z"
    },
    "papermill": {
     "duration": 0.617408,
     "end_time": "2023-12-28T17:45:31.330458",
     "exception": false,
     "start_time": "2023-12-28T17:45:30.713050",
     "status": "completed"
    },
    "tags": []
   },
   "outputs": [
    {
     "data": {
      "image/png": "[encoded data removed]",
      "text/plain": [
       "<Figure size 800x600 with 1 Axes>"
      ]
     },
     "metadata": {},
     "output_type": "display_data"
    }
   ],
   "source": [
    "plt.figure(figsize=(8, 6))\n",
    "sns.histplot(df['Price'], kde=True)\n",
    "plt.title('Histogram of Data')\n",
    "plt.show()\n"
   ]
  },
  {
   "cell_type": "code",
   "execution_count": 18,
   "id": "fa6711ad",
   "metadata": {
    "execution": {
     "iopub.execute_input": "2023-12-28T17:45:31.350564Z",
     "iopub.status.busy": "2023-12-28T17:45:31.350192Z",
     "iopub.status.idle": "2023-12-28T17:45:32.078682Z",
     "shell.execute_reply": "2023-12-28T17:45:32.077467Z"
    },
    "papermill": {
     "duration": 0.741057,
     "end_time": "2023-12-28T17:45:32.081028",
     "exception": false,
     "start_time": "2023-12-28T17:45:31.339971",
     "status": "completed"
    },
    "tags": []
   },
   "outputs": [
    {
     "data": {
      "image/png": "[encoded data removed]",
      "text/plain": [
       "<Figure size 800x600 with 1 Axes>"
      ]
     },
     "metadata": {},
     "output_type": "display_data"
    }
   ],
   "source": [
    "\n",
    "plt.figure(figsize=(8, 6))\n",
    "sns.histplot(df['Price'], kde=True)\n",
    "plt.axvline(df['Price'].mean(), color='red', linestyle='dashed', linewidth=1, label='Mean')\n",
    "plt.axvline(df['Price'].median(), color='green', linestyle='dashed', linewidth=1, label='Median')\n",
    "plt.axvline(df['Price'].mode()[0], color='blue', linestyle='dashed', linewidth=1, label='Mode')\n",
    "plt.legend()\n",
    "plt.title('Histogram of Data with Mean, Median, and Mode')\n",
    "plt.show()"
   ]
  },
  {
   "cell_type": "code",
   "execution_count": null,
   "id": "a6025293",
   "metadata": {
    "papermill": {
     "duration": 0.009514,
     "end_time": "2023-12-28T17:45:32.100308",
     "exception": false,
     "start_time": "2023-12-28T17:45:32.090794",
     "status": "completed"
    },
    "tags": []
   },
   "outputs": [],
   "source": []
  },
  {
   "cell_type": "code",
   "execution_count": null,
   "id": "b6c2d367",
   "metadata": {
    "papermill": {
     "duration": 0.009464,
     "end_time": "2023-12-28T17:45:32.119460",
     "exception": false,
     "start_time": "2023-12-28T17:45:32.109996",
     "status": "completed"
    },
    "tags": []
   },
   "outputs": [],
   "source": []
  },
  {
   "cell_type": "code",
   "execution_count": null,
   "id": "879cfd8a",
   "metadata": {
    "papermill": {
     "duration": 0.063617,
     "end_time": "2023-12-28T17:45:32.193256",
     "exception": false,
     "start_time": "2023-12-28T17:45:32.129639",
     "status": "completed"
    },
    "tags": []
   },
   "outputs": [],
   "source": []
  },
  {
   "cell_type": "code",
   "execution_count": null,
   "id": "6e20e176",
   "metadata": {
    "papermill": {
     "duration": 0.009539,
     "end_time": "2023-12-28T17:45:32.212695",
     "exception": false,
     "start_time": "2023-12-28T17:45:32.203156",
     "status": "completed"
    },
    "tags": []
   },
   "outputs": [],
   "source": []
  },
  {
   "cell_type": "code",
   "execution_count": null,
   "id": "ce8432e9",
   "metadata": {
    "papermill": {
     "duration": 0.010013,
     "end_time": "2023-12-28T17:45:32.232663",
     "exception": false,
     "start_time": "2023-12-28T17:45:32.222650",
     "status": "completed"
    },
    "tags": []
   },
   "outputs": [],
   "source": []
  }
 ],
 "metadata": {
  "kaggle": {
   "accelerator": "none",
   "dataSources": [
    {
     "datasetId": 2709,
     "sourceId": 38454,
     "sourceType": "datasetVersion"
    }
   ],
   "dockerImageVersionId": 30558,
   "isGpuEnabled": false,
   "isInternetEnabled": true,
   "language": "python",
   "sourceType": "notebook"
  },
  "kernelspec": {
   "display_name": "Python 3",
   "language": "python",
   "name": "python3"
  },
  "language_info": {
   "codemirror_mode": {
    "name": "ipython",
    "version": 3
   },
   "file_extension": ".py",
   "mimetype": "text/x-python",
   "name": "python",
   "nbconvert_exporter": "python",
   "pygments_lexer": "ipython3",
   "version": "3.10.12"
  },
  "papermill": {
   "default_parameters": {},
   "duration": 9.031224,
   "end_time": "2023-12-28T17:45:32.863124",
   "environment_variables": {},
   "exception": null,
   "input_path": "__notebook__.ipynb",
   "output_path": "__notebook__.ipynb",
   "parameters": {},
   "start_time": "2023-12-28T17:45:23.831900",
   "version": "2.4.0"
  }
 },
 "nbformat": 4,
 "nbformat_minor": 5
}
