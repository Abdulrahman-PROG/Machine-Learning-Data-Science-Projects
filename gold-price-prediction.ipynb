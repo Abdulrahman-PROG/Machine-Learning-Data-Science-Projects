{
 "cells": [
  {
   "cell_type": "markdown",
   "id": "dcf2a2a2",
   "metadata": {
    "papermill": {
     "duration": 0.010915,
     "end_time": "2023-12-29T17:43:58.730455",
     "exception": false,
     "start_time": "2023-12-29T17:43:58.719540",
     "status": "completed"
    },
    "tags": []
   },
   "source": []
  },
  {
   "cell_type": "markdown",
   "id": "792c870a",
   "metadata": {
    "papermill": {
     "duration": 0.010147,
     "end_time": "2023-12-29T17:43:58.751095",
     "exception": false,
     "start_time": "2023-12-29T17:43:58.740948",
     "status": "completed"
    },
    "tags": []
   },
   "source": []
  },
  {
   "cell_type": "markdown",
   "id": "430a64ef",
   "metadata": {
    "papermill": {
     "duration": 0.010074,
     "end_time": "2023-12-29T17:43:58.771501",
     "exception": false,
     "start_time": "2023-12-29T17:43:58.761427",
     "status": "completed"
    },
    "tags": []
   },
   "source": [
    "# Description of Gold Price:\n",
    "\n",
    "**The price of gold is a dynamic and globally influential economic indicator that reflects the value of gold per unit of weight. Gold is a precious metal with a long history of being used as a store of value, a medium of exchange, and a symbol of wealth. It is traded on various commodities exchanges worldwide, and its price is influenced by a myriad of factors, including economic conditions, geopolitical events, inflation, interest rates, and currency movements.**\n",
    "\n",
    "**Investors often turn to gold as a safe-haven asset during times of economic uncertainty, as its value tends to be inversely correlated with the strength of traditional financial markets. Additionally, gold is widely used in jewelry and has industrial applications, further impacting its demand and, consequently, its price.**"
   ]
  },
  {
   "cell_type": "markdown",
   "id": "c5bb915e",
   "metadata": {
    "papermill": {
     "duration": 0.010105,
     "end_time": "2023-12-29T17:43:58.791979",
     "exception": false,
     "start_time": "2023-12-29T17:43:58.781874",
     "status": "completed"
    },
    "tags": []
   },
   "source": [
    "# Machine Learning Solutions for Gold Price Prediction:\n",
    "**Machine learning (ML) can be leveraged to analyze historical and real-time data, helping to predict and understand the complex patterns that influence gold prices. Here are ways in which machine learning can contribute to solving challenges related to predicting gold prices:**"
   ]
  },
  {
   "cell_type": "markdown",
   "id": "40d0b43c",
   "metadata": {
    "papermill": {
     "duration": 0.010364,
     "end_time": "2023-12-29T17:43:58.812974",
     "exception": false,
     "start_time": "2023-12-29T17:43:58.802610",
     "status": "completed"
    },
    "tags": []
   },
   "source": []
  },
  {
   "cell_type": "markdown",
   "id": "c888876b",
   "metadata": {
    "papermill": {
     "duration": 0.010236,
     "end_time": "2023-12-29T17:43:58.833842",
     "exception": false,
     "start_time": "2023-12-29T17:43:58.823606",
     "status": "completed"
    },
    "tags": []
   },
   "source": [
    "Time Series Analysis:\n",
    "        Machine learning algorithms, particularly those designed for time series analysis, can analyze historical gold price data to identify trends, seasonal patterns, and cyclic behaviors. This information can be valuable for predicting future price movements.\n",
    "\n",
    "    Sentiment Analysis:\n",
    "        ML models can process vast amounts of textual data from news articles, social media, and financial reports to gauge market sentiment. Sentiment analysis can provide insights into how positive or negative news and events might impact investor confidence and influence gold prices.\n",
    "\n",
    "    Macro-Economic Indicators:\n",
    "        ML algorithms can assimilate and analyze macroeconomic indicators such as inflation rates, interest rates, and currency values. By understanding the relationships between these factors and gold prices, machine learning models can make predictions based on changes in economic conditions.\n",
    "\n",
    "    Geopolitical Event Impact Assessment:\n",
    "        Geopolitical events often have a significant impact on gold prices. Machine learning can assess historical data to understand how events such as political instability, trade tensions, or global crises have affected gold prices, enabling predictions for similar events in the future.\n",
    "\n",
    "    Integration of Alternative Data Sources:\n",
    "        ML models can incorporate alternative data sources, such as satellite imagery to assess mining activities, or shipping data to gauge demand for gold. Integrating diverse datasets can enhance the accuracy of predictions by providing a more comprehensive view of the factors influencing gold prices.\n",
    "\n",
    "    Portfolio Optimization:\n",
    "        Machine learning can assist investors in optimizing their portfolios by recommending strategies based on predicted gold price movements. This includes dynamically adjusting asset allocations and hedging strategies to manage risk."
   ]
  },
  {
   "cell_type": "markdown",
   "id": "f684183f",
   "metadata": {
    "papermill": {
     "duration": 0.010065,
     "end_time": "2023-12-29T17:43:58.854263",
     "exception": false,
     "start_time": "2023-12-29T17:43:58.844198",
     "status": "completed"
    },
    "tags": []
   },
   "source": []
  },
  {
   "cell_type": "markdown",
   "id": "24b28f01",
   "metadata": {
    "papermill": {
     "duration": 0.01021,
     "end_time": "2023-12-29T17:43:58.874840",
     "exception": false,
     "start_time": "2023-12-29T17:43:58.864630",
     "status": "completed"
    },
    "tags": []
   },
   "source": [
    "**While machine learning holds promise in predicting gold prices, it's important to note that financial markets are inherently unpredictable, and models may not always accurately forecast future movements. Additionally, market dynamics can change rapidly, requiring continuous model refinement and adaptation. Collaborative efforts between financial experts, data scientists, and regulatory bodies are essential to ensure responsible and informed use of machine learning in predicting gold prices.**"
   ]
  },
  {
   "cell_type": "markdown",
   "id": "ec5921c1",
   "metadata": {
    "papermill": {
     "duration": 0.010499,
     "end_time": "2023-12-29T17:43:58.895612",
     "exception": false,
     "start_time": "2023-12-29T17:43:58.885113",
     "status": "completed"
    },
    "tags": []
   },
   "source": [
    "# Import libraries"
   ]
  },
  {
   "cell_type": "code",
   "execution_count": 1,
   "id": "e1bb2358",
   "metadata": {
    "execution": {
     "iopub.execute_input": "2023-12-29T17:43:58.918669Z",
     "iopub.status.busy": "2023-12-29T17:43:58.918110Z",
     "iopub.status.idle": "2023-12-29T17:44:02.705487Z",
     "shell.execute_reply": "2023-12-29T17:44:02.704171Z"
    },
    "papermill": {
     "duration": 3.802279,
     "end_time": "2023-12-29T17:44:02.708576",
     "exception": false,
     "start_time": "2023-12-29T17:43:58.906297",
     "status": "completed"
    },
    "tags": []
   },
   "outputs": [],
   "source": [
    "import matplotlib.pyplot as plt\n",
    "import seaborn as sns\n",
    "from sklearn.model_selection import train_test_split\n",
    "from sklearn.ensemble import RandomForestRegressor\n",
    "from sklearn import metrics\n",
    "import numpy as np # linear algebra\n",
    "import pandas as pd # data processing, CSV file I/O (e.g. pd.read_csv)"
   ]
  },
  {
   "cell_type": "markdown",
   "id": "43c584de",
   "metadata": {
    "papermill": {
     "duration": 0.010193,
     "end_time": "2023-12-29T17:44:02.729555",
     "exception": false,
     "start_time": "2023-12-29T17:44:02.719362",
     "status": "completed"
    },
    "tags": []
   },
   "source": [
    "# Data collection and processing"
   ]
  },
  {
   "cell_type": "code",
   "execution_count": 2,
   "id": "552dc5d7",
   "metadata": {
    "execution": {
     "iopub.execute_input": "2023-12-29T17:44:02.752790Z",
     "iopub.status.busy": "2023-12-29T17:44:02.752166Z",
     "iopub.status.idle": "2023-12-29T17:44:02.783012Z",
     "shell.execute_reply": "2023-12-29T17:44:02.781839Z"
    },
    "papermill": {
     "duration": 0.045743,
     "end_time": "2023-12-29T17:44:02.785738",
     "exception": false,
     "start_time": "2023-12-29T17:44:02.739995",
     "status": "completed"
    },
    "tags": []
   },
   "outputs": [],
   "source": [
    "df = pd.read_csv('/kaggle/input/gold-price-data/gld_price_data.csv')"
   ]
  },
  {
   "cell_type": "code",
   "execution_count": 3,
   "id": "a03dcaba",
   "metadata": {
    "execution": {
     "iopub.execute_input": "2023-12-29T17:44:02.809352Z",
     "iopub.status.busy": "2023-12-29T17:44:02.808604Z",
     "iopub.status.idle": "2023-12-29T17:44:02.837705Z",
     "shell.execute_reply": "2023-12-29T17:44:02.836176Z"
    },
    "papermill": {
     "duration": 0.043982,
     "end_time": "2023-12-29T17:44:02.840385",
     "exception": false,
     "start_time": "2023-12-29T17:44:02.796403",
     "status": "completed"
    },
    "tags": []
   },
   "outputs": [
    {
     "data": {
      "text/html": [
       "<div>\n",
       "<style scoped>\n",
       "    .dataframe tbody tr th:only-of-type {\n",
       "        vertical-align: middle;\n",
       "    }\n",
       "\n",
       "    .dataframe tbody tr th {\n",
       "        vertical-align: top;\n",
       "    }\n",
       "\n",
       "    .dataframe thead th {\n",
       "        text-align: right;\n",
       "    }\n",
       "</style>\n",
       "<table border=\"1\" class=\"dataframe\">\n",
       "  <thead>\n",
       "    <tr style=\"text-align: right;\">\n",
       "      <th></th>\n",
       "      <th>Date</th>\n",
       "      <th>SPX</th>\n",
       "      <th>GLD</th>\n",
       "      <th>USO</th>\n",
       "      <th>SLV</th>\n",
       "      <th>EUR/USD</th>\n",
       "    </tr>\n",
       "  </thead>\n",
       "  <tbody>\n",
       "    <tr>\n",
       "      <th>0</th>\n",
       "      <td>1/2/2008</td>\n",
       "      <td>1447.160034</td>\n",
       "      <td>84.860001</td>\n",
       "      <td>78.470001</td>\n",
       "      <td>15.180</td>\n",
       "      <td>1.471692</td>\n",
       "    </tr>\n",
       "    <tr>\n",
       "      <th>1</th>\n",
       "      <td>1/3/2008</td>\n",
       "      <td>1447.160034</td>\n",
       "      <td>85.570000</td>\n",
       "      <td>78.370003</td>\n",
       "      <td>15.285</td>\n",
       "      <td>1.474491</td>\n",
       "    </tr>\n",
       "    <tr>\n",
       "      <th>2</th>\n",
       "      <td>1/4/2008</td>\n",
       "      <td>1411.630005</td>\n",
       "      <td>85.129997</td>\n",
       "      <td>77.309998</td>\n",
       "      <td>15.167</td>\n",
       "      <td>1.475492</td>\n",
       "    </tr>\n",
       "    <tr>\n",
       "      <th>3</th>\n",
       "      <td>1/7/2008</td>\n",
       "      <td>1416.180054</td>\n",
       "      <td>84.769997</td>\n",
       "      <td>75.500000</td>\n",
       "      <td>15.053</td>\n",
       "      <td>1.468299</td>\n",
       "    </tr>\n",
       "    <tr>\n",
       "      <th>4</th>\n",
       "      <td>1/8/2008</td>\n",
       "      <td>1390.189941</td>\n",
       "      <td>86.779999</td>\n",
       "      <td>76.059998</td>\n",
       "      <td>15.590</td>\n",
       "      <td>1.557099</td>\n",
       "    </tr>\n",
       "  </tbody>\n",
       "</table>\n",
       "</div>"
      ],
      "text/plain": [
       "       Date          SPX        GLD        USO     SLV   EUR/USD\n",
       "0  1/2/2008  1447.160034  84.860001  78.470001  15.180  1.471692\n",
       "1  1/3/2008  1447.160034  85.570000  78.370003  15.285  1.474491\n",
       "2  1/4/2008  1411.630005  85.129997  77.309998  15.167  1.475492\n",
       "3  1/7/2008  1416.180054  84.769997  75.500000  15.053  1.468299\n",
       "4  1/8/2008  1390.189941  86.779999  76.059998  15.590  1.557099"
      ]
     },
     "execution_count": 3,
     "metadata": {},
     "output_type": "execute_result"
    }
   ],
   "source": [
    "df.head()"
   ]
  },
  {
   "cell_type": "code",
   "execution_count": 4,
   "id": "c0a38d9b",
   "metadata": {
    "execution": {
     "iopub.execute_input": "2023-12-29T17:44:02.864677Z",
     "iopub.status.busy": "2023-12-29T17:44:02.864219Z",
     "iopub.status.idle": "2023-12-29T17:44:02.879798Z",
     "shell.execute_reply": "2023-12-29T17:44:02.878528Z"
    },
    "papermill": {
     "duration": 0.030304,
     "end_time": "2023-12-29T17:44:02.882224",
     "exception": false,
     "start_time": "2023-12-29T17:44:02.851920",
     "status": "completed"
    },
    "tags": []
   },
   "outputs": [
    {
     "data": {
      "text/html": [
       "<div>\n",
       "<style scoped>\n",
       "    .dataframe tbody tr th:only-of-type {\n",
       "        vertical-align: middle;\n",
       "    }\n",
       "\n",
       "    .dataframe tbody tr th {\n",
       "        vertical-align: top;\n",
       "    }\n",
       "\n",
       "    .dataframe thead th {\n",
       "        text-align: right;\n",
       "    }\n",
       "</style>\n",
       "<table border=\"1\" class=\"dataframe\">\n",
       "  <thead>\n",
       "    <tr style=\"text-align: right;\">\n",
       "      <th></th>\n",
       "      <th>Date</th>\n",
       "      <th>SPX</th>\n",
       "      <th>GLD</th>\n",
       "      <th>USO</th>\n",
       "      <th>SLV</th>\n",
       "      <th>EUR/USD</th>\n",
       "    </tr>\n",
       "  </thead>\n",
       "  <tbody>\n",
       "    <tr>\n",
       "      <th>2285</th>\n",
       "      <td>5/8/2018</td>\n",
       "      <td>2671.919922</td>\n",
       "      <td>124.589996</td>\n",
       "      <td>14.0600</td>\n",
       "      <td>15.5100</td>\n",
       "      <td>1.186789</td>\n",
       "    </tr>\n",
       "    <tr>\n",
       "      <th>2286</th>\n",
       "      <td>5/9/2018</td>\n",
       "      <td>2697.790039</td>\n",
       "      <td>124.330002</td>\n",
       "      <td>14.3700</td>\n",
       "      <td>15.5300</td>\n",
       "      <td>1.184722</td>\n",
       "    </tr>\n",
       "    <tr>\n",
       "      <th>2287</th>\n",
       "      <td>5/10/2018</td>\n",
       "      <td>2723.070068</td>\n",
       "      <td>125.180000</td>\n",
       "      <td>14.4100</td>\n",
       "      <td>15.7400</td>\n",
       "      <td>1.191753</td>\n",
       "    </tr>\n",
       "    <tr>\n",
       "      <th>2288</th>\n",
       "      <td>5/14/2018</td>\n",
       "      <td>2730.129883</td>\n",
       "      <td>124.489998</td>\n",
       "      <td>14.3800</td>\n",
       "      <td>15.5600</td>\n",
       "      <td>1.193118</td>\n",
       "    </tr>\n",
       "    <tr>\n",
       "      <th>2289</th>\n",
       "      <td>5/16/2018</td>\n",
       "      <td>2725.780029</td>\n",
       "      <td>122.543800</td>\n",
       "      <td>14.4058</td>\n",
       "      <td>15.4542</td>\n",
       "      <td>1.182033</td>\n",
       "    </tr>\n",
       "  </tbody>\n",
       "</table>\n",
       "</div>"
      ],
      "text/plain": [
       "           Date          SPX         GLD      USO      SLV   EUR/USD\n",
       "2285   5/8/2018  2671.919922  124.589996  14.0600  15.5100  1.186789\n",
       "2286   5/9/2018  2697.790039  124.330002  14.3700  15.5300  1.184722\n",
       "2287  5/10/2018  2723.070068  125.180000  14.4100  15.7400  1.191753\n",
       "2288  5/14/2018  2730.129883  124.489998  14.3800  15.5600  1.193118\n",
       "2289  5/16/2018  2725.780029  122.543800  14.4058  15.4542  1.182033"
      ]
     },
     "execution_count": 4,
     "metadata": {},
     "output_type": "execute_result"
    }
   ],
   "source": [
    "df.tail()"
   ]
  },
  {
   "cell_type": "code",
   "execution_count": 5,
   "id": "43d187c1",
   "metadata": {
    "execution": {
     "iopub.execute_input": "2023-12-29T17:44:02.906772Z",
     "iopub.status.busy": "2023-12-29T17:44:02.906105Z",
     "iopub.status.idle": "2023-12-29T17:44:02.911582Z",
     "shell.execute_reply": "2023-12-29T17:44:02.910375Z"
    },
    "papermill": {
     "duration": 0.02053,
     "end_time": "2023-12-29T17:44:02.914118",
     "exception": false,
     "start_time": "2023-12-29T17:44:02.893588",
     "status": "completed"
    },
    "tags": []
   },
   "outputs": [],
   "source": [
    "df = df"
   ]
  },
  {
   "cell_type": "code",
   "execution_count": 6,
   "id": "baafc6a9",
   "metadata": {
    "execution": {
     "iopub.execute_input": "2023-12-29T17:44:02.938719Z",
     "iopub.status.busy": "2023-12-29T17:44:02.938094Z",
     "iopub.status.idle": "2023-12-29T17:44:02.945704Z",
     "shell.execute_reply": "2023-12-29T17:44:02.944403Z"
    },
    "papermill": {
     "duration": 0.023481,
     "end_time": "2023-12-29T17:44:02.948756",
     "exception": false,
     "start_time": "2023-12-29T17:44:02.925275",
     "status": "completed"
    },
    "tags": []
   },
   "outputs": [
    {
     "data": {
      "text/plain": [
       "(2290, 6)"
      ]
     },
     "execution_count": 6,
     "metadata": {},
     "output_type": "execute_result"
    }
   ],
   "source": [
    "df.shape"
   ]
  },
  {
   "cell_type": "code",
   "execution_count": 7,
   "id": "a41212fc",
   "metadata": {
    "execution": {
     "iopub.execute_input": "2023-12-29T17:44:02.973808Z",
     "iopub.status.busy": "2023-12-29T17:44:02.973086Z",
     "iopub.status.idle": "2023-12-29T17:44:03.007018Z",
     "shell.execute_reply": "2023-12-29T17:44:03.005843Z"
    },
    "papermill": {
     "duration": 0.049653,
     "end_time": "2023-12-29T17:44:03.009822",
     "exception": false,
     "start_time": "2023-12-29T17:44:02.960169",
     "status": "completed"
    },
    "tags": []
   },
   "outputs": [
    {
     "name": "stdout",
     "output_type": "stream",
     "text": [
      "<class 'pandas.core.frame.DataFrame'>\n",
      "RangeIndex: 2290 entries, 0 to 2289\n",
      "Data columns (total 6 columns):\n",
      " #   Column   Non-Null Count  Dtype  \n",
      "---  ------   --------------  -----  \n",
      " 0   Date     2290 non-null   object \n",
      " 1   SPX      2290 non-null   float64\n",
      " 2   GLD      2290 non-null   float64\n",
      " 3   USO      2290 non-null   float64\n",
      " 4   SLV      2290 non-null   float64\n",
      " 5   EUR/USD  2290 non-null   float64\n",
      "dtypes: float64(5), object(1)\n",
      "memory usage: 107.5+ KB\n"
     ]
    }
   ],
   "source": [
    "df.info()"
   ]
  },
  {
   "cell_type": "code",
   "execution_count": 8,
   "id": "b9042101",
   "metadata": {
    "execution": {
     "iopub.execute_input": "2023-12-29T17:44:03.037399Z",
     "iopub.status.busy": "2023-12-29T17:44:03.035905Z",
     "iopub.status.idle": "2023-12-29T17:44:03.069814Z",
     "shell.execute_reply": "2023-12-29T17:44:03.068410Z"
    },
    "papermill": {
     "duration": 0.05057,
     "end_time": "2023-12-29T17:44:03.072806",
     "exception": false,
     "start_time": "2023-12-29T17:44:03.022236",
     "status": "completed"
    },
    "tags": []
   },
   "outputs": [
    {
     "data": {
      "text/html": [
       "<div>\n",
       "<style scoped>\n",
       "    .dataframe tbody tr th:only-of-type {\n",
       "        vertical-align: middle;\n",
       "    }\n",
       "\n",
       "    .dataframe tbody tr th {\n",
       "        vertical-align: top;\n",
       "    }\n",
       "\n",
       "    .dataframe thead th {\n",
       "        text-align: right;\n",
       "    }\n",
       "</style>\n",
       "<table border=\"1\" class=\"dataframe\">\n",
       "  <thead>\n",
       "    <tr style=\"text-align: right;\">\n",
       "      <th></th>\n",
       "      <th>SPX</th>\n",
       "      <th>GLD</th>\n",
       "      <th>USO</th>\n",
       "      <th>SLV</th>\n",
       "      <th>EUR/USD</th>\n",
       "    </tr>\n",
       "  </thead>\n",
       "  <tbody>\n",
       "    <tr>\n",
       "      <th>count</th>\n",
       "      <td>2290.000000</td>\n",
       "      <td>2290.000000</td>\n",
       "      <td>2290.000000</td>\n",
       "      <td>2290.000000</td>\n",
       "      <td>2290.000000</td>\n",
       "    </tr>\n",
       "    <tr>\n",
       "      <th>mean</th>\n",
       "      <td>1654.315776</td>\n",
       "      <td>122.732875</td>\n",
       "      <td>31.842221</td>\n",
       "      <td>20.084997</td>\n",
       "      <td>1.283653</td>\n",
       "    </tr>\n",
       "    <tr>\n",
       "      <th>std</th>\n",
       "      <td>519.111540</td>\n",
       "      <td>23.283346</td>\n",
       "      <td>19.523517</td>\n",
       "      <td>7.092566</td>\n",
       "      <td>0.131547</td>\n",
       "    </tr>\n",
       "    <tr>\n",
       "      <th>min</th>\n",
       "      <td>676.530029</td>\n",
       "      <td>70.000000</td>\n",
       "      <td>7.960000</td>\n",
       "      <td>8.850000</td>\n",
       "      <td>1.039047</td>\n",
       "    </tr>\n",
       "    <tr>\n",
       "      <th>25%</th>\n",
       "      <td>1239.874969</td>\n",
       "      <td>109.725000</td>\n",
       "      <td>14.380000</td>\n",
       "      <td>15.570000</td>\n",
       "      <td>1.171313</td>\n",
       "    </tr>\n",
       "    <tr>\n",
       "      <th>50%</th>\n",
       "      <td>1551.434998</td>\n",
       "      <td>120.580002</td>\n",
       "      <td>33.869999</td>\n",
       "      <td>17.268500</td>\n",
       "      <td>1.303297</td>\n",
       "    </tr>\n",
       "    <tr>\n",
       "      <th>75%</th>\n",
       "      <td>2073.010070</td>\n",
       "      <td>132.840004</td>\n",
       "      <td>37.827501</td>\n",
       "      <td>22.882500</td>\n",
       "      <td>1.369971</td>\n",
       "    </tr>\n",
       "    <tr>\n",
       "      <th>max</th>\n",
       "      <td>2872.870117</td>\n",
       "      <td>184.589996</td>\n",
       "      <td>117.480003</td>\n",
       "      <td>47.259998</td>\n",
       "      <td>1.598798</td>\n",
       "    </tr>\n",
       "  </tbody>\n",
       "</table>\n",
       "</div>"
      ],
      "text/plain": [
       "               SPX          GLD          USO          SLV      EUR/USD\n",
       "count  2290.000000  2290.000000  2290.000000  2290.000000  2290.000000\n",
       "mean   1654.315776   122.732875    31.842221    20.084997     1.283653\n",
       "std     519.111540    23.283346    19.523517     7.092566     0.131547\n",
       "min     676.530029    70.000000     7.960000     8.850000     1.039047\n",
       "25%    1239.874969   109.725000    14.380000    15.570000     1.171313\n",
       "50%    1551.434998   120.580002    33.869999    17.268500     1.303297\n",
       "75%    2073.010070   132.840004    37.827501    22.882500     1.369971\n",
       "max    2872.870117   184.589996   117.480003    47.259998     1.598798"
      ]
     },
     "execution_count": 8,
     "metadata": {},
     "output_type": "execute_result"
    }
   ],
   "source": [
    "df.describe()"
   ]
  },
  {
   "cell_type": "code",
   "execution_count": 9,
   "id": "a858ce7f",
   "metadata": {
    "execution": {
     "iopub.execute_input": "2023-12-29T17:44:03.098999Z",
     "iopub.status.busy": "2023-12-29T17:44:03.098582Z",
     "iopub.status.idle": "2023-12-29T17:44:03.109820Z",
     "shell.execute_reply": "2023-12-29T17:44:03.108305Z"
    },
    "papermill": {
     "duration": 0.028157,
     "end_time": "2023-12-29T17:44:03.112822",
     "exception": false,
     "start_time": "2023-12-29T17:44:03.084665",
     "status": "completed"
    },
    "tags": []
   },
   "outputs": [],
   "source": [
    "correlation = df.iloc[:,1:].corr()"
   ]
  },
  {
   "cell_type": "code",
   "execution_count": 10,
   "id": "76be5135",
   "metadata": {
    "execution": {
     "iopub.execute_input": "2023-12-29T17:44:03.138212Z",
     "iopub.status.busy": "2023-12-29T17:44:03.137771Z",
     "iopub.status.idle": "2023-12-29T17:44:03.652947Z",
     "shell.execute_reply": "2023-12-29T17:44:03.651862Z"
    },
    "papermill": {
     "duration": 0.530983,
     "end_time": "2023-12-29T17:44:03.655681",
     "exception": false,
     "start_time": "2023-12-29T17:44:03.124698",
     "status": "completed"
    },
    "tags": []
   },
   "outputs": [
    {
     "data": {
      "text/plain": [
       "<Axes: >"
      ]
     },
     "execution_count": 10,
     "metadata": {},
     "output_type": "execute_result"
    },
    {
     "data": {
      "image/png": "[encoded data removed]",
      "text/plain": [
       "<Figure size 800x800 with 2 Axes>"
      ]
     },
     "metadata": {},
     "output_type": "display_data"
    }
   ],
   "source": [
    "plt.figure(figsize = (8,8))\n",
    "sns.heatmap(correlation,cbar=True,square=True,fmt='.2f',annot=True,annot_kws={'size':8 })"
   ]
  },
  {
   "cell_type": "code",
   "execution_count": 11,
   "id": "5c89aaa7",
   "metadata": {
    "execution": {
     "iopub.execute_input": "2023-12-29T17:44:03.684063Z",
     "iopub.status.busy": "2023-12-29T17:44:03.683370Z",
     "iopub.status.idle": "2023-12-29T17:44:03.692468Z",
     "shell.execute_reply": "2023-12-29T17:44:03.691191Z"
    },
    "papermill": {
     "duration": 0.026035,
     "end_time": "2023-12-29T17:44:03.695203",
     "exception": false,
     "start_time": "2023-12-29T17:44:03.669168",
     "status": "completed"
    },
    "tags": []
   },
   "outputs": [
    {
     "data": {
      "text/plain": [
       "SPX        0.049345\n",
       "GLD        1.000000\n",
       "USO       -0.186360\n",
       "SLV        0.866632\n",
       "EUR/USD   -0.024375\n",
       "Name: GLD, dtype: float64"
      ]
     },
     "execution_count": 11,
     "metadata": {},
     "output_type": "execute_result"
    }
   ],
   "source": [
    "correlation['GLD']"
   ]
  },
  {
   "cell_type": "code",
   "execution_count": 12,
   "id": "dd0a08c3",
   "metadata": {
    "execution": {
     "iopub.execute_input": "2023-12-29T17:44:03.723210Z",
     "iopub.status.busy": "2023-12-29T17:44:03.722755Z",
     "iopub.status.idle": "2023-12-29T17:44:04.219696Z",
     "shell.execute_reply": "2023-12-29T17:44:04.218142Z"
    },
    "papermill": {
     "duration": 0.514715,
     "end_time": "2023-12-29T17:44:04.222726",
     "exception": false,
     "start_time": "2023-12-29T17:44:03.708011",
     "status": "completed"
    },
    "tags": []
   },
   "outputs": [
    {
     "name": "stderr",
     "output_type": "stream",
     "text": [
      "/tmp/ipykernel_20/2135571439.py:2: UserWarning: \n",
      "\n",
      "`distplot` is a deprecated function and will be removed in seaborn v0.14.0.\n",
      "\n",
      "Please adapt your code to use either `displot` (a figure-level function with\n",
      "similar flexibility) or `histplot` (an axes-level function for histograms).\n",
      "\n",
      "For a guide to updating your code to use the new functions, please see\n",
      "https://gist.github.com/mwaskom/de44147ed2974457ad6372750bbe5751\n",
      "\n",
      "  sns.distplot(df['GLD'])\n"
     ]
    },
    {
     "data": {
      "text/plain": [
       "<Axes: xlabel='GLD', ylabel='Density'>"
      ]
     },
     "execution_count": 12,
     "metadata": {},
     "output_type": "execute_result"
    },
    {
     "data": {
      "image/png": "[encoded data removed]",
      "text/plain": [
       "<Figure size 640x480 with 1 Axes>"
      ]
     },
     "metadata": {},
     "output_type": "display_data"
    }
   ],
   "source": [
    "# check distribution of gld\n",
    "sns.distplot(df['GLD'])"
   ]
  },
  {
   "cell_type": "markdown",
   "id": "9c30aeb4",
   "metadata": {
    "papermill": {
     "duration": 0.014539,
     "end_time": "2023-12-29T17:44:04.251468",
     "exception": false,
     "start_time": "2023-12-29T17:44:04.236929",
     "status": "completed"
    },
    "tags": []
   },
   "source": [
    "# splitting data"
   ]
  },
  {
   "cell_type": "code",
   "execution_count": 13,
   "id": "2eb8960a",
   "metadata": {
    "execution": {
     "iopub.execute_input": "2023-12-29T17:44:04.283009Z",
     "iopub.status.busy": "2023-12-29T17:44:04.282574Z",
     "iopub.status.idle": "2023-12-29T17:44:04.289767Z",
     "shell.execute_reply": "2023-12-29T17:44:04.288378Z"
    },
    "papermill": {
     "duration": 0.027183,
     "end_time": "2023-12-29T17:44:04.294104",
     "exception": false,
     "start_time": "2023-12-29T17:44:04.266921",
     "status": "completed"
    },
    "tags": []
   },
   "outputs": [],
   "source": [
    "x = df.drop(['Date','GLD'],axis=1)\n",
    "y = df['GLD']\n"
   ]
  },
  {
   "cell_type": "code",
   "execution_count": 14,
   "id": "e7202f40",
   "metadata": {
    "execution": {
     "iopub.execute_input": "2023-12-29T17:44:04.326738Z",
     "iopub.status.busy": "2023-12-29T17:44:04.325546Z",
     "iopub.status.idle": "2023-12-29T17:44:04.333759Z",
     "shell.execute_reply": "2023-12-29T17:44:04.332308Z"
    },
    "papermill": {
     "duration": 0.027156,
     "end_time": "2023-12-29T17:44:04.336470",
     "exception": false,
     "start_time": "2023-12-29T17:44:04.309314",
     "status": "completed"
    },
    "tags": []
   },
   "outputs": [],
   "source": [
    "x_train , x_test , y_train , y_test = train_test_split(x,y,test_size=.2,random_state=42)"
   ]
  },
  {
   "cell_type": "markdown",
   "id": "9c2e707b",
   "metadata": {
    "papermill": {
     "duration": 0.013514,
     "end_time": "2023-12-29T17:44:04.363525",
     "exception": false,
     "start_time": "2023-12-29T17:44:04.350011",
     "status": "completed"
    },
    "tags": []
   },
   "source": [
    "# train model"
   ]
  },
  {
   "cell_type": "code",
   "execution_count": 15,
   "id": "ddc8c696",
   "metadata": {
    "execution": {
     "iopub.execute_input": "2023-12-29T17:44:04.394344Z",
     "iopub.status.busy": "2023-12-29T17:44:04.393813Z",
     "iopub.status.idle": "2023-12-29T17:44:04.399548Z",
     "shell.execute_reply": "2023-12-29T17:44:04.398332Z"
    },
    "papermill": {
     "duration": 0.024526,
     "end_time": "2023-12-29T17:44:04.402337",
     "exception": false,
     "start_time": "2023-12-29T17:44:04.377811",
     "status": "completed"
    },
    "tags": []
   },
   "outputs": [],
   "source": [
    "    regressor = RandomForestRegressor(n_estimators=100)"
   ]
  },
  {
   "cell_type": "code",
   "execution_count": 16,
   "id": "7e439bf3",
   "metadata": {
    "execution": {
     "iopub.execute_input": "2023-12-29T17:44:04.432066Z",
     "iopub.status.busy": "2023-12-29T17:44:04.431608Z",
     "iopub.status.idle": "2023-12-29T17:44:05.231048Z",
     "shell.execute_reply": "2023-12-29T17:44:05.229684Z"
    },
    "papermill": {
     "duration": 0.817575,
     "end_time": "2023-12-29T17:44:05.233893",
     "exception": false,
     "start_time": "2023-12-29T17:44:04.416318",
     "status": "completed"
    },
    "tags": []
   },
   "outputs": [
    {
     "data": {
      "text/html": [
       "<style>#sk-container-id-1 {color: black;background-color: white;}#sk-container-id-1 pre{padding: 0;}#sk-container-id-1 div.sk-toggleable {background-color: white;}#sk-container-id-1 label.sk-toggleable__label {cursor: pointer;display: block;width: 100%;margin-bottom: 0;padding: 0.3em;box-sizing: border-box;text-align: center;}#sk-container-id-1 label.sk-toggleable__label-arrow:before {content: \"▸\";float: left;margin-right: 0.25em;color: #696969;}#sk-container-id-1 label.sk-toggleable__label-arrow:hover:before {color: black;}#sk-container-id-1 div.sk-estimator:hover label.sk-toggleable__label-arrow:before {color: black;}#sk-container-id-1 div.sk-toggleable__content {max-height: 0;max-width: 0;overflow: hidden;text-align: left;background-color: #f0f8ff;}#sk-container-id-1 div.sk-toggleable__content pre {margin: 0.2em;color: black;border-radius: 0.25em;background-color: #f0f8ff;}#sk-container-id-1 input.sk-toggleable__control:checked~div.sk-toggleable__content {max-height: 200px;max-width: 100%;overflow: auto;}#sk-container-id-1 input.sk-toggleable__control:checked~label.sk-toggleable__label-arrow:before {content: \"▾\";}#sk-container-id-1 div.sk-estimator input.sk-toggleable__control:checked~label.sk-toggleable__label {background-color: #d4ebff;}#sk-container-id-1 div.sk-label input.sk-toggleable__control:checked~label.sk-toggleable__label {background-color: #d4ebff;}#sk-container-id-1 input.sk-hidden--visually {border: 0;clip: rect(1px 1px 1px 1px);clip: rect(1px, 1px, 1px, 1px);height: 1px;margin: -1px;overflow: hidden;padding: 0;position: absolute;width: 1px;}#sk-container-id-1 div.sk-estimator {font-family: monospace;background-color: #f0f8ff;border: 1px dotted black;border-radius: 0.25em;box-sizing: border-box;margin-bottom: 0.5em;}#sk-container-id-1 div.sk-estimator:hover {background-color: #d4ebff;}#sk-container-id-1 div.sk-parallel-item::after {content: \"\";width: 100%;border-bottom: 1px solid gray;flex-grow: 1;}#sk-container-id-1 div.sk-label:hover label.sk-toggleable__label {background-color: #d4ebff;}#sk-container-id-1 div.sk-serial::before {content: \"\";position: absolute;border-left: 1px solid gray;box-sizing: border-box;top: 0;bottom: 0;left: 50%;z-index: 0;}#sk-container-id-1 div.sk-serial {display: flex;flex-direction: column;align-items: center;background-color: white;padding-right: 0.2em;padding-left: 0.2em;position: relative;}#sk-container-id-1 div.sk-item {position: relative;z-index: 1;}#sk-container-id-1 div.sk-parallel {display: flex;align-items: stretch;justify-content: center;background-color: white;position: relative;}#sk-container-id-1 div.sk-item::before, #sk-container-id-1 div.sk-parallel-item::before {content: \"\";position: absolute;border-left: 1px solid gray;box-sizing: border-box;top: 0;bottom: 0;left: 50%;z-index: -1;}#sk-container-id-1 div.sk-parallel-item {display: flex;flex-direction: column;z-index: 1;position: relative;background-color: white;}#sk-container-id-1 div.sk-parallel-item:first-child::after {align-self: flex-end;width: 50%;}#sk-container-id-1 div.sk-parallel-item:last-child::after {align-self: flex-start;width: 50%;}#sk-container-id-1 div.sk-parallel-item:only-child::after {width: 0;}#sk-container-id-1 div.sk-dashed-wrapped {border: 1px dashed gray;margin: 0 0.4em 0.5em 0.4em;box-sizing: border-box;padding-bottom: 0.4em;background-color: white;}#sk-container-id-1 div.sk-label label {font-family: monospace;font-weight: bold;display: inline-block;line-height: 1.2em;}#sk-container-id-1 div.sk-label-container {text-align: center;}#sk-container-id-1 div.sk-container {/* jupyter's `normalize.less` sets `[hidden] { display: none; }` but bootstrap.min.css set `[hidden] { display: none !important; }` so we also need the `!important` here to be able to override the default hidden behavior on the sphinx rendered scikit-learn.org. See: https://github.com/scikit-learn/scikit-learn/issues/21755 */display: inline-block !important;position: relative;}#sk-container-id-1 div.sk-text-repr-fallback {display: none;}</style><div id=\"sk-container-id-1\" class=\"sk-top-container\"><div class=\"sk-text-repr-fallback\"><pre>RandomForestRegressor()</pre><b>In a Jupyter environment, please rerun this cell to show the HTML representation or trust the notebook. <br />On GitHub, the HTML representation is unable to render, please try loading this page with nbviewer.org.</b></div><div class=\"sk-container\" hidden><div class=\"sk-item\"><div class=\"sk-estimator sk-toggleable\"><input class=\"sk-toggleable__control sk-hidden--visually\" id=\"sk-estimator-id-1\" type=\"checkbox\" checked><label for=\"sk-estimator-id-1\" class=\"sk-toggleable__label sk-toggleable__label-arrow\">RandomForestRegressor</label><div class=\"sk-toggleable__content\"><pre>RandomForestRegressor()</pre></div></div></div></div></div>"
      ],
      "text/plain": [
       "RandomForestRegressor()"
      ]
     },
     "execution_count": 16,
     "metadata": {},
     "output_type": "execute_result"
    }
   ],
   "source": [
    "regressor.fit(x_train,y_train)"
   ]
  },
  {
   "cell_type": "markdown",
   "id": "93d4b1a8",
   "metadata": {
    "papermill": {
     "duration": 0.014311,
     "end_time": "2023-12-29T17:44:05.326853",
     "exception": false,
     "start_time": "2023-12-29T17:44:05.312542",
     "status": "completed"
    },
    "tags": []
   },
   "source": [
    "# model evaluation"
   ]
  },
  {
   "cell_type": "code",
   "execution_count": 17,
   "id": "53a2c2e1",
   "metadata": {
    "execution": {
     "iopub.execute_input": "2023-12-29T17:44:05.357417Z",
     "iopub.status.busy": "2023-12-29T17:44:05.356991Z",
     "iopub.status.idle": "2023-12-29T17:44:05.381444Z",
     "shell.execute_reply": "2023-12-29T17:44:05.380362Z"
    },
    "papermill": {
     "duration": 0.042682,
     "end_time": "2023-12-29T17:44:05.384200",
     "exception": false,
     "start_time": "2023-12-29T17:44:05.341518",
     "status": "completed"
    },
    "tags": []
   },
   "outputs": [],
   "source": [
    "test_pred = regressor.predict(x_test)"
   ]
  },
  {
   "cell_type": "code",
   "execution_count": 18,
   "id": "f12f4285",
   "metadata": {
    "execution": {
     "iopub.execute_input": "2023-12-29T17:44:05.414517Z",
     "iopub.status.busy": "2023-12-29T17:44:05.414080Z",
     "iopub.status.idle": "2023-12-29T17:44:05.427343Z",
     "shell.execute_reply": "2023-12-29T17:44:05.426136Z"
    },
    "papermill": {
     "duration": 0.031346,
     "end_time": "2023-12-29T17:44:05.430055",
     "exception": false,
     "start_time": "2023-12-29T17:44:05.398709",
     "status": "completed"
    },
    "tags": []
   },
   "outputs": [
    {
     "data": {
      "text/plain": [
       "array([122.46209912, 130.10720299, 127.58769954,  96.85829743,\n",
       "       118.65200101, 114.56209957, 124.76360148, 117.90339962,\n",
       "       107.98050098,  98.29869941,  95.51809948, 167.15939808,\n",
       "       149.55520093, 116.18950096, 170.73370109,  85.34819987,\n",
       "       123.23589883, 109.27489721, 113.2087009 , 131.78690314,\n",
       "       124.32939896, 113.50330086, 115.85150091, 108.77839997,\n",
       "       108.49420153, 125.72729937, 119.07969967, 112.51849906,\n",
       "       113.26140103, 125.38979913, 145.72940074,  89.68080012,\n",
       "       167.66079986, 113.84829927, 108.42960114, 120.34550093,\n",
       "       142.17669936, 161.39450187, 174.11069803, 153.29960138,\n",
       "       118.93700115, 113.39260079, 121.37389962, 113.8322995 ,\n",
       "       121.94753787, 107.98280094,  88.5403991 , 114.36679947,\n",
       "       129.61260224, 117.91600074, 104.03740033, 129.6503024 ,\n",
       "       107.05649842, 160.78940267, 131.45190056, 118.28029945,\n",
       "       146.87800129, 136.12110157,  95.61570116, 124.75650138,\n",
       "       115.27929871,  86.1750009 , 104.3344992 , 113.72750101,\n",
       "        84.30499939, 122.15640011, 116.65429901, 113.72770213,\n",
       "       164.89010296,  92.09970033,  80.25390087, 161.04330055,\n",
       "       159.05370191, 106.83799981, 148.76490129, 109.7209974 ,\n",
       "       122.49760033, 128.49200156, 113.19989889, 120.1523008 ,\n",
       "       135.72379769, 107.34780071,  93.81810096,  92.67489844,\n",
       "       111.39240064, 118.74109974, 108.64019962, 112.23369971,\n",
       "       168.61919971, 160.94029915, 107.7736987 , 125.20030015,\n",
       "       108.03830053, 115.37170216, 126.78689818, 108.46579929,\n",
       "       162.98880241,  83.97109861, 131.59600332, 114.75829957,\n",
       "       155.97020042, 110.47109827, 113.79290001, 107.57409984,\n",
       "       138.26669968,  88.33499966,  92.41959916, 175.00310151,\n",
       "       119.0469007 , 118.62710035, 121.26600063, 171.42369864,\n",
       "       131.35360075, 119.53490018, 157.72700232, 118.86299828,\n",
       "       119.25149984, 110.83809966, 119.69719924, 122.12590029,\n",
       "       128.85399896, 114.77509983,  89.31079927, 114.23100136,\n",
       "       131.47999905, 115.41850134, 125.09459989,  91.01260013,\n",
       "       106.90910064, 117.1888011 , 109.61649923, 166.29870212,\n",
       "        80.64290078, 121.95861341,  73.31910159, 111.25849942,\n",
       "        99.97380069, 124.15150016,  76.4143999 , 125.03469911,\n",
       "       119.7631004 , 105.61170011,  90.5611994 , 132.33189992,\n",
       "       137.3479016 , 176.00939971, 126.67169911, 126.90789885,\n",
       "       123.92459971,  92.0884987 , 149.4083012 , 102.88559894,\n",
       "       117.53389995, 133.61059853, 135.55299948, 118.0755002 ,\n",
       "       117.07100153, 102.22419801, 124.09449864,  89.34589996,\n",
       "       108.1783992 , 117.39220045, 167.98220108, 117.02490141,\n",
       "       118.15159969, 155.45610166, 111.27099997,  87.29589905,\n",
       "       116.48690123, 124.39519926, 120.50800218, 118.2518001 ,\n",
       "        96.67939867, 109.45159985, 115.05779934, 127.38200102,\n",
       "       155.99450081, 107.9912013 , 124.19639874, 139.52910197,\n",
       "        91.03280071, 118.21590099, 130.99740136, 113.94929927,\n",
       "       108.35619933, 119.19010048, 127.93040087, 125.11630097,\n",
       "       145.99390165, 112.43800056,  93.74850035, 114.99169999,\n",
       "       125.56720051, 120.45760118, 122.17450077,  92.49540094,\n",
       "       120.96659869,  93.1461    , 119.33030036, 124.46610038,\n",
       "       121.92870046, 131.55190071, 124.38139912, 115.06140081,\n",
       "       127.46200055, 113.23850065, 165.37109917, 122.31509796,\n",
       "       119.8812018 , 113.66830002, 120.04379955, 120.13829974,\n",
       "       105.91010077, 116.55160089, 125.76279874, 172.12059819,\n",
       "        85.68309973, 134.60379811, 127.80309829,  73.52890074,\n",
       "       119.09259956,  88.9362999 , 163.45560195,  92.04380003,\n",
       "       159.15460138, 102.25889851, 103.14129939, 102.49249863,\n",
       "       118.50469911, 165.47780073, 120.18000123, 136.30299805,\n",
       "        96.72949827, 112.92619907, 132.28680156, 145.38329964,\n",
       "       125.90970007, 101.58659978, 125.37450041, 160.27650098,\n",
       "       120.00680114, 126.44940048, 127.55420084, 115.41119949,\n",
       "       156.62460186, 128.90260005, 114.0788994 , 176.66869945,\n",
       "       119.84910189, 119.16520134, 102.73979865, 160.86789985,\n",
       "       114.7754011 , 118.35459939, 125.59489934, 116.84050091,\n",
       "       114.67419976,  90.89249953, 101.44569961, 132.07259962,\n",
       "       118.75710213, 167.40609904, 107.92410117,  86.36640047,\n",
       "        91.7711995 , 156.11859959, 159.26660066, 153.06799903,\n",
       "        72.8553999 , 120.80130037, 117.25990031, 158.01639909,\n",
       "       135.40199899, 111.81579989, 113.66309998, 160.57870133,\n",
       "       125.60379928, 119.90200087, 117.87679995, 157.65680249,\n",
       "       103.99749977,  89.15549928,  83.40229938,  90.1543991 ,\n",
       "       115.51159989, 113.59419976, 119.71480071, 119.70060063,\n",
       "        79.76950017,  90.79670066, 153.57970346, 119.43600066,\n",
       "       132.1073996 , 126.73990077, 113.62520098,  82.73380083,\n",
       "       118.12959846,  89.81590012, 117.90289999, 163.16560261,\n",
       "       121.20870067, 110.65629996, 125.4164986 , 114.52120016,\n",
       "       135.96870047,  79.98100076, 163.72069931, 132.64400038,\n",
       "       164.12999997, 127.69209911,  91.697899  , 108.26689928,\n",
       "       114.18949931, 127.77920115, 119.36150195,  92.45729942,\n",
       "       132.02519951, 162.78160055,  72.48050168, 111.93620013,\n",
       "       108.67979986, 113.62359827, 120.55890086, 111.84659992,\n",
       "       120.66179976, 118.68050177, 126.28950072, 125.46740081,\n",
       "       109.23319979, 167.65350008, 166.96839897, 112.27569921,\n",
       "       169.38609717, 111.97090036, 161.56270232, 127.29869875,\n",
       "       167.70409915, 135.63890171, 109.27289883, 167.54479965,\n",
       "       116.53250151,  72.69850119, 113.59310014,  93.32949975,\n",
       "        87.85570032, 104.09599886, 125.80090048, 123.3258977 ,\n",
       "       166.90439943, 121.65880017,  87.24449889, 132.03899832,\n",
       "       121.72100034, 107.79479929, 168.39599981, 126.07689767,\n",
       "       127.1826013 , 113.35950088, 135.79990084, 125.1418011 ,\n",
       "       144.17769926, 123.27949948, 118.18650034, 120.82840003,\n",
       "       166.91840005,  71.73960033, 163.77439994, 166.35429874,\n",
       "       118.34310033, 103.89339834, 127.82399927, 154.3386008 ,\n",
       "       172.01190028, 135.78389687, 126.90160015, 124.55590039,\n",
       "       151.43149875,  87.70399987, 130.80160167, 111.02460079,\n",
       "       165.25569999, 156.76549849, 165.75420071, 121.60750028,\n",
       "        90.18440045, 132.41060177,  99.58389955, 127.50189876,\n",
       "       127.79299753, 108.63489926,  90.96079869, 153.2016008 ,\n",
       "        94.93159897,  87.85039923, 124.94839927,  87.15949818,\n",
       "        94.459201  , 113.68989991, 156.27830312, 148.53240167,\n",
       "       105.35990015, 166.33179722, 111.11809988, 128.31510076,\n",
       "        90.64419983, 109.63949942,  76.60710145, 110.5991996 ,\n",
       "       162.85489952, 155.12779853, 152.22210148, 161.90270064,\n",
       "        92.13919859, 117.72410124,  93.74710105, 130.05900017,\n",
       "       117.47590029, 117.42000003, 124.42830004, 120.72609991,\n",
       "        97.82029946, 167.25000167, 145.46620169, 124.47819889,\n",
       "       168.8848984 ,  83.90690004, 166.26439774, 130.22870304,\n",
       "       119.72460204,  88.54860011, 120.04579885,  83.85199865,\n",
       "       118.6124013 , 113.61449909, 116.68929925, 153.63969825,\n",
       "       134.60640414, 118.45140127, 118.94339787, 123.16469865,\n",
       "       115.56690118, 118.62839984, 122.07400094, 146.49150037,\n",
       "       150.55970076, 168.54590044,  98.06169921, 160.2339996 ,\n",
       "        93.19730003, 139.67359963, 121.33380063,  84.185599  ,\n",
       "       106.42549979, 123.77689982, 169.2007973 ,  93.72839887,\n",
       "        96.41340073, 152.69690058])"
      ]
     },
     "execution_count": 18,
     "metadata": {},
     "output_type": "execute_result"
    }
   ],
   "source": [
    "test_pred"
   ]
  },
  {
   "cell_type": "code",
   "execution_count": 19,
   "id": "829f4fdd",
   "metadata": {
    "execution": {
     "iopub.execute_input": "2023-12-29T17:44:05.461986Z",
     "iopub.status.busy": "2023-12-29T17:44:05.461547Z",
     "iopub.status.idle": "2023-12-29T17:44:05.467689Z",
     "shell.execute_reply": "2023-12-29T17:44:05.466620Z"
    },
    "papermill": {
     "duration": 0.025459,
     "end_time": "2023-12-29T17:44:05.470489",
     "exception": false,
     "start_time": "2023-12-29T17:44:05.445030",
     "status": "completed"
    },
    "tags": []
   },
   "outputs": [],
   "source": [
    "erorr_score = metrics.r2_score(y_test,test_pred)"
   ]
  },
  {
   "cell_type": "code",
   "execution_count": 20,
   "id": "1c84e43f",
   "metadata": {
    "execution": {
     "iopub.execute_input": "2023-12-29T17:44:05.501921Z",
     "iopub.status.busy": "2023-12-29T17:44:05.500697Z",
     "iopub.status.idle": "2023-12-29T17:44:05.508438Z",
     "shell.execute_reply": "2023-12-29T17:44:05.507358Z"
    },
    "papermill": {
     "duration": 0.025912,
     "end_time": "2023-12-29T17:44:05.510780",
     "exception": false,
     "start_time": "2023-12-29T17:44:05.484868",
     "status": "completed"
    },
    "tags": []
   },
   "outputs": [
    {
     "data": {
      "text/plain": [
       "0.9898421726466716"
      ]
     },
     "execution_count": 20,
     "metadata": {},
     "output_type": "execute_result"
    }
   ],
   "source": [
    "erorr_score"
   ]
  },
  {
   "cell_type": "code",
   "execution_count": 21,
   "id": "1935fec9",
   "metadata": {
    "execution": {
     "iopub.execute_input": "2023-12-29T17:44:05.542469Z",
     "iopub.status.busy": "2023-12-29T17:44:05.541680Z",
     "iopub.status.idle": "2023-12-29T17:44:05.547386Z",
     "shell.execute_reply": "2023-12-29T17:44:05.546020Z"
    },
    "papermill": {
     "duration": 0.024678,
     "end_time": "2023-12-29T17:44:05.550134",
     "exception": false,
     "start_time": "2023-12-29T17:44:05.525456",
     "status": "completed"
    },
    "tags": []
   },
   "outputs": [],
   "source": [
    "y_test = list(y_test)"
   ]
  },
  {
   "cell_type": "code",
   "execution_count": 22,
   "id": "9ec1ebf3",
   "metadata": {
    "execution": {
     "iopub.execute_input": "2023-12-29T17:44:05.580661Z",
     "iopub.status.busy": "2023-12-29T17:44:05.580228Z",
     "iopub.status.idle": "2023-12-29T17:44:05.919160Z",
     "shell.execute_reply": "2023-12-29T17:44:05.918213Z"
    },
    "papermill": {
     "duration": 0.357125,
     "end_time": "2023-12-29T17:44:05.921625",
     "exception": false,
     "start_time": "2023-12-29T17:44:05.564500",
     "status": "completed"
    },
    "tags": []
   },
   "outputs": [
    {
     "data": {
      "text/plain": [
       "[<matplotlib.lines.Line2D at 0x7f47e2d16860>]"
      ]
     },
     "execution_count": 22,
     "metadata": {},
     "output_type": "execute_result"
    },
    {
     "data": {
      "image/png": "[encoded data removed]",
      "text/plain": [
       "<Figure size 640x480 with 1 Axes>"
      ]
     },
     "metadata": {},
     "output_type": "display_data"
    }
   ],
   "source": [
    "plt.plot(y_test , color = 'blue',label ='Actual Values')\n",
    "plt.plot(test_pred , color = 'red',label ='preds Values')"
   ]
  },
  {
   "cell_type": "code",
   "execution_count": null,
   "id": "e57eaee5",
   "metadata": {
    "papermill": {
     "duration": 0.017155,
     "end_time": "2023-12-29T17:44:05.956073",
     "exception": false,
     "start_time": "2023-12-29T17:44:05.938918",
     "status": "completed"
    },
    "tags": []
   },
   "outputs": [],
   "source": []
  }
 ],
 "metadata": {
  "kaggle": {
   "accelerator": "none",
   "dataSources": [
    {
     "datasetId": 145424,
     "sourceId": 339411,
     "sourceType": "datasetVersion"
    }
   ],
   "dockerImageVersionId": 30558,
   "isGpuEnabled": false,
   "isInternetEnabled": true,
   "language": "python",
   "sourceType": "notebook"
  },
  "kernelspec": {
   "display_name": "Python 3",
   "language": "python",
   "name": "python3"
  },
  "language_info": {
   "codemirror_mode": {
    "name": "ipython",
    "version": 3
   },
   "file_extension": ".py",
   "mimetype": "text/x-python",
   "name": "python",
   "nbconvert_exporter": "python",
   "pygments_lexer": "ipython3",
   "version": "3.10.12"
  },
  "papermill": {
   "default_parameters": {},
   "duration": 12.663078,
   "end_time": "2023-12-29T17:44:06.696933",
   "environment_variables": {},
   "exception": null,
   "input_path": "__notebook__.ipynb",
   "output_path": "__notebook__.ipynb",
   "parameters": {},
   "start_time": "2023-12-29T17:43:54.033855",
   "version": "2.4.0"
  }
 },
 "nbformat": 4,
 "nbformat_minor": 5
}
